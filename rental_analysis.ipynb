{
 "cells": [
  {
   "cell_type": "markdown",
   "metadata": {},
   "source": [
    "# San Francisco Housing Cost Analysis\n",
    "\n",
    "In this assignment, you will perform fundamental analysis for the San Francisco housing market to allow potential real estate investors to choose rental investment properties."
   ]
  },
  {
   "cell_type": "code",
   "execution_count": 80,
   "metadata": {},
   "outputs": [],
   "source": [
    "# imports\n",
    "import panel as pn\n",
    "pn.extension('plotly')\n",
    "import plotly.express as px\n",
    "import pandas as pd\n",
    "import hvplot.pandas\n",
    "import matplotlib.pyplot as plt\n",
    "import numpy as np\n",
    "import os\n",
    "from pathlib import Path\n",
    "from dotenv import load_dotenv\n",
    "\n",
    "import warnings\n",
    "warnings.filterwarnings('ignore')"
   ]
  },
  {
   "cell_type": "code",
   "execution_count": 81,
   "metadata": {},
   "outputs": [
    {
     "data": {
      "text/plain": [
       "True"
      ]
     },
     "execution_count": 81,
     "metadata": {},
     "output_type": "execute_result"
    }
   ],
   "source": [
    "load_dotenv()"
   ]
  },
  {
   "cell_type": "code",
   "execution_count": 262,
   "metadata": {},
   "outputs": [],
   "source": [
    "# Read the Mapbox API key\n",
    "map_box_api = os.getenv(\"mapbox\")"
   ]
  },
  {
   "cell_type": "markdown",
   "metadata": {},
   "source": [
    "## Load Data"
   ]
  },
  {
   "cell_type": "code",
   "execution_count": 83,
   "metadata": {},
   "outputs": [
    {
     "data": {
      "text/html": [
       "<div>\n",
       "<style scoped>\n",
       "    .dataframe tbody tr th:only-of-type {\n",
       "        vertical-align: middle;\n",
       "    }\n",
       "\n",
       "    .dataframe tbody tr th {\n",
       "        vertical-align: top;\n",
       "    }\n",
       "\n",
       "    .dataframe thead th {\n",
       "        text-align: right;\n",
       "    }\n",
       "</style>\n",
       "<table border=\"1\" class=\"dataframe\">\n",
       "  <thead>\n",
       "    <tr style=\"text-align: right;\">\n",
       "      <th></th>\n",
       "      <th>neighborhood</th>\n",
       "      <th>sale_price_sqr_foot</th>\n",
       "      <th>housing_units</th>\n",
       "      <th>gross_rent</th>\n",
       "    </tr>\n",
       "    <tr>\n",
       "      <th>year</th>\n",
       "      <th></th>\n",
       "      <th></th>\n",
       "      <th></th>\n",
       "      <th></th>\n",
       "    </tr>\n",
       "  </thead>\n",
       "  <tbody>\n",
       "    <tr>\n",
       "      <th>2010</th>\n",
       "      <td>Alamo Square</td>\n",
       "      <td>291.182945</td>\n",
       "      <td>372560</td>\n",
       "      <td>1239</td>\n",
       "    </tr>\n",
       "    <tr>\n",
       "      <th>2010</th>\n",
       "      <td>Anza Vista</td>\n",
       "      <td>267.932583</td>\n",
       "      <td>372560</td>\n",
       "      <td>1239</td>\n",
       "    </tr>\n",
       "    <tr>\n",
       "      <th>2010</th>\n",
       "      <td>Bayview</td>\n",
       "      <td>170.098665</td>\n",
       "      <td>372560</td>\n",
       "      <td>1239</td>\n",
       "    </tr>\n",
       "    <tr>\n",
       "      <th>2010</th>\n",
       "      <td>Buena Vista Park</td>\n",
       "      <td>347.394919</td>\n",
       "      <td>372560</td>\n",
       "      <td>1239</td>\n",
       "    </tr>\n",
       "    <tr>\n",
       "      <th>2010</th>\n",
       "      <td>Central Richmond</td>\n",
       "      <td>319.027623</td>\n",
       "      <td>372560</td>\n",
       "      <td>1239</td>\n",
       "    </tr>\n",
       "  </tbody>\n",
       "</table>\n",
       "</div>"
      ],
      "text/plain": [
       "          neighborhood  sale_price_sqr_foot  housing_units  gross_rent\n",
       "year                                                                  \n",
       "2010      Alamo Square           291.182945         372560        1239\n",
       "2010        Anza Vista           267.932583         372560        1239\n",
       "2010           Bayview           170.098665         372560        1239\n",
       "2010  Buena Vista Park           347.394919         372560        1239\n",
       "2010  Central Richmond           319.027623         372560        1239"
      ]
     },
     "execution_count": 83,
     "metadata": {},
     "output_type": "execute_result"
    }
   ],
   "source": [
    "# Read the census data into a Pandas DataFrame\n",
    "file_path = Path(\"Data/sfo_neighborhoods_census_data.csv\")\n",
    "sfo_data = pd.read_csv(file_path, index_col=\"year\")\n",
    "sfo_data.head()"
   ]
  },
  {
   "cell_type": "markdown",
   "metadata": {},
   "source": [
    "- - - "
   ]
  },
  {
   "cell_type": "markdown",
   "metadata": {},
   "source": [
    "## Housing Units Per Year\n",
    "\n",
    "In this section, you will calculate the number of housing units per year and visualize the results as a bar chart using the Pandas plot function.\n",
    "\n",
    "**Hint:** Use the Pandas `groupby` function.\n",
    "\n",
    "**Optional challenge:** Use the min, max, and std to scale the y limits of the chart.\n",
    "\n"
   ]
  },
  {
   "cell_type": "code",
   "execution_count": 84,
   "metadata": {},
   "outputs": [
    {
     "data": {
      "text/plain": [
       "year\n",
       "2010    372560\n",
       "2011    374507\n",
       "2012    376454\n",
       "2013    378401\n",
       "2014    380348\n",
       "2015    382295\n",
       "2016    384242\n",
       "Name: housing_units, dtype: int64"
      ]
     },
     "execution_count": 84,
     "metadata": {},
     "output_type": "execute_result"
    }
   ],
   "source": [
    "# Calculate the mean number of housing units per year (hint: use groupby) \n",
    "housing_units = sfo_data['housing_units'].groupby('year').mean()\n",
    "housing_units"
   ]
  },
  {
   "cell_type": "code",
   "execution_count": 85,
   "metadata": {},
   "outputs": [],
   "source": [
    "# Save the dataframe as a csv file\n",
    "housing_units.to_csv('housing_units_data.csv', index=False)"
   ]
  },
  {
   "cell_type": "code",
   "execution_count": 86,
   "metadata": {},
   "outputs": [
    {
     "data": {
      "text/plain": [
       "372560"
      ]
     },
     "execution_count": 86,
     "metadata": {},
     "output_type": "execute_result"
    }
   ],
   "source": [
    "hu_min = housing_units.min()\n",
    "hu_min"
   ]
  },
  {
   "cell_type": "code",
   "execution_count": 87,
   "metadata": {},
   "outputs": [
    {
     "data": {
      "text/plain": [
       "384242"
      ]
     },
     "execution_count": 87,
     "metadata": {},
     "output_type": "execute_result"
    }
   ],
   "source": [
    "hu_max = housing_units.max()\n",
    "hu_max"
   ]
  },
  {
   "cell_type": "code",
   "execution_count": 88,
   "metadata": {},
   "outputs": [
    {
     "data": {
      "text/plain": [
       "4206.0007132667015"
      ]
     },
     "execution_count": 88,
     "metadata": {},
     "output_type": "execute_result"
    }
   ],
   "source": [
    "hu_std = housing_units.std()\n",
    "hu_std"
   ]
  },
  {
   "cell_type": "code",
   "execution_count": 89,
   "metadata": {},
   "outputs": [
    {
     "data": {},
     "metadata": {},
     "output_type": "display_data"
    },
    {
     "data": {
      "application/vnd.holoviews_exec.v0+json": "",
      "text/html": [
       "<div id='3668'>\n",
       "\n",
       "\n",
       "\n",
       "\n",
       "\n",
       "  <div class=\"bk-root\" id=\"3387f38a-e48a-45bc-9862-6106f79606f5\" data-root-id=\"3668\"></div>\n",
       "</div>\n",
       "<script type=\"application/javascript\">(function(root) {\n",
       "  function embed_document(root) {\n",
       "    var docs_json = {\"78dbe873-39af-40d3-94a4-e1e4b490d320\":{\"defs\":[],\"roots\":{\"references\":[{\"attributes\":{},\"id\":\"3680\",\"type\":\"LinearScale\"},{\"attributes\":{},\"id\":\"3724\",\"type\":\"UnionRenderers\"},{\"attributes\":{\"children\":[{\"id\":\"3669\"},{\"id\":\"3673\"},{\"id\":\"3737\"}],\"margin\":[0,0,0,0],\"name\":\"Row06628\",\"tags\":[\"embedded\"]},\"id\":\"3668\",\"type\":\"Row\"},{\"attributes\":{\"axis_label\":\"year\",\"formatter\":{\"id\":\"3713\"},\"major_label_policy\":{\"id\":\"3712\"},\"ticker\":{\"id\":\"3683\"}},\"id\":\"3682\",\"type\":\"CategoricalAxis\"},{\"attributes\":{\"source\":{\"id\":\"3702\"}},\"id\":\"3709\",\"type\":\"CDSView\"},{\"attributes\":{},\"id\":\"3678\",\"type\":\"CategoricalScale\"},{\"attributes\":{\"data_source\":{\"id\":\"3702\"},\"glyph\":{\"id\":\"3705\"},\"hover_glyph\":null,\"muted_glyph\":{\"id\":\"3707\"},\"nonselection_glyph\":{\"id\":\"3706\"},\"selection_glyph\":{\"id\":\"3710\"},\"view\":{\"id\":\"3709\"}},\"id\":\"3708\",\"type\":\"GlyphRenderer\"},{\"attributes\":{\"fill_color\":{\"value\":\"#30a2da\"},\"top\":{\"field\":\"housing_units\"},\"width\":{\"value\":0.8},\"x\":{\"field\":\"year\"}},\"id\":\"3705\",\"type\":\"VBar\"},{\"attributes\":{\"data\":{\"housing_units\":[372560,374507,376454,378401,380348,382295,384242],\"year\":[\"2010\",\"2011\",\"2012\",\"2013\",\"2014\",\"2015\",\"2016\"]},\"selected\":{\"id\":\"3703\"},\"selection_policy\":{\"id\":\"3724\"}},\"id\":\"3702\",\"type\":\"ColumnDataSource\"},{\"attributes\":{\"fill_alpha\":{\"value\":0.1},\"fill_color\":{\"value\":\"#30a2da\"},\"line_alpha\":{\"value\":0.1},\"top\":{\"field\":\"housing_units\"},\"width\":{\"value\":0.8},\"x\":{\"field\":\"year\"}},\"id\":\"3706\",\"type\":\"VBar\"},{\"attributes\":{\"callback\":null,\"renderers\":[{\"id\":\"3708\"}],\"tags\":[\"hv_created\"],\"tooltips\":[[\"year\",\"@{year}\"],[\"housing_units\",\"@{housing_units}\"]]},\"id\":\"3672\",\"type\":\"HoverTool\"},{\"attributes\":{},\"id\":\"3703\",\"type\":\"Selection\"},{\"attributes\":{\"below\":[{\"id\":\"3682\"}],\"center\":[{\"id\":\"3684\"},{\"id\":\"3688\"}],\"height\":300,\"left\":[{\"id\":\"3685\"}],\"margin\":[5,5,5,5],\"min_border_bottom\":10,\"min_border_left\":10,\"min_border_right\":10,\"min_border_top\":10,\"renderers\":[{\"id\":\"3708\"}],\"sizing_mode\":\"fixed\",\"title\":{\"id\":\"3674\"},\"toolbar\":{\"id\":\"3695\"},\"width\":700,\"x_range\":{\"id\":\"3670\"},\"x_scale\":{\"id\":\"3678\"},\"y_range\":{\"id\":\"3671\"},\"y_scale\":{\"id\":\"3680\"}},\"id\":\"3673\",\"subtype\":\"Figure\",\"type\":\"Plot\"},{\"attributes\":{},\"id\":\"3715\",\"type\":\"BasicTickFormatter\"},{\"attributes\":{},\"id\":\"3690\",\"type\":\"PanTool\"},{\"attributes\":{\"bottom_units\":\"screen\",\"fill_alpha\":0.5,\"fill_color\":\"lightgrey\",\"left_units\":\"screen\",\"level\":\"overlay\",\"line_alpha\":1.0,\"line_color\":\"black\",\"line_dash\":[4,4],\"line_width\":2,\"right_units\":\"screen\",\"syncable\":false,\"top_units\":\"screen\"},\"id\":\"3694\",\"type\":\"BoxAnnotation\"},{\"attributes\":{\"margin\":[5,5,5,5],\"name\":\"HSpacer06633\",\"sizing_mode\":\"stretch_width\"},\"id\":\"3737\",\"type\":\"Spacer\"},{\"attributes\":{\"axis\":{\"id\":\"3682\"},\"grid_line_color\":null,\"ticker\":null},\"id\":\"3684\",\"type\":\"Grid\"},{\"attributes\":{},\"id\":\"3691\",\"type\":\"WheelZoomTool\"},{\"attributes\":{},\"id\":\"3683\",\"type\":\"CategoricalTicker\"},{\"attributes\":{},\"id\":\"3712\",\"type\":\"AllLabels\"},{\"attributes\":{\"fill_alpha\":{\"value\":0.2},\"fill_color\":{\"value\":\"#30a2da\"},\"line_alpha\":{\"value\":0.2},\"top\":{\"field\":\"housing_units\"},\"width\":{\"value\":0.8},\"x\":{\"field\":\"year\"}},\"id\":\"3707\",\"type\":\"VBar\"},{\"attributes\":{\"end\":385410.2,\"reset_end\":385410.2,\"reset_start\":0.0,\"tags\":[[[\"housing_units\",\"housing_units\",null]]]},\"id\":\"3671\",\"type\":\"Range1d\"},{\"attributes\":{},\"id\":\"3713\",\"type\":\"CategoricalTickFormatter\"},{\"attributes\":{\"overlay\":{\"id\":\"3694\"}},\"id\":\"3692\",\"type\":\"BoxZoomTool\"},{\"attributes\":{},\"id\":\"3714\",\"type\":\"AllLabels\"},{\"attributes\":{},\"id\":\"3689\",\"type\":\"SaveTool\"},{\"attributes\":{\"bottom\":{\"value\":0},\"fill_alpha\":{\"value\":1.0},\"fill_color\":{\"value\":\"#30a2da\"},\"hatch_alpha\":{\"value\":1.0},\"hatch_color\":{\"value\":\"black\"},\"hatch_scale\":{\"value\":12.0},\"hatch_weight\":{\"value\":1.0},\"line_alpha\":{\"value\":1.0},\"line_cap\":{\"value\":\"butt\"},\"line_color\":{\"value\":\"black\"},\"line_dash\":{\"value\":[]},\"line_dash_offset\":{\"value\":0},\"line_join\":{\"value\":\"bevel\"},\"line_width\":{\"value\":1},\"top\":{\"field\":\"housing_units\"},\"width\":{\"value\":0.8},\"x\":{\"field\":\"year\"}},\"id\":\"3710\",\"type\":\"VBar\"},{\"attributes\":{\"axis_label\":\"\",\"formatter\":{\"id\":\"3715\"},\"major_label_policy\":{\"id\":\"3714\"},\"ticker\":{\"id\":\"3686\"}},\"id\":\"3685\",\"type\":\"LinearAxis\"},{\"attributes\":{\"factors\":[\"2010\",\"2011\",\"2012\",\"2013\",\"2014\",\"2015\",\"2016\"],\"tags\":[[[\"year\",\"year\",null]]]},\"id\":\"3670\",\"type\":\"FactorRange\"},{\"attributes\":{},\"id\":\"3686\",\"type\":\"BasicTicker\"},{\"attributes\":{\"active_multi\":null,\"tools\":[{\"id\":\"3672\"},{\"id\":\"3689\"},{\"id\":\"3690\"},{\"id\":\"3691\"},{\"id\":\"3692\"},{\"id\":\"3693\"}]},\"id\":\"3695\",\"type\":\"Toolbar\"},{\"attributes\":{},\"id\":\"3693\",\"type\":\"ResetTool\"},{\"attributes\":{\"text\":\"housing_units\",\"text_color\":\"black\",\"text_font_size\":\"12pt\"},\"id\":\"3674\",\"type\":\"Title\"},{\"attributes\":{\"axis\":{\"id\":\"3685\"},\"dimension\":1,\"grid_line_color\":null,\"ticker\":null},\"id\":\"3688\",\"type\":\"Grid\"},{\"attributes\":{\"margin\":[5,5,5,5],\"name\":\"HSpacer06632\",\"sizing_mode\":\"stretch_width\"},\"id\":\"3669\",\"type\":\"Spacer\"}],\"root_ids\":[\"3668\"]},\"title\":\"Bokeh Application\",\"version\":\"2.3.1\"}};\n",
       "    var render_items = [{\"docid\":\"78dbe873-39af-40d3-94a4-e1e4b490d320\",\"root_ids\":[\"3668\"],\"roots\":{\"3668\":\"3387f38a-e48a-45bc-9862-6106f79606f5\"}}];\n",
       "    root.Bokeh.embed.embed_items_notebook(docs_json, render_items);\n",
       "  }\n",
       "  if (root.Bokeh !== undefined && root.Bokeh.Panel !== undefined && root['Plotly'] !== undefined ) {\n",
       "    embed_document(root);\n",
       "  } else {\n",
       "    var attempts = 0;\n",
       "    var timer = setInterval(function(root) {\n",
       "      if (root.Bokeh !== undefined && root.Bokeh.Panel !== undefined && root['Plotly'] !== undefined) {\n",
       "        clearInterval(timer);\n",
       "        embed_document(root);\n",
       "      } else if (document.readyState == \"complete\") {\n",
       "        attempts++;\n",
       "        if (attempts > 100) {\n",
       "          clearInterval(timer);\n",
       "          console.log(\"Bokeh: ERROR: Unable to run BokehJS code because BokehJS library is missing\");\n",
       "        }\n",
       "      }\n",
       "    }, 10, root)\n",
       "  }\n",
       "})(window);</script>"
      ],
      "text/plain": [
       ":Bars   [year]   (housing_units)"
      ]
     },
     "execution_count": 89,
     "metadata": {
      "application/vnd.holoviews_exec.v0+json": {
       "id": "3668"
      }
     },
     "output_type": "execute_result"
    }
   ],
   "source": [
    "housing_units.hvplot.bar()"
   ]
  },
  {
   "cell_type": "code",
   "execution_count": 75,
   "metadata": {},
   "outputs": [
    {
     "data": {},
     "metadata": {},
     "output_type": "display_data"
    },
    {
     "data": {
      "application/vnd.holoviews_exec.v0+json": "",
      "text/html": [
       "<div id='3549'>\n",
       "\n",
       "\n",
       "\n",
       "\n",
       "\n",
       "  <div class=\"bk-root\" id=\"e90a4cf2-ce27-41c4-a24c-e7cdb56ee083\" data-root-id=\"3549\"></div>\n",
       "</div>\n",
       "<script type=\"application/javascript\">(function(root) {\n",
       "  function embed_document(root) {\n",
       "    var docs_json = {\"27885f4f-75a9-4022-916c-f063f85073a8\":{\"defs\":[],\"roots\":{\"references\":[{\"attributes\":{\"axis\":{\"id\":\"3563\"},\"grid_line_color\":null,\"ticker\":null},\"id\":\"3565\",\"type\":\"Grid\"},{\"attributes\":{\"active_multi\":null,\"tools\":[{\"id\":\"3553\"},{\"id\":\"3570\"},{\"id\":\"3571\"},{\"id\":\"3572\"},{\"id\":\"3573\"},{\"id\":\"3574\"}]},\"id\":\"3576\",\"type\":\"Toolbar\"},{\"attributes\":{\"overlay\":{\"id\":\"3575\"}},\"id\":\"3573\",\"type\":\"BoxZoomTool\"},{\"attributes\":{\"axis_label\":\"Year\",\"formatter\":{\"id\":\"3595\"},\"major_label_policy\":{\"id\":\"3594\"},\"ticker\":{\"id\":\"3564\"}},\"id\":\"3563\",\"type\":\"CategoricalAxis\"},{\"attributes\":{},\"id\":\"3559\",\"type\":\"CategoricalScale\"},{\"attributes\":{},\"id\":\"3561\",\"type\":\"LinearScale\"},{\"attributes\":{},\"id\":\"3564\",\"type\":\"CategoricalTicker\"},{\"attributes\":{\"children\":[{\"id\":\"3550\"},{\"id\":\"3554\"},{\"id\":\"3619\"}],\"margin\":[0,0,0,0],\"name\":\"Row06375\",\"tags\":[\"embedded\"]},\"id\":\"3549\",\"type\":\"Row\"},{\"attributes\":{\"factors\":[\"0\",\"1\",\"2\",\"3\",\"4\",\"5\",\"6\"],\"tags\":[[[\"Year\",\"Year\",null]]]},\"id\":\"3551\",\"type\":\"FactorRange\"},{\"attributes\":{\"axis\":{\"id\":\"3566\"},\"dimension\":1,\"grid_line_color\":null,\"ticker\":null},\"id\":\"3569\",\"type\":\"Grid\"},{\"attributes\":{\"callback\":null,\"renderers\":[{\"id\":\"3589\"}],\"tags\":[\"hv_created\"],\"tooltips\":[[\"Year\",\"@{Year}\"],[\"housing_units\",\"@{housing_units}\"]]},\"id\":\"3553\",\"type\":\"HoverTool\"},{\"attributes\":{\"end\":390000,\"reset_end\":390000,\"reset_start\":372000,\"start\":372000,\"tags\":[[[\"housing_units\",\"housing_units\",null]]]},\"id\":\"3552\",\"type\":\"Range1d\"},{\"attributes\":{},\"id\":\"3567\",\"type\":\"BasicTicker\"},{\"attributes\":{\"axis_label\":\"\",\"formatter\":{\"id\":\"3592\"},\"major_label_policy\":{\"id\":\"3596\"},\"ticker\":{\"id\":\"3567\"}},\"id\":\"3566\",\"type\":\"LinearAxis\"},{\"attributes\":{\"bottom\":{\"value\":0},\"fill_alpha\":{\"value\":1.0},\"fill_color\":{\"value\":\"#30a2da\"},\"hatch_alpha\":{\"value\":1.0},\"hatch_color\":{\"value\":\"black\"},\"hatch_scale\":{\"value\":12.0},\"hatch_weight\":{\"value\":1.0},\"line_alpha\":{\"value\":1.0},\"line_cap\":{\"value\":\"butt\"},\"line_color\":{\"value\":\"black\"},\"line_dash\":{\"value\":[]},\"line_dash_offset\":{\"value\":0},\"line_join\":{\"value\":\"bevel\"},\"line_width\":{\"value\":1},\"top\":{\"field\":\"housing_units\"},\"width\":{\"value\":0.8},\"x\":{\"field\":\"Year\"}},\"id\":\"3591\",\"type\":\"VBar\"},{\"attributes\":{\"margin\":[5,5,5,5],\"name\":\"HSpacer06379\",\"sizing_mode\":\"stretch_width\"},\"id\":\"3550\",\"type\":\"Spacer\"},{\"attributes\":{\"margin\":[5,5,5,5],\"name\":\"HSpacer06380\",\"sizing_mode\":\"stretch_width\"},\"id\":\"3619\",\"type\":\"Spacer\"},{\"attributes\":{\"fill_alpha\":{\"value\":0.1},\"fill_color\":{\"value\":\"#30a2da\"},\"line_alpha\":{\"value\":0.1},\"top\":{\"field\":\"housing_units\"},\"width\":{\"value\":0.8},\"x\":{\"field\":\"Year\"}},\"id\":\"3587\",\"type\":\"VBar\"},{\"attributes\":{\"bottom_units\":\"screen\",\"fill_alpha\":0.5,\"fill_color\":\"lightgrey\",\"left_units\":\"screen\",\"level\":\"overlay\",\"line_alpha\":1.0,\"line_color\":\"black\",\"line_dash\":[4,4],\"line_width\":2,\"right_units\":\"screen\",\"syncable\":false,\"top_units\":\"screen\"},\"id\":\"3575\",\"type\":\"BoxAnnotation\"},{\"attributes\":{\"text\":\"Housing Units in San Francisco from 2010 to 2016\",\"text_color\":\"black\",\"text_font_size\":\"12pt\"},\"id\":\"3555\",\"type\":\"Title\"},{\"attributes\":{\"format\":\"%.0f\"},\"id\":\"3592\",\"type\":\"PrintfTickFormatter\"},{\"attributes\":{\"data_source\":{\"id\":\"3583\"},\"glyph\":{\"id\":\"3586\"},\"hover_glyph\":null,\"muted_glyph\":{\"id\":\"3588\"},\"nonselection_glyph\":{\"id\":\"3587\"},\"selection_glyph\":{\"id\":\"3591\"},\"view\":{\"id\":\"3590\"}},\"id\":\"3589\",\"type\":\"GlyphRenderer\"},{\"attributes\":{},\"id\":\"3596\",\"type\":\"AllLabels\"},{\"attributes\":{},\"id\":\"3595\",\"type\":\"CategoricalTickFormatter\"},{\"attributes\":{\"data\":{\"Year\":[\"0\",\"1\",\"2\",\"3\",\"4\",\"5\",\"6\"],\"housing_units\":[372560,374507,376454,378401,380348,382295,384242]},\"selected\":{\"id\":\"3584\"},\"selection_policy\":{\"id\":\"3607\"}},\"id\":\"3583\",\"type\":\"ColumnDataSource\"},{\"attributes\":{\"fill_alpha\":{\"value\":0.2},\"fill_color\":{\"value\":\"#30a2da\"},\"line_alpha\":{\"value\":0.2},\"top\":{\"field\":\"housing_units\"},\"width\":{\"value\":0.8},\"x\":{\"field\":\"Year\"}},\"id\":\"3588\",\"type\":\"VBar\"},{\"attributes\":{\"below\":[{\"id\":\"3563\"}],\"center\":[{\"id\":\"3565\"},{\"id\":\"3569\"}],\"height\":300,\"left\":[{\"id\":\"3566\"}],\"margin\":[5,5,5,5],\"min_border_bottom\":10,\"min_border_left\":10,\"min_border_right\":10,\"min_border_top\":10,\"renderers\":[{\"id\":\"3589\"}],\"sizing_mode\":\"fixed\",\"title\":{\"id\":\"3555\"},\"toolbar\":{\"id\":\"3576\"},\"width\":700,\"x_range\":{\"id\":\"3551\"},\"x_scale\":{\"id\":\"3559\"},\"y_range\":{\"id\":\"3552\"},\"y_scale\":{\"id\":\"3561\"}},\"id\":\"3554\",\"subtype\":\"Figure\",\"type\":\"Plot\"},{\"attributes\":{},\"id\":\"3607\",\"type\":\"UnionRenderers\"},{\"attributes\":{\"fill_color\":{\"value\":\"#30a2da\"},\"top\":{\"field\":\"housing_units\"},\"width\":{\"value\":0.8},\"x\":{\"field\":\"Year\"}},\"id\":\"3586\",\"type\":\"VBar\"},{\"attributes\":{\"source\":{\"id\":\"3583\"}},\"id\":\"3590\",\"type\":\"CDSView\"},{\"attributes\":{},\"id\":\"3584\",\"type\":\"Selection\"},{\"attributes\":{},\"id\":\"3570\",\"type\":\"SaveTool\"},{\"attributes\":{},\"id\":\"3571\",\"type\":\"PanTool\"},{\"attributes\":{},\"id\":\"3574\",\"type\":\"ResetTool\"},{\"attributes\":{},\"id\":\"3594\",\"type\":\"AllLabels\"},{\"attributes\":{},\"id\":\"3572\",\"type\":\"WheelZoomTool\"}],\"root_ids\":[\"3549\"]},\"title\":\"Bokeh Application\",\"version\":\"2.3.1\"}};\n",
       "    var render_items = [{\"docid\":\"27885f4f-75a9-4022-916c-f063f85073a8\",\"root_ids\":[\"3549\"],\"roots\":{\"3549\":\"e90a4cf2-ce27-41c4-a24c-e7cdb56ee083\"}}];\n",
       "    root.Bokeh.embed.embed_items_notebook(docs_json, render_items);\n",
       "  }\n",
       "  if (root.Bokeh !== undefined && root.Bokeh.Panel !== undefined && root['Plotly'] !== undefined ) {\n",
       "    embed_document(root);\n",
       "  } else {\n",
       "    var attempts = 0;\n",
       "    var timer = setInterval(function(root) {\n",
       "      if (root.Bokeh !== undefined && root.Bokeh.Panel !== undefined && root['Plotly'] !== undefined) {\n",
       "        clearInterval(timer);\n",
       "        embed_document(root);\n",
       "      } else if (document.readyState == \"complete\") {\n",
       "        attempts++;\n",
       "        if (attempts > 100) {\n",
       "          clearInterval(timer);\n",
       "          console.log(\"Bokeh: ERROR: Unable to run BokehJS code because BokehJS library is missing\");\n",
       "        }\n",
       "      }\n",
       "    }, 10, root)\n",
       "  }\n",
       "})(window);</script>"
      ],
      "text/plain": [
       ":Bars   [Year]   (housing_units)"
      ]
     },
     "execution_count": 75,
     "metadata": {
      "application/vnd.holoviews_exec.v0+json": {
       "id": "3549"
      }
     },
     "output_type": "execute_result"
    }
   ],
   "source": [
    "# Use the Pandas plot function to plot the average housing units per year.\n",
    "# Note: You will need to manually adjust the y limit of the chart using the min and max values from above.\n",
    "housing_units.hvplot.bar()\n",
    "\n",
    "# Optional Challenge: Use the min, max, and std to scale the y limits of the chart\n",
    "housing_units.hvplot.bar(x=\"Year\", ylim = [372000,390000]).opts(title = \"Housing Units in San Francisco from 2010 to 2016\", yformatter=\"%.0f\")"
   ]
  },
  {
   "cell_type": "markdown",
   "metadata": {},
   "source": [
    "- - - "
   ]
  },
  {
   "cell_type": "markdown",
   "metadata": {},
   "source": [
    "## Average Housing Costs in San Francisco Per Year\n",
    "\n",
    "In this section, you will calculate the average monthly rent and the average price per square foot for each year. An investor may wish to better understand the sales price of the rental property over time. For example, a customer will want to know if they should expect an increase or decrease in the property value over time so they can determine how long to hold the rental property.  Plot the results as two line charts.\n",
    "\n",
    "**Optional challenge:** Plot each line chart in a different color."
   ]
  },
  {
   "cell_type": "code",
   "execution_count": 76,
   "metadata": {},
   "outputs": [
    {
     "data": {
      "text/html": [
       "<div>\n",
       "<style scoped>\n",
       "    .dataframe tbody tr th:only-of-type {\n",
       "        vertical-align: middle;\n",
       "    }\n",
       "\n",
       "    .dataframe tbody tr th {\n",
       "        vertical-align: top;\n",
       "    }\n",
       "\n",
       "    .dataframe thead th {\n",
       "        text-align: right;\n",
       "    }\n",
       "</style>\n",
       "<table border=\"1\" class=\"dataframe\">\n",
       "  <thead>\n",
       "    <tr style=\"text-align: right;\">\n",
       "      <th></th>\n",
       "      <th>sale_price_sqr_foot</th>\n",
       "      <th>gross_rent</th>\n",
       "    </tr>\n",
       "    <tr>\n",
       "      <th>year</th>\n",
       "      <th></th>\n",
       "      <th></th>\n",
       "    </tr>\n",
       "  </thead>\n",
       "  <tbody>\n",
       "    <tr>\n",
       "      <th>2010</th>\n",
       "      <td>369.344353</td>\n",
       "      <td>1239</td>\n",
       "    </tr>\n",
       "    <tr>\n",
       "      <th>2011</th>\n",
       "      <td>341.903429</td>\n",
       "      <td>1530</td>\n",
       "    </tr>\n",
       "    <tr>\n",
       "      <th>2012</th>\n",
       "      <td>399.389968</td>\n",
       "      <td>2324</td>\n",
       "    </tr>\n",
       "    <tr>\n",
       "      <th>2013</th>\n",
       "      <td>483.600304</td>\n",
       "      <td>2971</td>\n",
       "    </tr>\n",
       "    <tr>\n",
       "      <th>2014</th>\n",
       "      <td>556.277273</td>\n",
       "      <td>3528</td>\n",
       "    </tr>\n",
       "    <tr>\n",
       "      <th>2015</th>\n",
       "      <td>632.540352</td>\n",
       "      <td>3739</td>\n",
       "    </tr>\n",
       "    <tr>\n",
       "      <th>2016</th>\n",
       "      <td>697.643709</td>\n",
       "      <td>4390</td>\n",
       "    </tr>\n",
       "  </tbody>\n",
       "</table>\n",
       "</div>"
      ],
      "text/plain": [
       "      sale_price_sqr_foot  gross_rent\n",
       "year                                 \n",
       "2010           369.344353        1239\n",
       "2011           341.903429        1530\n",
       "2012           399.389968        2324\n",
       "2013           483.600304        2971\n",
       "2014           556.277273        3528\n",
       "2015           632.540352        3739\n",
       "2016           697.643709        4390"
      ]
     },
     "execution_count": 76,
     "metadata": {},
     "output_type": "execute_result"
    }
   ],
   "source": [
    "# Calculate the average sale price per square foot and average gross rent\n",
    "avg_sf_gr = sfo_data[['sale_price_sqr_foot', 'gross_rent']].groupby('year').mean()\n",
    "avg_sf_gr"
   ]
  },
  {
   "cell_type": "code",
   "execution_count": null,
   "metadata": {},
   "outputs": [],
   "source": [
    "# Create two line charts, one to plot the average sale price per square foot and another for average montly rent"
   ]
  },
  {
   "cell_type": "code",
   "execution_count": 52,
   "metadata": {},
   "outputs": [
    {
     "data": {},
     "metadata": {},
     "output_type": "display_data"
    },
    {
     "data": {
      "application/vnd.holoviews_exec.v0+json": "",
      "text/html": [
       "<div id='1623'>\n",
       "\n",
       "\n",
       "\n",
       "\n",
       "\n",
       "  <div class=\"bk-root\" id=\"9cb17878-b72a-413d-ab63-b9501141ed11\" data-root-id=\"1623\"></div>\n",
       "</div>\n",
       "<script type=\"application/javascript\">(function(root) {\n",
       "  function embed_document(root) {\n",
       "    var docs_json = {\"f9b66cfa-06bc-4b5f-915a-4cb72f01c984\":{\"defs\":[],\"roots\":{\"references\":[{\"attributes\":{\"overlay\":{\"id\":\"1650\"}},\"id\":\"1648\",\"type\":\"BoxZoomTool\"},{\"attributes\":{\"axis\":{\"id\":\"1641\"},\"dimension\":1,\"grid_line_color\":null,\"ticker\":null},\"id\":\"1644\",\"type\":\"Grid\"},{\"attributes\":{\"axis_label\":\"\",\"formatter\":{\"id\":\"1671\"},\"major_label_policy\":{\"id\":\"1670\"},\"ticker\":{\"id\":\"1642\"}},\"id\":\"1641\",\"type\":\"LinearAxis\"},{\"attributes\":{\"children\":[{\"id\":\"1624\"},{\"id\":\"1628\"},{\"id\":\"1693\"}],\"margin\":[0,0,0,0],\"name\":\"Row02847\",\"tags\":[\"embedded\"]},\"id\":\"1623\",\"type\":\"Row\"},{\"attributes\":{},\"id\":\"1642\",\"type\":\"BasicTicker\"},{\"attributes\":{},\"id\":\"1668\",\"type\":\"BasicTickFormatter\"},{\"attributes\":{\"data_source\":{\"id\":\"1658\"},\"glyph\":{\"id\":\"1661\"},\"hover_glyph\":null,\"muted_glyph\":{\"id\":\"1663\"},\"nonselection_glyph\":{\"id\":\"1662\"},\"selection_glyph\":{\"id\":\"1666\"},\"view\":{\"id\":\"1665\"}},\"id\":\"1664\",\"type\":\"GlyphRenderer\"},{\"attributes\":{\"line_alpha\":0.1,\"line_color\":\"#30a2da\",\"line_width\":2,\"x\":{\"field\":\"year\"},\"y\":{\"field\":\"sale_price_sqr_foot\"}},\"id\":\"1662\",\"type\":\"Line\"},{\"attributes\":{},\"id\":\"1667\",\"type\":\"AllLabels\"},{\"attributes\":{},\"id\":\"1649\",\"type\":\"ResetTool\"},{\"attributes\":{\"below\":[{\"id\":\"1637\"}],\"center\":[{\"id\":\"1640\"},{\"id\":\"1644\"}],\"height\":300,\"left\":[{\"id\":\"1641\"}],\"margin\":[5,5,5,5],\"min_border_bottom\":10,\"min_border_left\":10,\"min_border_right\":10,\"min_border_top\":10,\"renderers\":[{\"id\":\"1664\"}],\"sizing_mode\":\"fixed\",\"title\":{\"id\":\"1629\"},\"toolbar\":{\"id\":\"1651\"},\"width\":700,\"x_range\":{\"id\":\"1625\"},\"x_scale\":{\"id\":\"1633\"},\"y_range\":{\"id\":\"1626\"},\"y_scale\":{\"id\":\"1635\"}},\"id\":\"1628\",\"subtype\":\"Figure\",\"type\":\"Plot\"},{\"attributes\":{\"bottom_units\":\"screen\",\"fill_alpha\":0.5,\"fill_color\":\"lightgrey\",\"left_units\":\"screen\",\"level\":\"overlay\",\"line_alpha\":1.0,\"line_color\":\"black\",\"line_dash\":[4,4],\"line_width\":2,\"right_units\":\"screen\",\"syncable\":false,\"top_units\":\"screen\"},\"id\":\"1650\",\"type\":\"BoxAnnotation\"},{\"attributes\":{\"callback\":null,\"renderers\":[{\"id\":\"1664\"}],\"tags\":[\"hv_created\"],\"tooltips\":[[\"year\",\"@{year}\"],[\"sale_price_sqr_foot\",\"@{sale_price_sqr_foot}\"]]},\"id\":\"1627\",\"type\":\"HoverTool\"},{\"attributes\":{\"line_color\":\"#30a2da\",\"line_width\":2,\"x\":{\"field\":\"year\"},\"y\":{\"field\":\"sale_price_sqr_foot\"}},\"id\":\"1666\",\"type\":\"Line\"},{\"attributes\":{},\"id\":\"1645\",\"type\":\"SaveTool\"},{\"attributes\":{\"line_alpha\":0.2,\"line_color\":\"#30a2da\",\"line_width\":2,\"x\":{\"field\":\"year\"},\"y\":{\"field\":\"sale_price_sqr_foot\"}},\"id\":\"1663\",\"type\":\"Line\"},{\"attributes\":{\"data\":{\"sale_price_sqr_foot\":{\"__ndarray__\":\"tQKjeIIVd0Do7CdydF51QGdijk899nhAaBKk2Jo5fkDGKCTbN2KBQPETFqRSxINAUB33UCbNhUA=\",\"dtype\":\"float64\",\"order\":\"little\",\"shape\":[7]},\"year\":[2010,2011,2012,2013,2014,2015,2016]},\"selected\":{\"id\":\"1659\"},\"selection_policy\":{\"id\":\"1680\"}},\"id\":\"1658\",\"type\":\"ColumnDataSource\"},{\"attributes\":{\"source\":{\"id\":\"1658\"}},\"id\":\"1665\",\"type\":\"CDSView\"},{\"attributes\":{},\"id\":\"1638\",\"type\":\"BasicTicker\"},{\"attributes\":{\"axis_label\":\"year\",\"formatter\":{\"id\":\"1668\"},\"major_label_policy\":{\"id\":\"1667\"},\"ticker\":{\"id\":\"1638\"}},\"id\":\"1637\",\"type\":\"LinearAxis\"},{\"attributes\":{},\"id\":\"1646\",\"type\":\"PanTool\"},{\"attributes\":{\"margin\":[5,5,5,5],\"name\":\"HSpacer02852\",\"sizing_mode\":\"stretch_width\"},\"id\":\"1693\",\"type\":\"Spacer\"},{\"attributes\":{},\"id\":\"1670\",\"type\":\"AllLabels\"},{\"attributes\":{\"axis\":{\"id\":\"1637\"},\"grid_line_color\":null,\"ticker\":null},\"id\":\"1640\",\"type\":\"Grid\"},{\"attributes\":{},\"id\":\"1659\",\"type\":\"Selection\"},{\"attributes\":{\"text\":\"Average Sales Price per Square foot\",\"text_color\":\"black\",\"text_font_size\":\"12pt\"},\"id\":\"1629\",\"type\":\"Title\"},{\"attributes\":{},\"id\":\"1635\",\"type\":\"LinearScale\"},{\"attributes\":{\"end\":2016.0,\"reset_end\":2016.0,\"reset_start\":2010.0,\"start\":2010.0,\"tags\":[[[\"year\",\"year\",null]]]},\"id\":\"1625\",\"type\":\"Range1d\"},{\"attributes\":{\"end\":733.2177371101802,\"reset_end\":733.2177371101802,\"reset_start\":306.3294011864627,\"start\":306.3294011864627,\"tags\":[[[\"sale_price_sqr_foot\",\"sale_price_sqr_foot\",null]]]},\"id\":\"1626\",\"type\":\"Range1d\"},{\"attributes\":{},\"id\":\"1680\",\"type\":\"UnionRenderers\"},{\"attributes\":{\"active_multi\":null,\"tools\":[{\"id\":\"1627\"},{\"id\":\"1645\"},{\"id\":\"1646\"},{\"id\":\"1647\"},{\"id\":\"1648\"},{\"id\":\"1649\"}]},\"id\":\"1651\",\"type\":\"Toolbar\"},{\"attributes\":{},\"id\":\"1671\",\"type\":\"BasicTickFormatter\"},{\"attributes\":{\"line_color\":\"#30a2da\",\"line_width\":2,\"x\":{\"field\":\"year\"},\"y\":{\"field\":\"sale_price_sqr_foot\"}},\"id\":\"1661\",\"type\":\"Line\"},{\"attributes\":{},\"id\":\"1633\",\"type\":\"LinearScale\"},{\"attributes\":{},\"id\":\"1647\",\"type\":\"WheelZoomTool\"},{\"attributes\":{\"margin\":[5,5,5,5],\"name\":\"HSpacer02851\",\"sizing_mode\":\"stretch_width\"},\"id\":\"1624\",\"type\":\"Spacer\"}],\"root_ids\":[\"1623\"]},\"title\":\"Bokeh Application\",\"version\":\"2.3.1\"}};\n",
       "    var render_items = [{\"docid\":\"f9b66cfa-06bc-4b5f-915a-4cb72f01c984\",\"root_ids\":[\"1623\"],\"roots\":{\"1623\":\"9cb17878-b72a-413d-ab63-b9501141ed11\"}}];\n",
       "    root.Bokeh.embed.embed_items_notebook(docs_json, render_items);\n",
       "  }\n",
       "  if (root.Bokeh !== undefined && root.Bokeh.Panel !== undefined && root['Plotly'] !== undefined ) {\n",
       "    embed_document(root);\n",
       "  } else {\n",
       "    var attempts = 0;\n",
       "    var timer = setInterval(function(root) {\n",
       "      if (root.Bokeh !== undefined && root.Bokeh.Panel !== undefined && root['Plotly'] !== undefined) {\n",
       "        clearInterval(timer);\n",
       "        embed_document(root);\n",
       "      } else if (document.readyState == \"complete\") {\n",
       "        attempts++;\n",
       "        if (attempts > 100) {\n",
       "          clearInterval(timer);\n",
       "          console.log(\"Bokeh: ERROR: Unable to run BokehJS code because BokehJS library is missing\");\n",
       "        }\n",
       "      }\n",
       "    }, 10, root)\n",
       "  }\n",
       "})(window);</script>"
      ],
      "text/plain": [
       ":Curve   [year]   (sale_price_sqr_foot)"
      ]
     },
     "execution_count": 52,
     "metadata": {
      "application/vnd.holoviews_exec.v0+json": {
       "id": "1623"
      }
     },
     "output_type": "execute_result"
    }
   ],
   "source": [
    "# Line chart for average sale price per square foot\n",
    "avg_sf_gr[\"sale_price_sqr_foot\"].hvplot(x=\"year\", title = \"Average Sales Price per Square foot\")"
   ]
  },
  {
   "cell_type": "code",
   "execution_count": 53,
   "metadata": {},
   "outputs": [
    {
     "data": {},
     "metadata": {},
     "output_type": "display_data"
    },
    {
     "data": {
      "application/vnd.holoviews_exec.v0+json": "",
      "text/html": [
       "<div id='1745'>\n",
       "\n",
       "\n",
       "\n",
       "\n",
       "\n",
       "  <div class=\"bk-root\" id=\"8ff6e43e-0302-434a-b9c1-ff00a7231780\" data-root-id=\"1745\"></div>\n",
       "</div>\n",
       "<script type=\"application/javascript\">(function(root) {\n",
       "  function embed_document(root) {\n",
       "    var docs_json = {\"412ef69d-33f3-4243-a16a-330f9a698354\":{\"defs\":[],\"roots\":{\"references\":[{\"attributes\":{\"axis\":{\"id\":\"1759\"},\"grid_line_color\":null,\"ticker\":null},\"id\":\"1762\",\"type\":\"Grid\"},{\"attributes\":{},\"id\":\"1793\",\"type\":\"BasicTickFormatter\"},{\"attributes\":{},\"id\":\"1771\",\"type\":\"ResetTool\"},{\"attributes\":{\"text\":\"Average Monthly Rent\",\"text_color\":\"black\",\"text_font_size\":\"12pt\"},\"id\":\"1751\",\"type\":\"Title\"},{\"attributes\":{\"line_color\":\"#30a2da\",\"line_width\":2,\"x\":{\"field\":\"year\"},\"y\":{\"field\":\"gross_rent\"}},\"id\":\"1788\",\"type\":\"Line\"},{\"attributes\":{},\"id\":\"1769\",\"type\":\"WheelZoomTool\"},{\"attributes\":{},\"id\":\"1768\",\"type\":\"PanTool\"},{\"attributes\":{\"overlay\":{\"id\":\"1772\"}},\"id\":\"1770\",\"type\":\"BoxZoomTool\"},{\"attributes\":{},\"id\":\"1790\",\"type\":\"BasicTickFormatter\"},{\"attributes\":{},\"id\":\"1760\",\"type\":\"BasicTicker\"},{\"attributes\":{},\"id\":\"1755\",\"type\":\"LinearScale\"},{\"attributes\":{\"children\":[{\"id\":\"1746\"},{\"id\":\"1750\"},{\"id\":\"1815\"}],\"margin\":[0,0,0,0],\"name\":\"Row03024\",\"tags\":[\"embedded\"]},\"id\":\"1745\",\"type\":\"Row\"},{\"attributes\":{},\"id\":\"1757\",\"type\":\"LinearScale\"},{\"attributes\":{},\"id\":\"1792\",\"type\":\"AllLabels\"},{\"attributes\":{},\"id\":\"1789\",\"type\":\"AllLabels\"},{\"attributes\":{\"margin\":[5,5,5,5],\"name\":\"HSpacer03028\",\"sizing_mode\":\"stretch_width\"},\"id\":\"1746\",\"type\":\"Spacer\"},{\"attributes\":{\"axis\":{\"id\":\"1763\"},\"dimension\":1,\"grid_line_color\":null,\"ticker\":null},\"id\":\"1766\",\"type\":\"Grid\"},{\"attributes\":{\"axis_label\":\"year\",\"formatter\":{\"id\":\"1790\"},\"major_label_policy\":{\"id\":\"1789\"},\"ticker\":{\"id\":\"1760\"}},\"id\":\"1759\",\"type\":\"LinearAxis\"},{\"attributes\":{},\"id\":\"1802\",\"type\":\"UnionRenderers\"},{\"attributes\":{\"active_multi\":null,\"tools\":[{\"id\":\"1749\"},{\"id\":\"1767\"},{\"id\":\"1768\"},{\"id\":\"1769\"},{\"id\":\"1770\"},{\"id\":\"1771\"}]},\"id\":\"1773\",\"type\":\"Toolbar\"},{\"attributes\":{\"callback\":null,\"renderers\":[{\"id\":\"1786\"}],\"tags\":[\"hv_created\"],\"tooltips\":[[\"year\",\"@{year}\"],[\"gross_rent\",\"@{gross_rent}\"]]},\"id\":\"1749\",\"type\":\"HoverTool\"},{\"attributes\":{\"end\":4705.1,\"reset_end\":4705.1,\"reset_start\":923.9,\"start\":923.9,\"tags\":[[[\"gross_rent\",\"gross_rent\",null]]]},\"id\":\"1748\",\"type\":\"Range1d\"},{\"attributes\":{},\"id\":\"1764\",\"type\":\"BasicTicker\"},{\"attributes\":{\"axis_label\":\"\",\"formatter\":{\"id\":\"1793\"},\"major_label_policy\":{\"id\":\"1792\"},\"ticker\":{\"id\":\"1764\"}},\"id\":\"1763\",\"type\":\"LinearAxis\"},{\"attributes\":{\"margin\":[5,5,5,5],\"name\":\"HSpacer03029\",\"sizing_mode\":\"stretch_width\"},\"id\":\"1815\",\"type\":\"Spacer\"},{\"attributes\":{\"data_source\":{\"id\":\"1780\"},\"glyph\":{\"id\":\"1783\"},\"hover_glyph\":null,\"muted_glyph\":{\"id\":\"1785\"},\"nonselection_glyph\":{\"id\":\"1784\"},\"selection_glyph\":{\"id\":\"1788\"},\"view\":{\"id\":\"1787\"}},\"id\":\"1786\",\"type\":\"GlyphRenderer\"},{\"attributes\":{\"bottom_units\":\"screen\",\"fill_alpha\":0.5,\"fill_color\":\"lightgrey\",\"left_units\":\"screen\",\"level\":\"overlay\",\"line_alpha\":1.0,\"line_color\":\"black\",\"line_dash\":[4,4],\"line_width\":2,\"right_units\":\"screen\",\"syncable\":false,\"top_units\":\"screen\"},\"id\":\"1772\",\"type\":\"BoxAnnotation\"},{\"attributes\":{\"end\":2016.0,\"reset_end\":2016.0,\"reset_start\":2010.0,\"start\":2010.0,\"tags\":[[[\"year\",\"year\",null]]]},\"id\":\"1747\",\"type\":\"Range1d\"},{\"attributes\":{\"line_alpha\":0.2,\"line_color\":\"#30a2da\",\"line_width\":2,\"x\":{\"field\":\"year\"},\"y\":{\"field\":\"gross_rent\"}},\"id\":\"1785\",\"type\":\"Line\"},{\"attributes\":{\"line_color\":\"#30a2da\",\"line_width\":2,\"x\":{\"field\":\"year\"},\"y\":{\"field\":\"gross_rent\"}},\"id\":\"1783\",\"type\":\"Line\"},{\"attributes\":{\"source\":{\"id\":\"1780\"}},\"id\":\"1787\",\"type\":\"CDSView\"},{\"attributes\":{\"below\":[{\"id\":\"1759\"}],\"center\":[{\"id\":\"1762\"},{\"id\":\"1766\"}],\"height\":300,\"left\":[{\"id\":\"1763\"}],\"margin\":[5,5,5,5],\"min_border_bottom\":10,\"min_border_left\":10,\"min_border_right\":10,\"min_border_top\":10,\"renderers\":[{\"id\":\"1786\"}],\"sizing_mode\":\"fixed\",\"title\":{\"id\":\"1751\"},\"toolbar\":{\"id\":\"1773\"},\"width\":700,\"x_range\":{\"id\":\"1747\"},\"x_scale\":{\"id\":\"1755\"},\"y_range\":{\"id\":\"1748\"},\"y_scale\":{\"id\":\"1757\"}},\"id\":\"1750\",\"subtype\":\"Figure\",\"type\":\"Plot\"},{\"attributes\":{},\"id\":\"1767\",\"type\":\"SaveTool\"},{\"attributes\":{},\"id\":\"1781\",\"type\":\"Selection\"},{\"attributes\":{\"data\":{\"gross_rent\":[1239,1530,2324,2971,3528,3739,4390],\"year\":[2010,2011,2012,2013,2014,2015,2016]},\"selected\":{\"id\":\"1781\"},\"selection_policy\":{\"id\":\"1802\"}},\"id\":\"1780\",\"type\":\"ColumnDataSource\"},{\"attributes\":{\"line_alpha\":0.1,\"line_color\":\"#30a2da\",\"line_width\":2,\"x\":{\"field\":\"year\"},\"y\":{\"field\":\"gross_rent\"}},\"id\":\"1784\",\"type\":\"Line\"}],\"root_ids\":[\"1745\"]},\"title\":\"Bokeh Application\",\"version\":\"2.3.1\"}};\n",
       "    var render_items = [{\"docid\":\"412ef69d-33f3-4243-a16a-330f9a698354\",\"root_ids\":[\"1745\"],\"roots\":{\"1745\":\"8ff6e43e-0302-434a-b9c1-ff00a7231780\"}}];\n",
       "    root.Bokeh.embed.embed_items_notebook(docs_json, render_items);\n",
       "  }\n",
       "  if (root.Bokeh !== undefined && root.Bokeh.Panel !== undefined && root['Plotly'] !== undefined ) {\n",
       "    embed_document(root);\n",
       "  } else {\n",
       "    var attempts = 0;\n",
       "    var timer = setInterval(function(root) {\n",
       "      if (root.Bokeh !== undefined && root.Bokeh.Panel !== undefined && root['Plotly'] !== undefined) {\n",
       "        clearInterval(timer);\n",
       "        embed_document(root);\n",
       "      } else if (document.readyState == \"complete\") {\n",
       "        attempts++;\n",
       "        if (attempts > 100) {\n",
       "          clearInterval(timer);\n",
       "          console.log(\"Bokeh: ERROR: Unable to run BokehJS code because BokehJS library is missing\");\n",
       "        }\n",
       "      }\n",
       "    }, 10, root)\n",
       "  }\n",
       "})(window);</script>"
      ],
      "text/plain": [
       ":Curve   [year]   (gross_rent)"
      ]
     },
     "execution_count": 53,
     "metadata": {
      "application/vnd.holoviews_exec.v0+json": {
       "id": "1745"
      }
     },
     "output_type": "execute_result"
    }
   ],
   "source": [
    "# Line chart for average montly rent\n",
    "avg_sf_gr[\"gross_rent\"].hvplot(x=\"year\", title = \"Average Monthly Rent\")"
   ]
  },
  {
   "cell_type": "markdown",
   "metadata": {},
   "source": [
    "- - - "
   ]
  },
  {
   "cell_type": "markdown",
   "metadata": {},
   "source": [
    "## Average Prices by Neighborhood\n",
    "\n",
    "In this section, you will use hvplot to create two interactive visulizations of average prices with a dropdown selector for the neighborhood. The first visualization will be a line plot showing the trend of average price per square foot over time for each neighborhood.  The second will be a line plot showing the trend of average montly rent over time for each neighborhood.\n",
    "\n",
    "**Hint:** It will be easier to create a new DataFrame from grouping the data and calculating the mean prices for each year and neighborhood"
   ]
  },
  {
   "cell_type": "code",
   "execution_count": 308,
   "metadata": {},
   "outputs": [
    {
     "data": {
      "text/html": [
       "<div>\n",
       "<style scoped>\n",
       "    .dataframe tbody tr th:only-of-type {\n",
       "        vertical-align: middle;\n",
       "    }\n",
       "\n",
       "    .dataframe tbody tr th {\n",
       "        vertical-align: top;\n",
       "    }\n",
       "\n",
       "    .dataframe thead th {\n",
       "        text-align: right;\n",
       "    }\n",
       "</style>\n",
       "<table border=\"1\" class=\"dataframe\">\n",
       "  <thead>\n",
       "    <tr style=\"text-align: right;\">\n",
       "      <th></th>\n",
       "      <th></th>\n",
       "      <th>sale_price_sqr_foot</th>\n",
       "      <th>housing_units</th>\n",
       "      <th>gross_rent</th>\n",
       "    </tr>\n",
       "    <tr>\n",
       "      <th>year</th>\n",
       "      <th>neighborhood</th>\n",
       "      <th></th>\n",
       "      <th></th>\n",
       "      <th></th>\n",
       "    </tr>\n",
       "  </thead>\n",
       "  <tbody>\n",
       "    <tr>\n",
       "      <th rowspan=\"5\" valign=\"top\">2010</th>\n",
       "      <th>Alamo Square</th>\n",
       "      <td>291.182945</td>\n",
       "      <td>372560</td>\n",
       "      <td>1239</td>\n",
       "    </tr>\n",
       "    <tr>\n",
       "      <th>Anza Vista</th>\n",
       "      <td>267.932583</td>\n",
       "      <td>372560</td>\n",
       "      <td>1239</td>\n",
       "    </tr>\n",
       "    <tr>\n",
       "      <th>Bayview</th>\n",
       "      <td>170.098665</td>\n",
       "      <td>372560</td>\n",
       "      <td>1239</td>\n",
       "    </tr>\n",
       "    <tr>\n",
       "      <th>Buena Vista Park</th>\n",
       "      <td>347.394919</td>\n",
       "      <td>372560</td>\n",
       "      <td>1239</td>\n",
       "    </tr>\n",
       "    <tr>\n",
       "      <th>Central Richmond</th>\n",
       "      <td>319.027623</td>\n",
       "      <td>372560</td>\n",
       "      <td>1239</td>\n",
       "    </tr>\n",
       "  </tbody>\n",
       "</table>\n",
       "</div>"
      ],
      "text/plain": [
       "                       sale_price_sqr_foot  housing_units  gross_rent\n",
       "year neighborhood                                                    \n",
       "2010 Alamo Square               291.182945         372560        1239\n",
       "     Anza Vista                 267.932583         372560        1239\n",
       "     Bayview                    170.098665         372560        1239\n",
       "     Buena Vista Park           347.394919         372560        1239\n",
       "     Central Richmond           319.027623         372560        1239"
      ]
     },
     "execution_count": 308,
     "metadata": {},
     "output_type": "execute_result"
    }
   ],
   "source": [
    "# Group by year and neighborhood and then create a new dataframe of the mean values\n",
    "sanfran_df = sfo_data.groupby(['year', 'neighborhood']).mean()\n",
    "sanfran_df.head()"
   ]
  },
  {
   "cell_type": "code",
   "execution_count": 123,
   "metadata": {},
   "outputs": [
    {
     "data": {},
     "metadata": {},
     "output_type": "display_data"
    },
    {
     "data": {},
     "metadata": {},
     "output_type": "display_data"
    },
    {
     "data": {
      "application/vnd.holoviews_exec.v0+json": "",
      "text/html": [
       "<div id='6019'>\n",
       "\n",
       "\n",
       "\n",
       "\n",
       "\n",
       "  <div class=\"bk-root\" id=\"0cef0f8d-2530-413a-8382-096656e0aa76\" data-root-id=\"6019\"></div>\n",
       "</div>\n",
       "<script type=\"application/javascript\">(function(root) {\n",
       "  function embed_document(root) {\n",
       "    var docs_json = {\"d8458694-e6e6-4a93-8827-39684b98dbbc\":{\"defs\":[],\"roots\":{\"references\":[{\"attributes\":{\"text\":\"Average Price Per SqFt\",\"text_color\":\"black\",\"text_font_size\":\"12pt\"},\"id\":\"6028\",\"type\":\"Title\"},{\"attributes\":{},\"id\":\"6041\",\"type\":\"BasicTicker\"},{\"attributes\":{\"children\":[{\"id\":\"6022\"}],\"css_classes\":[\"panel-widget-box\"],\"margin\":[5,5,5,5],\"name\":\"WidgetBox11231\"},\"id\":\"6021\",\"type\":\"Column\"},{\"attributes\":{\"axis\":{\"id\":\"6040\"},\"dimension\":1,\"grid_line_color\":null,\"ticker\":null},\"id\":\"6043\",\"type\":\"Grid\"},{\"attributes\":{\"margin\":[5,5,5,5],\"name\":\"VSpacer11236\",\"sizing_mode\":\"stretch_height\"},\"id\":\"6023\",\"type\":\"Spacer\"},{\"attributes\":{\"data\":{\"sale_price_sqr_foot\":{\"__ndarray__\":\"Dkc7WO0yckCafszcbwhxQIGRs5ot42ZAJzog0LQ8eEAWMinKGEd+QI0V5FDt0IJAVCHcmLVPdUA=\",\"dtype\":\"float64\",\"order\":\"little\",\"shape\":[7]},\"year\":[2010,2011,2012,2013,2014,2015,2016]},\"selected\":{\"id\":\"6058\"},\"selection_policy\":{\"id\":\"6085\"}},\"id\":\"6057\",\"type\":\"ColumnDataSource\"},{\"attributes\":{\"data_source\":{\"id\":\"6057\"},\"glyph\":{\"id\":\"6060\"},\"hover_glyph\":null,\"muted_glyph\":{\"id\":\"6062\"},\"nonselection_glyph\":{\"id\":\"6061\"},\"selection_glyph\":{\"id\":\"6065\"},\"view\":{\"id\":\"6064\"}},\"id\":\"6063\",\"type\":\"GlyphRenderer\"},{\"attributes\":{\"line_alpha\":0.2,\"line_color\":\"#30a2da\",\"line_width\":2,\"x\":{\"field\":\"year\"},\"y\":{\"field\":\"sale_price_sqr_foot\"}},\"id\":\"6062\",\"type\":\"Line\"},{\"attributes\":{\"bottom_units\":\"screen\",\"fill_alpha\":0.5,\"fill_color\":\"lightgrey\",\"left_units\":\"screen\",\"level\":\"overlay\",\"line_alpha\":1.0,\"line_color\":\"black\",\"line_dash\":[4,4],\"line_width\":2,\"right_units\":\"screen\",\"syncable\":false,\"top_units\":\"screen\"},\"id\":\"6049\",\"type\":\"BoxAnnotation\"},{\"attributes\":{\"active_multi\":null,\"tools\":[{\"id\":\"6026\"},{\"id\":\"6044\"},{\"id\":\"6045\"},{\"id\":\"6046\"},{\"id\":\"6047\"},{\"id\":\"6048\"}]},\"id\":\"6050\",\"type\":\"Toolbar\"},{\"attributes\":{},\"id\":\"6070\",\"type\":\"BasicTickFormatter\"},{\"attributes\":{\"source\":{\"id\":\"6057\"}},\"id\":\"6064\",\"type\":\"CDSView\"},{\"attributes\":{},\"id\":\"6037\",\"type\":\"BasicTicker\"},{\"attributes\":{\"below\":[{\"id\":\"6036\"}],\"center\":[{\"id\":\"6039\"},{\"id\":\"6043\"}],\"height\":300,\"left\":[{\"id\":\"6040\"}],\"margin\":[5,5,5,5],\"min_border_bottom\":10,\"min_border_left\":10,\"min_border_right\":10,\"min_border_top\":10,\"renderers\":[{\"id\":\"6063\"}],\"sizing_mode\":\"fixed\",\"title\":{\"id\":\"6028\"},\"toolbar\":{\"id\":\"6050\"},\"width\":700,\"x_range\":{\"id\":\"6024\"},\"x_scale\":{\"id\":\"6032\"},\"y_range\":{\"id\":\"6025\"},\"y_scale\":{\"id\":\"6034\"}},\"id\":\"6027\",\"subtype\":\"Figure\",\"type\":\"Plot\"},{\"attributes\":{\"end\":644.0175329447045,\"reset_end\":644.0175329447045,\"reset_start\":141.1976609302527,\"start\":141.1976609302527,\"tags\":[[[\"sale_price_sqr_foot\",\"sale_price_sqr_foot\",null]]]},\"id\":\"6025\",\"type\":\"Range1d\"},{\"attributes\":{\"axis\":{\"id\":\"6036\"},\"grid_line_color\":null,\"ticker\":null},\"id\":\"6039\",\"type\":\"Grid\"},{\"attributes\":{},\"id\":\"6069\",\"type\":\"AllLabels\"},{\"attributes\":{},\"id\":\"6058\",\"type\":\"Selection\"},{\"attributes\":{},\"id\":\"6044\",\"type\":\"SaveTool\"},{\"attributes\":{},\"id\":\"6045\",\"type\":\"PanTool\"},{\"attributes\":{\"line_color\":\"#30a2da\",\"line_width\":2,\"x\":{\"field\":\"year\"},\"y\":{\"field\":\"sale_price_sqr_foot\"}},\"id\":\"6065\",\"type\":\"Line\"},{\"attributes\":{},\"id\":\"6048\",\"type\":\"ResetTool\"},{\"attributes\":{},\"id\":\"6046\",\"type\":\"WheelZoomTool\"},{\"attributes\":{\"overlay\":{\"id\":\"6049\"}},\"id\":\"6047\",\"type\":\"BoxZoomTool\"},{\"attributes\":{\"client_comm_id\":\"27923033baf84b968bf16a67a1eeb981\",\"comm_id\":\"6f53af5906044f4f8f15e15107e23f85\",\"plot_id\":\"6019\"},\"id\":\"6128\",\"type\":\"panel.models.comm_manager.CommManager\"},{\"attributes\":{},\"id\":\"6032\",\"type\":\"LinearScale\"},{\"attributes\":{\"line_color\":\"#30a2da\",\"line_width\":2,\"x\":{\"field\":\"year\"},\"y\":{\"field\":\"sale_price_sqr_foot\"}},\"id\":\"6060\",\"type\":\"Line\"},{\"attributes\":{},\"id\":\"6067\",\"type\":\"BasicTickFormatter\"},{\"attributes\":{\"children\":[{\"id\":\"6020\"},{\"id\":\"6027\"}],\"margin\":[0,0,0,0],\"name\":\"Row11230\"},\"id\":\"6019\",\"type\":\"Row\"},{\"attributes\":{\"line_alpha\":0.1,\"line_color\":\"#30a2da\",\"line_width\":2,\"x\":{\"field\":\"year\"},\"y\":{\"field\":\"sale_price_sqr_foot\"}},\"id\":\"6061\",\"type\":\"Line\"},{\"attributes\":{\"callback\":null,\"renderers\":[{\"id\":\"6063\"}],\"tags\":[\"hv_created\"],\"tooltips\":[[\"year\",\"@{year}\"],[\"sale_price_sqr_foot\",\"@{sale_price_sqr_foot}\"]]},\"id\":\"6026\",\"type\":\"HoverTool\"},{\"attributes\":{},\"id\":\"6085\",\"type\":\"UnionRenderers\"},{\"attributes\":{\"margin\":[20,20,20,20],\"min_width\":250,\"options\":[\"Alamo Square\",\"Anza Vista\",\"Bayview\",\"Buena Vista Park\",\"Central Richmond\",\"Central Sunset\",\"Corona Heights\",\"Cow Hollow\",\"Croker Amazon\",\"Diamond Heights\",\"Downtown \",\"Eureka Valley/Dolores Heights\",\"Excelsior\",\"Financial District North\",\"Financial District South\",\"Forest Knolls\",\"Glen Park\",\"Golden Gate Heights\",\"Haight Ashbury\",\"Hayes Valley\",\"Hunters Point\",\"Ingleside \",\"Inner Mission\",\"Inner Parkside\",\"Inner Richmond\",\"Inner Sunset\",\"Jordan Park/Laurel Heights\",\"Lake --The Presidio\",\"Lone Mountain\",\"Lower Pacific Heights\",\"Marina\",\"Miraloma Park\",\"Mission Bay\",\"Mission Dolores\",\"Mission Terrace\",\"Nob Hill\",\"Noe Valley\",\"Oceanview\",\"Outer Parkside\",\"Outer Richmond \",\"Outer Sunset\",\"Pacific Heights\",\"Park North\",\"Parkside\",\"Parnassus/Ashbury Heights\",\"Portola\",\"Potrero Hill\",\"Presidio Heights\",\"Russian Hill\",\"South Beach\",\"South of Market\",\"Sunnyside\",\"Telegraph Hill\",\"Twin Peaks\",\"Union Square District\",\"Van Ness/ Civic Center\",\"West Portal\",\"Western Addition\",\"Yerba Buena\",\"Bernal Heights \",\"Clarendon Heights\",\"Duboce Triangle\",\"Ingleside Heights\",\"North Beach\",\"North Waterfront\",\"Outer Mission\",\"Westwood Highlands\",\"Merced Heights\",\"Midtown Terrace\",\"Visitacion Valley\",\"Silver Terrace\",\"Westwood Park\",\"Bayview Heights\"],\"title\":\"neighborhood\",\"value\":\"Alamo Square\",\"width\":250},\"id\":\"6022\",\"type\":\"Select\"},{\"attributes\":{\"children\":[{\"id\":\"6021\"},{\"id\":\"6023\"}],\"margin\":[0,0,0,0],\"name\":\"Column11237\"},\"id\":\"6020\",\"type\":\"Column\"},{\"attributes\":{\"end\":2016.0,\"reset_end\":2016.0,\"reset_start\":2010.0,\"start\":2010.0,\"tags\":[[[\"year\",\"year\",null]]]},\"id\":\"6024\",\"type\":\"Range1d\"},{\"attributes\":{},\"id\":\"6034\",\"type\":\"LinearScale\"},{\"attributes\":{\"axis_label\":\"average sale per square foot\",\"formatter\":{\"id\":\"6070\"},\"major_label_policy\":{\"id\":\"6069\"},\"ticker\":{\"id\":\"6041\"}},\"id\":\"6040\",\"type\":\"LinearAxis\"},{\"attributes\":{\"axis_label\":\"year\",\"formatter\":{\"id\":\"6067\"},\"major_label_policy\":{\"id\":\"6066\"},\"ticker\":{\"id\":\"6037\"}},\"id\":\"6036\",\"type\":\"LinearAxis\"},{\"attributes\":{},\"id\":\"6066\",\"type\":\"AllLabels\"}],\"root_ids\":[\"6019\",\"6128\"]},\"title\":\"Bokeh Application\",\"version\":\"2.3.1\"}};\n",
       "    var render_items = [{\"docid\":\"d8458694-e6e6-4a93-8827-39684b98dbbc\",\"root_ids\":[\"6019\"],\"roots\":{\"6019\":\"0cef0f8d-2530-413a-8382-096656e0aa76\"}}];\n",
       "    root.Bokeh.embed.embed_items_notebook(docs_json, render_items);\n",
       "  }\n",
       "  if (root.Bokeh !== undefined && root.Bokeh.Panel !== undefined && root['Plotly'] !== undefined ) {\n",
       "    embed_document(root);\n",
       "  } else {\n",
       "    var attempts = 0;\n",
       "    var timer = setInterval(function(root) {\n",
       "      if (root.Bokeh !== undefined && root.Bokeh.Panel !== undefined && root['Plotly'] !== undefined) {\n",
       "        clearInterval(timer);\n",
       "        embed_document(root);\n",
       "      } else if (document.readyState == \"complete\") {\n",
       "        attempts++;\n",
       "        if (attempts > 100) {\n",
       "          clearInterval(timer);\n",
       "          console.log(\"Bokeh: ERROR: Unable to run BokehJS code because BokehJS library is missing\");\n",
       "        }\n",
       "      }\n",
       "    }, 10, root)\n",
       "  }\n",
       "})(window);</script>"
      ],
      "text/plain": [
       "Row\n",
       "    [0] Column\n",
       "        [0] WidgetBox\n",
       "            [0] Select(margin=(20, 20, 20, 20), name='neighborhood', options=['Alamo Square', ...], value='Alamo Square', width=250)\n",
       "        [1] VSpacer()\n",
       "    [1] HoloViews(DynamicMap, widget_location='left_top')"
      ]
     },
     "execution_count": 123,
     "metadata": {
      "application/vnd.holoviews_exec.v0+json": {
       "id": "6019"
      }
     },
     "output_type": "execute_result"
    }
   ],
   "source": [
    "# Use hvplot to create an interactive line chart of the average price per sq ft.\n",
    "# The plot should have a dropdown selector for the neighborhood\n",
    "sanfran_df['sale_price_sqr_foot'].hvplot( xlabel='year', ylabel='average sale per square foot', label=' ',groupby='neighborhood', widget_location='left_top',\n",
    "                                        title = \"Average Price Per SqFt\")\n",
    "\n"
   ]
  },
  {
   "cell_type": "code",
   "execution_count": 189,
   "metadata": {},
   "outputs": [
    {
     "data": {},
     "metadata": {},
     "output_type": "display_data"
    },
    {
     "data": {},
     "metadata": {},
     "output_type": "display_data"
    },
    {
     "data": {
      "application/vnd.holoviews_exec.v0+json": "",
      "text/html": [
       "<div id='9470'>\n",
       "\n",
       "\n",
       "\n",
       "\n",
       "\n",
       "  <div class=\"bk-root\" id=\"df9bcecf-5265-4a8a-914e-36dedbc0157b\" data-root-id=\"9470\"></div>\n",
       "</div>\n",
       "<script type=\"application/javascript\">(function(root) {\n",
       "  function embed_document(root) {\n",
       "    var docs_json = {\"851481b5-37d3-4138-b348-71c05a8c195a\":{\"defs\":[],\"roots\":{\"references\":[{\"attributes\":{\"text\":\"Average Monthly Rent\",\"text_color\":\"black\",\"text_font_size\":\"12pt\"},\"id\":\"9479\",\"type\":\"Title\"},{\"attributes\":{},\"id\":\"9497\",\"type\":\"WheelZoomTool\"},{\"attributes\":{\"overlay\":{\"id\":\"9500\"}},\"id\":\"9498\",\"type\":\"BoxZoomTool\"},{\"attributes\":{\"client_comm_id\":\"2278c76a8bc34e469a33a973c66bd92f\",\"comm_id\":\"ac1859fdac6e49f2ab3f422b651751fd\",\"plot_id\":\"9470\"},\"id\":\"9579\",\"type\":\"panel.models.comm_manager.CommManager\"},{\"attributes\":{},\"id\":\"9499\",\"type\":\"ResetTool\"},{\"attributes\":{},\"id\":\"9488\",\"type\":\"BasicTicker\"},{\"attributes\":{},\"id\":\"9483\",\"type\":\"LinearScale\"},{\"attributes\":{\"line_alpha\":0.1,\"line_color\":\"#30a2da\",\"line_width\":2,\"x\":{\"field\":\"year\"},\"y\":{\"field\":\"gross_rent\"}},\"id\":\"9512\",\"type\":\"Line\"},{\"attributes\":{},\"id\":\"9485\",\"type\":\"LinearScale\"},{\"attributes\":{\"axis\":{\"id\":\"9491\"},\"dimension\":1,\"grid_line_color\":null,\"ticker\":null},\"id\":\"9494\",\"type\":\"Grid\"},{\"attributes\":{},\"id\":\"9521\",\"type\":\"BasicTickFormatter\"},{\"attributes\":{},\"id\":\"9509\",\"type\":\"Selection\"},{\"attributes\":{\"axis_label\":\"year\",\"formatter\":{\"id\":\"9518\"},\"major_label_policy\":{\"id\":\"9517\"},\"ticker\":{\"id\":\"9488\"}},\"id\":\"9487\",\"type\":\"LinearAxis\"},{\"attributes\":{\"line_alpha\":0.2,\"line_color\":\"#30a2da\",\"line_width\":2,\"x\":{\"field\":\"year\"},\"y\":{\"field\":\"gross_rent\"}},\"id\":\"9513\",\"type\":\"Line\"},{\"attributes\":{\"callback\":null,\"renderers\":[{\"id\":\"9514\"}],\"tags\":[\"hv_created\"],\"tooltips\":[[\"year\",\"@{year}\"],[\"gross_rent\",\"@{gross_rent}\"]]},\"id\":\"9477\",\"type\":\"HoverTool\"},{\"attributes\":{\"active_multi\":null,\"tools\":[{\"id\":\"9477\"},{\"id\":\"9495\"},{\"id\":\"9496\"},{\"id\":\"9497\"},{\"id\":\"9498\"},{\"id\":\"9499\"}]},\"id\":\"9501\",\"type\":\"Toolbar\"},{\"attributes\":{},\"id\":\"9492\",\"type\":\"BasicTicker\"},{\"attributes\":{\"axis_label\":\"average sale per square foot\",\"formatter\":{\"id\":\"9521\"},\"major_label_policy\":{\"id\":\"9520\"},\"ticker\":{\"id\":\"9492\"}},\"id\":\"9491\",\"type\":\"LinearAxis\"},{\"attributes\":{\"line_color\":\"#30a2da\",\"line_width\":2,\"x\":{\"field\":\"year\"},\"y\":{\"field\":\"gross_rent\"}},\"id\":\"9516\",\"type\":\"Line\"},{\"attributes\":{},\"id\":\"9536\",\"type\":\"UnionRenderers\"},{\"attributes\":{},\"id\":\"9517\",\"type\":\"AllLabels\"},{\"attributes\":{\"children\":[{\"id\":\"9471\"},{\"id\":\"9478\"}],\"margin\":[0,0,0,0],\"name\":\"Row18003\"},\"id\":\"9470\",\"type\":\"Row\"},{\"attributes\":{\"end\":4705.1,\"reset_end\":4705.1,\"reset_start\":923.9,\"start\":923.9,\"tags\":[[[\"gross_rent\",\"gross_rent\",null]]]},\"id\":\"9476\",\"type\":\"Range1d\"},{\"attributes\":{\"data\":{\"gross_rent\":[1239,1530,2324,2971,3528,3739,4390],\"year\":[2010,2011,2012,2013,2014,2015,2016]},\"selected\":{\"id\":\"9509\"},\"selection_policy\":{\"id\":\"9536\"}},\"id\":\"9508\",\"type\":\"ColumnDataSource\"},{\"attributes\":{},\"id\":\"9518\",\"type\":\"BasicTickFormatter\"},{\"attributes\":{\"bottom_units\":\"screen\",\"fill_alpha\":0.5,\"fill_color\":\"lightgrey\",\"left_units\":\"screen\",\"level\":\"overlay\",\"line_alpha\":1.0,\"line_color\":\"black\",\"line_dash\":[4,4],\"line_width\":2,\"right_units\":\"screen\",\"syncable\":false,\"top_units\":\"screen\"},\"id\":\"9500\",\"type\":\"BoxAnnotation\"},{\"attributes\":{\"below\":[{\"id\":\"9487\"}],\"center\":[{\"id\":\"9490\"},{\"id\":\"9494\"}],\"height\":300,\"left\":[{\"id\":\"9491\"}],\"margin\":[5,5,5,5],\"min_border_bottom\":10,\"min_border_left\":10,\"min_border_right\":10,\"min_border_top\":10,\"renderers\":[{\"id\":\"9514\"}],\"sizing_mode\":\"fixed\",\"title\":{\"id\":\"9479\"},\"toolbar\":{\"id\":\"9501\"},\"width\":700,\"x_range\":{\"id\":\"9475\"},\"x_scale\":{\"id\":\"9483\"},\"y_range\":{\"id\":\"9476\"},\"y_scale\":{\"id\":\"9485\"}},\"id\":\"9478\",\"subtype\":\"Figure\",\"type\":\"Plot\"},{\"attributes\":{\"children\":[{\"id\":\"9472\"},{\"id\":\"9474\"}],\"margin\":[0,0,0,0],\"name\":\"Column18010\"},\"id\":\"9471\",\"type\":\"Column\"},{\"attributes\":{\"line_color\":\"#30a2da\",\"line_width\":2,\"x\":{\"field\":\"year\"},\"y\":{\"field\":\"gross_rent\"}},\"id\":\"9511\",\"type\":\"Line\"},{\"attributes\":{\"end\":2016.0,\"reset_end\":2016.0,\"reset_start\":2010.0,\"start\":2010.0,\"tags\":[[[\"year\",\"year\",null]]]},\"id\":\"9475\",\"type\":\"Range1d\"},{\"attributes\":{\"data_source\":{\"id\":\"9508\"},\"glyph\":{\"id\":\"9511\"},\"hover_glyph\":null,\"muted_glyph\":{\"id\":\"9513\"},\"nonselection_glyph\":{\"id\":\"9512\"},\"selection_glyph\":{\"id\":\"9516\"},\"view\":{\"id\":\"9515\"}},\"id\":\"9514\",\"type\":\"GlyphRenderer\"},{\"attributes\":{\"children\":[{\"id\":\"9473\"}],\"css_classes\":[\"panel-widget-box\"],\"margin\":[5,5,5,5],\"name\":\"WidgetBox18004\"},\"id\":\"9472\",\"type\":\"Column\"},{\"attributes\":{},\"id\":\"9520\",\"type\":\"AllLabels\"},{\"attributes\":{\"source\":{\"id\":\"9508\"}},\"id\":\"9515\",\"type\":\"CDSView\"},{\"attributes\":{},\"id\":\"9495\",\"type\":\"SaveTool\"},{\"attributes\":{\"margin\":[5,5,5,5],\"name\":\"VSpacer18009\",\"sizing_mode\":\"stretch_height\"},\"id\":\"9474\",\"type\":\"Spacer\"},{\"attributes\":{},\"id\":\"9496\",\"type\":\"PanTool\"},{\"attributes\":{\"margin\":[20,20,20,20],\"min_width\":250,\"options\":[\"Alamo Square\",\"Anza Vista\",\"Bayview\",\"Buena Vista Park\",\"Central Richmond\",\"Central Sunset\",\"Corona Heights\",\"Cow Hollow\",\"Croker Amazon\",\"Diamond Heights\",\"Downtown \",\"Eureka Valley/Dolores Heights\",\"Excelsior\",\"Financial District North\",\"Financial District South\",\"Forest Knolls\",\"Glen Park\",\"Golden Gate Heights\",\"Haight Ashbury\",\"Hayes Valley\",\"Hunters Point\",\"Ingleside \",\"Inner Mission\",\"Inner Parkside\",\"Inner Richmond\",\"Inner Sunset\",\"Jordan Park/Laurel Heights\",\"Lake --The Presidio\",\"Lone Mountain\",\"Lower Pacific Heights\",\"Marina\",\"Miraloma Park\",\"Mission Bay\",\"Mission Dolores\",\"Mission Terrace\",\"Nob Hill\",\"Noe Valley\",\"Oceanview\",\"Outer Parkside\",\"Outer Richmond \",\"Outer Sunset\",\"Pacific Heights\",\"Park North\",\"Parkside\",\"Parnassus/Ashbury Heights\",\"Portola\",\"Potrero Hill\",\"Presidio Heights\",\"Russian Hill\",\"South Beach\",\"South of Market\",\"Sunnyside\",\"Telegraph Hill\",\"Twin Peaks\",\"Union Square District\",\"Van Ness/ Civic Center\",\"West Portal\",\"Western Addition\",\"Yerba Buena\",\"Bernal Heights \",\"Clarendon Heights\",\"Duboce Triangle\",\"Ingleside Heights\",\"North Beach\",\"North Waterfront\",\"Outer Mission\",\"Westwood Highlands\",\"Merced Heights\",\"Midtown Terrace\",\"Visitacion Valley\",\"Silver Terrace\",\"Westwood Park\",\"Bayview Heights\"],\"title\":\"neighborhood\",\"value\":\"Alamo Square\",\"width\":250},\"id\":\"9473\",\"type\":\"Select\"},{\"attributes\":{\"axis\":{\"id\":\"9487\"},\"grid_line_color\":null,\"ticker\":null},\"id\":\"9490\",\"type\":\"Grid\"}],\"root_ids\":[\"9470\",\"9579\"]},\"title\":\"Bokeh Application\",\"version\":\"2.3.1\"}};\n",
       "    var render_items = [{\"docid\":\"851481b5-37d3-4138-b348-71c05a8c195a\",\"root_ids\":[\"9470\"],\"roots\":{\"9470\":\"df9bcecf-5265-4a8a-914e-36dedbc0157b\"}}];\n",
       "    root.Bokeh.embed.embed_items_notebook(docs_json, render_items);\n",
       "  }\n",
       "  if (root.Bokeh !== undefined && root.Bokeh.Panel !== undefined && root['Plotly'] !== undefined ) {\n",
       "    embed_document(root);\n",
       "  } else {\n",
       "    var attempts = 0;\n",
       "    var timer = setInterval(function(root) {\n",
       "      if (root.Bokeh !== undefined && root.Bokeh.Panel !== undefined && root['Plotly'] !== undefined) {\n",
       "        clearInterval(timer);\n",
       "        embed_document(root);\n",
       "      } else if (document.readyState == \"complete\") {\n",
       "        attempts++;\n",
       "        if (attempts > 100) {\n",
       "          clearInterval(timer);\n",
       "          console.log(\"Bokeh: ERROR: Unable to run BokehJS code because BokehJS library is missing\");\n",
       "        }\n",
       "      }\n",
       "    }, 10, root)\n",
       "  }\n",
       "})(window);</script>"
      ],
      "text/plain": [
       "Row\n",
       "    [0] Column\n",
       "        [0] WidgetBox\n",
       "            [0] Select(margin=(20, 20, 20, 20), name='neighborhood', options=['Alamo Square', ...], value='Alamo Square', width=250)\n",
       "        [1] VSpacer()\n",
       "    [1] HoloViews(DynamicMap, widget_location='left_top')"
      ]
     },
     "execution_count": 189,
     "metadata": {
      "application/vnd.holoviews_exec.v0+json": {
       "id": "9470"
      }
     },
     "output_type": "execute_result"
    }
   ],
   "source": [
    "# Use hvplot to create an interactive line chart of the average monthly rent.\n",
    "# The plot should have a dropdown selector for the neighborhood\n",
    "sanfran_df['gross_rent'].hvplot( xlabel='year', ylabel='average sale per square foot', \n",
    "                                label=' ',groupby='neighborhood', widget_location='left_top', \n",
    "                                title = \"Average Monthly Rent\")"
   ]
  },
  {
   "cell_type": "markdown",
   "metadata": {},
   "source": [
    "## The Top 10 Most Expensive Neighborhoods\n",
    "\n",
    "In this section, you will need to calculate the mean sale price per square foot for each neighborhood and then sort the values to obtain the top 10 most expensive neighborhoods on average. Plot the results as a bar chart."
   ]
  },
  {
   "cell_type": "code",
   "execution_count": 309,
   "metadata": {},
   "outputs": [
    {
     "data": {
      "text/html": [
       "<div>\n",
       "<style scoped>\n",
       "    .dataframe tbody tr th:only-of-type {\n",
       "        vertical-align: middle;\n",
       "    }\n",
       "\n",
       "    .dataframe tbody tr th {\n",
       "        vertical-align: top;\n",
       "    }\n",
       "\n",
       "    .dataframe thead th {\n",
       "        text-align: right;\n",
       "    }\n",
       "</style>\n",
       "<table border=\"1\" class=\"dataframe\">\n",
       "  <thead>\n",
       "    <tr style=\"text-align: right;\">\n",
       "      <th></th>\n",
       "      <th></th>\n",
       "      <th>sale_price_sqr_foot</th>\n",
       "      <th>gross_rent</th>\n",
       "    </tr>\n",
       "    <tr>\n",
       "      <th>year</th>\n",
       "      <th>neighborhood</th>\n",
       "      <th></th>\n",
       "      <th></th>\n",
       "    </tr>\n",
       "  </thead>\n",
       "  <tbody>\n",
       "    <tr>\n",
       "      <th>2015</th>\n",
       "      <th>Union Square District</th>\n",
       "      <td>2258.702832</td>\n",
       "      <td>3739</td>\n",
       "    </tr>\n",
       "    <tr>\n",
       "      <th rowspan=\"2\" valign=\"top\">2016</th>\n",
       "      <th>Presidio Heights</th>\n",
       "      <td>1465.968586</td>\n",
       "      <td>4390</td>\n",
       "    </tr>\n",
       "    <tr>\n",
       "      <th>Merced Heights</th>\n",
       "      <td>1416.666667</td>\n",
       "      <td>4390</td>\n",
       "    </tr>\n",
       "    <tr>\n",
       "      <th>2013</th>\n",
       "      <th>Union Square District</th>\n",
       "      <td>1290.472107</td>\n",
       "      <td>2971</td>\n",
       "    </tr>\n",
       "    <tr>\n",
       "      <th>2014</th>\n",
       "      <th>Miraloma Park</th>\n",
       "      <td>1267.766203</td>\n",
       "      <td>3528</td>\n",
       "    </tr>\n",
       "    <tr>\n",
       "      <th rowspan=\"2\" valign=\"top\">2016</th>\n",
       "      <th>Parnassus/Ashbury Heights</th>\n",
       "      <td>1207.997485</td>\n",
       "      <td>4390</td>\n",
       "    </tr>\n",
       "    <tr>\n",
       "      <th>Outer Richmond</th>\n",
       "      <td>1196.645437</td>\n",
       "      <td>4390</td>\n",
       "    </tr>\n",
       "    <tr>\n",
       "      <th>2015</th>\n",
       "      <th>Marina</th>\n",
       "      <td>1132.837361</td>\n",
       "      <td>3739</td>\n",
       "    </tr>\n",
       "    <tr>\n",
       "      <th>2014</th>\n",
       "      <th>South of Market</th>\n",
       "      <td>1119.838877</td>\n",
       "      <td>3528</td>\n",
       "    </tr>\n",
       "    <tr>\n",
       "      <th>2015</th>\n",
       "      <th>Corona Heights</th>\n",
       "      <td>1100.791194</td>\n",
       "      <td>3739</td>\n",
       "    </tr>\n",
       "  </tbody>\n",
       "</table>\n",
       "</div>"
      ],
      "text/plain": [
       "                                sale_price_sqr_foot  gross_rent\n",
       "year neighborhood                                              \n",
       "2015 Union Square District              2258.702832        3739\n",
       "2016 Presidio Heights                   1465.968586        4390\n",
       "     Merced Heights                     1416.666667        4390\n",
       "2013 Union Square District              1290.472107        2971\n",
       "2014 Miraloma Park                      1267.766203        3528\n",
       "2016 Parnassus/Ashbury Heights          1207.997485        4390\n",
       "     Outer Richmond                     1196.645437        4390\n",
       "2015 Marina                             1132.837361        3739\n",
       "2014 South of Market                    1119.838877        3528\n",
       "2015 Corona Heights                     1100.791194        3739"
      ]
     },
     "execution_count": 309,
     "metadata": {},
     "output_type": "execute_result"
    }
   ],
   "source": [
    "# Getting the data from the top 10 expensive neighborhoods to own\n",
    "Expensive_SFN = sanfran_df.groupby(['year','neighborhood']).mean().sort_values(ascending=False, by='sale_price_sqr_foot')\n",
    "Expensive_SFN = Expensive_SFN.head(10)\n",
    "TOP10_NSF = Expensive_SFN[['sale_price_sqr_foot', 'gross_rent']]\n",
    "TOP10_NSF"
   ]
  },
  {
   "cell_type": "code",
   "execution_count": 314,
   "metadata": {},
   "outputs": [
    {
     "data": {},
     "metadata": {},
     "output_type": "display_data"
    },
    {
     "data": {},
     "metadata": {},
     "output_type": "display_data"
    },
    {
     "data": {
      "application/vnd.holoviews_exec.v0+json": "",
      "text/html": [
       "<div id='12524'>\n",
       "\n",
       "\n",
       "\n",
       "\n",
       "\n",
       "  <div class=\"bk-root\" id=\"1425761c-d1b1-4a53-8d56-b2e6dc41be12\" data-root-id=\"12524\"></div>\n",
       "</div>\n",
       "<script type=\"application/javascript\">(function(root) {\n",
       "  function embed_document(root) {\n",
       "    var docs_json = {\"b6584a68-331b-4d80-bbe0-64a065143092\":{\"defs\":[],\"roots\":{\"references\":[{\"attributes\":{\"axis\":{\"id\":\"12543\"},\"grid_line_color\":null,\"ticker\":null},\"id\":\"12545\",\"type\":\"Grid\"},{\"attributes\":{\"children\":[{\"id\":\"12525\"},{\"id\":\"12534\"}],\"margin\":[0,0,0,0],\"name\":\"Row25896\"},\"id\":\"12524\",\"type\":\"Row\"},{\"attributes\":{\"below\":[{\"id\":\"12543\"}],\"center\":[{\"id\":\"12545\"},{\"id\":\"12549\"}],\"height\":450,\"left\":[{\"id\":\"12546\"}],\"margin\":[5,5,5,5],\"min_border_bottom\":10,\"min_border_left\":10,\"min_border_right\":10,\"min_border_top\":10,\"renderers\":[{\"id\":\"12570\"}],\"sizing_mode\":\"fixed\",\"title\":{\"id\":\"12535\"},\"toolbar\":{\"id\":\"12556\"},\"width\":650,\"x_range\":{\"id\":\"12531\"},\"x_scale\":{\"id\":\"12539\"},\"y_range\":{\"id\":\"12532\"},\"y_scale\":{\"id\":\"12541\"}},\"id\":\"12534\",\"subtype\":\"Figure\",\"type\":\"Plot\"},{\"attributes\":{\"data\":{\"neighborhood\":[\"Union Square District\"],\"sale_price_sqr_foot\":{\"__ndarray__\":\"ML7sb+MplEA=\",\"dtype\":\"float64\",\"order\":\"little\",\"shape\":[1]},\"xoffsets\":[[\"2013\",\"Union Square District\"]],\"year\":[\"2013\"]},\"selected\":{\"id\":\"12565\"},\"selection_policy\":{\"id\":\"12592\"}},\"id\":\"12564\",\"type\":\"ColumnDataSource\"},{\"attributes\":{},\"id\":\"12550\",\"type\":\"SaveTool\"},{\"attributes\":{\"active_multi\":null,\"tools\":[{\"id\":\"12533\"},{\"id\":\"12550\"},{\"id\":\"12551\"},{\"id\":\"12552\"},{\"id\":\"12553\"},{\"id\":\"12554\"}]},\"id\":\"12556\",\"type\":\"Toolbar\"},{\"attributes\":{},\"id\":\"12551\",\"type\":\"PanTool\"},{\"attributes\":{\"data_source\":{\"id\":\"12564\"},\"glyph\":{\"id\":\"12567\"},\"hover_glyph\":null,\"muted_glyph\":{\"id\":\"12569\"},\"nonselection_glyph\":{\"id\":\"12568\"},\"selection_glyph\":{\"id\":\"12572\"},\"view\":{\"id\":\"12571\"}},\"id\":\"12570\",\"type\":\"GlyphRenderer\"},{\"attributes\":{\"bottom\":{\"value\":0},\"fill_alpha\":{\"value\":1.0},\"fill_color\":{\"field\":\"neighborhood\",\"transform\":{\"id\":\"12563\"}},\"hatch_alpha\":{\"value\":1.0},\"hatch_color\":{\"value\":\"black\"},\"hatch_scale\":{\"value\":12.0},\"hatch_weight\":{\"value\":1.0},\"line_alpha\":{\"value\":1.0},\"line_cap\":{\"value\":\"butt\"},\"line_color\":{\"value\":\"black\"},\"line_dash\":{\"value\":[]},\"line_dash_offset\":{\"value\":0},\"line_join\":{\"value\":\"bevel\"},\"line_width\":{\"value\":1},\"top\":{\"field\":\"sale_price_sqr_foot\"},\"width\":{\"value\":0.8},\"x\":{\"field\":\"xoffsets\"}},\"id\":\"12572\",\"type\":\"VBar\"},{\"attributes\":{\"overlay\":{\"id\":\"12555\"}},\"id\":\"12553\",\"type\":\"BoxZoomTool\"},{\"attributes\":{\"args\":{\"bidirectional\":false,\"properties\":{},\"source\":{\"id\":\"12529\"},\"target\":{\"id\":\"12528\"}},\"code\":\"try { \\n    var labels = ['year: <b>2013</b>', 'year: <b>2014</b>', 'year: <b>2015</b>', 'year: <b>2016</b>']\\n    target.text = labels[source.value]\\n     } catch(err) { console.log(err) }\",\"tags\":[2540902608776]},\"id\":\"12615\",\"type\":\"CustomJS\"},{\"attributes\":{},\"id\":\"12552\",\"type\":\"WheelZoomTool\"},{\"attributes\":{\"margin\":[5,5,5,5],\"name\":\"VSpacer25909\",\"sizing_mode\":\"stretch_height\"},\"id\":\"12530\",\"type\":\"Spacer\"},{\"attributes\":{\"text\":\"Top 10 Expensive Neighborhood\",\"text_color\":\"black\",\"text_font_size\":\"12pt\"},\"id\":\"12535\",\"type\":\"Title\"},{\"attributes\":{},\"id\":\"12576\",\"type\":\"AllLabels\"},{\"attributes\":{\"factors\":[\"Union Square District\"],\"palette\":[\"#30a2da\"]},\"id\":\"12563\",\"type\":\"CategoricalColorMapper\"},{\"attributes\":{},\"id\":\"12554\",\"type\":\"ResetTool\"},{\"attributes\":{\"bottom_units\":\"screen\",\"fill_alpha\":0.5,\"fill_color\":\"lightgrey\",\"left_units\":\"screen\",\"level\":\"overlay\",\"line_alpha\":1.0,\"line_color\":\"black\",\"line_dash\":[4,4],\"line_width\":2,\"right_units\":\"screen\",\"syncable\":false,\"top_units\":\"screen\"},\"id\":\"12555\",\"type\":\"BoxAnnotation\"},{\"attributes\":{\"children\":[{\"id\":\"12526\"},{\"id\":\"12530\"}],\"margin\":[0,0,0,0],\"name\":\"Column25910\"},\"id\":\"12525\",\"type\":\"Column\"},{\"attributes\":{\"axis_label\":\"neighborhood\",\"formatter\":{\"id\":\"12575\"},\"major_label_orientation\":0.6981317007977318,\"major_label_policy\":{\"id\":\"12574\"},\"ticker\":{\"id\":\"12544\"}},\"id\":\"12543\",\"type\":\"CategoricalAxis\"},{\"attributes\":{},\"id\":\"12539\",\"type\":\"CategoricalScale\"},{\"attributes\":{\"source\":{\"id\":\"12564\"}},\"id\":\"12571\",\"type\":\"CDSView\"},{\"attributes\":{},\"id\":\"12575\",\"type\":\"CategoricalTickFormatter\"},{\"attributes\":{},\"id\":\"12565\",\"type\":\"Selection\"},{\"attributes\":{\"end\":1290.472106646641,\"reset_end\":1290.472106646641,\"reset_start\":0.0,\"tags\":[[[\"sale_price_sqr_foot\",\"sale_price_sqr_foot\",null]]]},\"id\":\"12532\",\"type\":\"Range1d\"},{\"attributes\":{},\"id\":\"12541\",\"type\":\"LinearScale\"},{\"attributes\":{\"fill_alpha\":{\"value\":0.2},\"fill_color\":{\"field\":\"neighborhood\",\"transform\":{\"id\":\"12563\"}},\"line_alpha\":{\"value\":0.2},\"top\":{\"field\":\"sale_price_sqr_foot\"},\"width\":{\"value\":0.8},\"x\":{\"field\":\"xoffsets\"}},\"id\":\"12569\",\"type\":\"VBar\"},{\"attributes\":{\"children\":[{\"id\":\"12527\"}],\"css_classes\":[\"panel-widget-box\"],\"margin\":[5,5,5,5],\"name\":\"WidgetBox25897\"},\"id\":\"12526\",\"type\":\"Column\"},{\"attributes\":{\"factors\":[[\"2013\",\"Union Square District\"]],\"tags\":[[[\"year\",\"year\",null],[\"neighborhood\",\"neighborhood\",null]]]},\"id\":\"12531\",\"type\":\"FactorRange\"},{\"attributes\":{},\"id\":\"12544\",\"type\":\"CategoricalTicker\"},{\"attributes\":{\"end\":3,\"js_property_callbacks\":{\"change:value\":[{\"id\":\"12615\"}]},\"margin\":[0,20,20,20],\"min_width\":250,\"show_value\":false,\"start\":0,\"tooltips\":false,\"value\":0,\"width\":250},\"id\":\"12529\",\"type\":\"Slider\"},{\"attributes\":{\"axis\":{\"id\":\"12546\"},\"dimension\":1,\"grid_line_color\":null,\"ticker\":null},\"id\":\"12549\",\"type\":\"Grid\"},{\"attributes\":{\"children\":[{\"id\":\"12528\"},{\"id\":\"12529\"}],\"margin\":[0,0,0,0],\"min_width\":290,\"name\":\"Column25906\",\"width\":290},\"id\":\"12527\",\"type\":\"Column\"},{\"attributes\":{},\"id\":\"12577\",\"type\":\"BasicTickFormatter\"},{\"attributes\":{\"callback\":null,\"renderers\":[{\"id\":\"12570\"}],\"tags\":[\"hv_created\"],\"tooltips\":[[\"year\",\"@{year}\"],[\"neighborhood\",\"@{neighborhood}\"],[\"sale_price_sqr_foot\",\"@{sale_price_sqr_foot}\"]]},\"id\":\"12533\",\"type\":\"HoverTool\"},{\"attributes\":{},\"id\":\"12574\",\"type\":\"AllLabels\"},{\"attributes\":{},\"id\":\"12547\",\"type\":\"BasicTicker\"},{\"attributes\":{\"axis_label\":\"average sale per square foot\",\"formatter\":{\"id\":\"12577\"},\"major_label_policy\":{\"id\":\"12576\"},\"ticker\":{\"id\":\"12547\"}},\"id\":\"12546\",\"type\":\"LinearAxis\"},{\"attributes\":{\"fill_color\":{\"field\":\"neighborhood\",\"transform\":{\"id\":\"12563\"}},\"top\":{\"field\":\"sale_price_sqr_foot\"},\"width\":{\"value\":0.8},\"x\":{\"field\":\"xoffsets\"}},\"id\":\"12567\",\"type\":\"VBar\"},{\"attributes\":{\"fill_alpha\":{\"value\":0.1},\"fill_color\":{\"field\":\"neighborhood\",\"transform\":{\"id\":\"12563\"}},\"line_alpha\":{\"value\":0.1},\"top\":{\"field\":\"sale_price_sqr_foot\"},\"width\":{\"value\":0.8},\"x\":{\"field\":\"xoffsets\"}},\"id\":\"12568\",\"type\":\"VBar\"},{\"attributes\":{\"client_comm_id\":\"8138caeef19146dd8382ec2ae49eb51c\",\"comm_id\":\"a1acd864747344f4a1556af55d795a5d\",\"plot_id\":\"12524\"},\"id\":\"12636\",\"type\":\"panel.models.comm_manager.CommManager\"},{\"attributes\":{},\"id\":\"12592\",\"type\":\"UnionRenderers\"},{\"attributes\":{\"margin\":[20,0,0,20],\"name\":\"\",\"style\":{\"white-space\":\"nowrap\"},\"text\":\"year: <b>2013</b>\",\"width\":250},\"id\":\"12528\",\"type\":\"Div\"}],\"root_ids\":[\"12524\",\"12636\"]},\"title\":\"Bokeh Application\",\"version\":\"2.3.1\"}};\n",
       "    var render_items = [{\"docid\":\"b6584a68-331b-4d80-bbe0-64a065143092\",\"root_ids\":[\"12524\"],\"roots\":{\"12524\":\"1425761c-d1b1-4a53-8d56-b2e6dc41be12\"}}];\n",
       "    root.Bokeh.embed.embed_items_notebook(docs_json, render_items);\n",
       "  }\n",
       "  if (root.Bokeh !== undefined && root.Bokeh.Panel !== undefined && root['Plotly'] !== undefined ) {\n",
       "    embed_document(root);\n",
       "  } else {\n",
       "    var attempts = 0;\n",
       "    var timer = setInterval(function(root) {\n",
       "      if (root.Bokeh !== undefined && root.Bokeh.Panel !== undefined && root['Plotly'] !== undefined) {\n",
       "        clearInterval(timer);\n",
       "        embed_document(root);\n",
       "      } else if (document.readyState == \"complete\") {\n",
       "        attempts++;\n",
       "        if (attempts > 100) {\n",
       "          clearInterval(timer);\n",
       "          console.log(\"Bokeh: ERROR: Unable to run BokehJS code because BokehJS library is missing\");\n",
       "        }\n",
       "      }\n",
       "    }, 10, root)\n",
       "  }\n",
       "})(window);</script>"
      ],
      "text/plain": [
       "Row\n",
       "    [0] Column\n",
       "        [0] WidgetBox\n",
       "            [0] DiscreteSlider(margin=(20, 20, 20, 20), name='year', options=OrderedDict([('2013', ...]), value=2013, width=250)\n",
       "        [1] VSpacer()\n",
       "    [1] HoloViews(DynamicMap, widget_location='left_top')"
      ]
     },
     "execution_count": 314,
     "metadata": {
      "application/vnd.holoviews_exec.v0+json": {
       "id": "12524"
      }
     },
     "output_type": "execute_result"
    }
   ],
   "source": [
    "# Plotting the data from the top 10 expensive neighborhoods\n",
    "TOP10_NSF['sale_price_sqr_foot'].hvplot.bar( xlabel='neighborhood', ylabel='average sale per square foot', \n",
    "                                label='', groupby ='year', widget_location='left_top', \n",
    "                                title = \"Top 10 Expensive Neighborhood\", rot=40,\n",
    "    height=450,\n",
    "    width=650)\n",
    "                                        "
   ]
  },
  {
   "cell_type": "markdown",
   "metadata": {},
   "source": [
    "- - - "
   ]
  },
  {
   "cell_type": "markdown",
   "metadata": {},
   "source": [
    "## Comparing cost to purchase versus rental income\n",
    "\n",
    "In this section, you will use `hvplot` to create an interactive visualization with a dropdown selector for the neighborhood. This visualization will feature a side-by-side comparison of average price per square foot versus average montly rent by year.  \n",
    "\n",
    "**Hint:** Use the `hvplot` parameter, `groupby`, to create a dropdown selector for the neighborhood."
   ]
  },
  {
   "cell_type": "code",
   "execution_count": 220,
   "metadata": {},
   "outputs": [
    {
     "data": {
      "text/html": [
       "<div>\n",
       "<style scoped>\n",
       "    .dataframe tbody tr th:only-of-type {\n",
       "        vertical-align: middle;\n",
       "    }\n",
       "\n",
       "    .dataframe tbody tr th {\n",
       "        vertical-align: top;\n",
       "    }\n",
       "\n",
       "    .dataframe thead th {\n",
       "        text-align: right;\n",
       "    }\n",
       "</style>\n",
       "<table border=\"1\" class=\"dataframe\">\n",
       "  <thead>\n",
       "    <tr style=\"text-align: right;\">\n",
       "      <th></th>\n",
       "      <th></th>\n",
       "      <th>sale_price_sqr_foot</th>\n",
       "      <th>housing_units</th>\n",
       "      <th>gross_rent</th>\n",
       "    </tr>\n",
       "    <tr>\n",
       "      <th>year</th>\n",
       "      <th>neighborhood</th>\n",
       "      <th></th>\n",
       "      <th></th>\n",
       "      <th></th>\n",
       "    </tr>\n",
       "  </thead>\n",
       "  <tbody>\n",
       "    <tr>\n",
       "      <th rowspan=\"5\" valign=\"top\">2010</th>\n",
       "      <th>Alamo Square</th>\n",
       "      <td>291.182945</td>\n",
       "      <td>372560</td>\n",
       "      <td>1239</td>\n",
       "    </tr>\n",
       "    <tr>\n",
       "      <th>Anza Vista</th>\n",
       "      <td>267.932583</td>\n",
       "      <td>372560</td>\n",
       "      <td>1239</td>\n",
       "    </tr>\n",
       "    <tr>\n",
       "      <th>Bayview</th>\n",
       "      <td>170.098665</td>\n",
       "      <td>372560</td>\n",
       "      <td>1239</td>\n",
       "    </tr>\n",
       "    <tr>\n",
       "      <th>Buena Vista Park</th>\n",
       "      <td>347.394919</td>\n",
       "      <td>372560</td>\n",
       "      <td>1239</td>\n",
       "    </tr>\n",
       "    <tr>\n",
       "      <th>Central Richmond</th>\n",
       "      <td>319.027623</td>\n",
       "      <td>372560</td>\n",
       "      <td>1239</td>\n",
       "    </tr>\n",
       "  </tbody>\n",
       "</table>\n",
       "</div>"
      ],
      "text/plain": [
       "                       sale_price_sqr_foot  housing_units  gross_rent\n",
       "year neighborhood                                                    \n",
       "2010 Alamo Square               291.182945         372560        1239\n",
       "     Anza Vista                 267.932583         372560        1239\n",
       "     Bayview                    170.098665         372560        1239\n",
       "     Buena Vista Park           347.394919         372560        1239\n",
       "     Central Richmond           319.027623         372560        1239"
      ]
     },
     "execution_count": 220,
     "metadata": {},
     "output_type": "execute_result"
    }
   ],
   "source": [
    "# Fetch the previously generated DataFrame that was grouped by year and neighborhood\n",
    "sanfran_df.head()"
   ]
  },
  {
   "cell_type": "markdown",
   "metadata": {},
   "source": [
    "- - - "
   ]
  },
  {
   "cell_type": "markdown",
   "metadata": {},
   "source": [
    "## Neighborhood Map\n",
    "\n",
    "In this section, you will read in neighborhoods location data and build an interactive map with the average house value per neighborhood. Use a `scatter_mapbox` from Plotly express to create the visualization. Remember, you will need your Mapbox API key for this."
   ]
  },
  {
   "cell_type": "markdown",
   "metadata": {},
   "source": [
    "### Load Location Data"
   ]
  },
  {
   "cell_type": "code",
   "execution_count": 239,
   "metadata": {},
   "outputs": [
    {
     "data": {
      "text/html": [
       "<div>\n",
       "<style scoped>\n",
       "    .dataframe tbody tr th:only-of-type {\n",
       "        vertical-align: middle;\n",
       "    }\n",
       "\n",
       "    .dataframe tbody tr th {\n",
       "        vertical-align: top;\n",
       "    }\n",
       "\n",
       "    .dataframe thead th {\n",
       "        text-align: right;\n",
       "    }\n",
       "</style>\n",
       "<table border=\"1\" class=\"dataframe\">\n",
       "  <thead>\n",
       "    <tr style=\"text-align: right;\">\n",
       "      <th></th>\n",
       "      <th>Neighborhood</th>\n",
       "      <th>Lat</th>\n",
       "      <th>Lon</th>\n",
       "    </tr>\n",
       "  </thead>\n",
       "  <tbody>\n",
       "    <tr>\n",
       "      <th>0</th>\n",
       "      <td>Alamo Square</td>\n",
       "      <td>37.791012</td>\n",
       "      <td>-122.402100</td>\n",
       "    </tr>\n",
       "    <tr>\n",
       "      <th>1</th>\n",
       "      <td>Anza Vista</td>\n",
       "      <td>37.779598</td>\n",
       "      <td>-122.443451</td>\n",
       "    </tr>\n",
       "    <tr>\n",
       "      <th>2</th>\n",
       "      <td>Bayview</td>\n",
       "      <td>37.734670</td>\n",
       "      <td>-122.401060</td>\n",
       "    </tr>\n",
       "    <tr>\n",
       "      <th>3</th>\n",
       "      <td>Bayview Heights</td>\n",
       "      <td>37.728740</td>\n",
       "      <td>-122.410980</td>\n",
       "    </tr>\n",
       "    <tr>\n",
       "      <th>4</th>\n",
       "      <td>Bernal Heights</td>\n",
       "      <td>37.728630</td>\n",
       "      <td>-122.443050</td>\n",
       "    </tr>\n",
       "  </tbody>\n",
       "</table>\n",
       "</div>"
      ],
      "text/plain": [
       "      Neighborhood        Lat         Lon\n",
       "0     Alamo Square  37.791012 -122.402100\n",
       "1       Anza Vista  37.779598 -122.443451\n",
       "2          Bayview  37.734670 -122.401060\n",
       "3  Bayview Heights  37.728740 -122.410980\n",
       "4   Bernal Heights  37.728630 -122.443050"
      ]
     },
     "execution_count": 239,
     "metadata": {},
     "output_type": "execute_result"
    }
   ],
   "source": [
    "# Load neighborhoods coordinates data\n",
    "file_path = Path(\"Data/neighborhoods_coordinates.csv\")\n",
    "neighborhoods_data = pd.read_csv(file_path)\n",
    "neighborhoods_data.head()"
   ]
  },
  {
   "cell_type": "markdown",
   "metadata": {},
   "source": [
    "### Data Preparation\n",
    "\n",
    "You will need to join the location data with the mean values per neighborhood.\n",
    "\n",
    "1. Calculate the mean values for each neighborhood.\n",
    "\n",
    "2. Join the average values with the neighborhood locations."
   ]
  },
  {
   "cell_type": "code",
   "execution_count": 253,
   "metadata": {},
   "outputs": [
    {
     "data": {
      "text/html": [
       "<div>\n",
       "<style scoped>\n",
       "    .dataframe tbody tr th:only-of-type {\n",
       "        vertical-align: middle;\n",
       "    }\n",
       "\n",
       "    .dataframe tbody tr th {\n",
       "        vertical-align: top;\n",
       "    }\n",
       "\n",
       "    .dataframe thead th {\n",
       "        text-align: right;\n",
       "    }\n",
       "</style>\n",
       "<table border=\"1\" class=\"dataframe\">\n",
       "  <thead>\n",
       "    <tr style=\"text-align: right;\">\n",
       "      <th></th>\n",
       "      <th>Neighborhood</th>\n",
       "      <th>Sales Price per SqFt</th>\n",
       "      <th>Housing Units</th>\n",
       "      <th>Gross Rent</th>\n",
       "    </tr>\n",
       "  </thead>\n",
       "  <tbody>\n",
       "    <tr>\n",
       "      <th>0</th>\n",
       "      <td>Alamo Square</td>\n",
       "      <td>366.020712</td>\n",
       "      <td>378401.0</td>\n",
       "      <td>2817.285714</td>\n",
       "    </tr>\n",
       "    <tr>\n",
       "      <th>1</th>\n",
       "      <td>Anza Vista</td>\n",
       "      <td>373.382198</td>\n",
       "      <td>379050.0</td>\n",
       "      <td>3031.833333</td>\n",
       "    </tr>\n",
       "    <tr>\n",
       "      <th>2</th>\n",
       "      <td>Bayview</td>\n",
       "      <td>204.588623</td>\n",
       "      <td>376454.0</td>\n",
       "      <td>2318.400000</td>\n",
       "    </tr>\n",
       "    <tr>\n",
       "      <th>3</th>\n",
       "      <td>Bayview Heights</td>\n",
       "      <td>590.792839</td>\n",
       "      <td>382295.0</td>\n",
       "      <td>3739.000000</td>\n",
       "    </tr>\n",
       "    <tr>\n",
       "      <th>4</th>\n",
       "      <td>Bernal Heights</td>\n",
       "      <td>576.746488</td>\n",
       "      <td>379374.5</td>\n",
       "      <td>3080.333333</td>\n",
       "    </tr>\n",
       "  </tbody>\n",
       "</table>\n",
       "</div>"
      ],
      "text/plain": [
       "      Neighborhood  Sales Price per SqFt  Housing Units   Gross Rent\n",
       "0     Alamo Square            366.020712       378401.0  2817.285714\n",
       "1       Anza Vista            373.382198       379050.0  3031.833333\n",
       "2          Bayview            204.588623       376454.0  2318.400000\n",
       "3  Bayview Heights            590.792839       382295.0  3739.000000\n",
       "4  Bernal Heights             576.746488       379374.5  3080.333333"
      ]
     },
     "execution_count": 253,
     "metadata": {},
     "output_type": "execute_result"
    }
   ],
   "source": [
    "# Calculate the mean values for each neighborhood3\n",
    "nhb_sf = sanfran_df.groupby(by=\"neighborhood\").mean()\n",
    "nhb_sf.reset_index(inplace =True)\n",
    "nhb_sf.rename(columns={'neighborhood': 'Neighborhood', \n",
    "                       \"sale_price_sqr_foot\": \"Sales Price per SqFt\", \n",
    "                       'housing_units': 'Housing Units', 'gross_rent': 'Gross Rent'}, \n",
    "              inplace=True)\n",
    "nhb_sf.head()"
   ]
  },
  {
   "cell_type": "code",
   "execution_count": 271,
   "metadata": {},
   "outputs": [
    {
     "data": {
      "text/html": [
       "<div>\n",
       "<style scoped>\n",
       "    .dataframe tbody tr th:only-of-type {\n",
       "        vertical-align: middle;\n",
       "    }\n",
       "\n",
       "    .dataframe tbody tr th {\n",
       "        vertical-align: top;\n",
       "    }\n",
       "\n",
       "    .dataframe thead th {\n",
       "        text-align: right;\n",
       "    }\n",
       "</style>\n",
       "<table border=\"1\" class=\"dataframe\">\n",
       "  <thead>\n",
       "    <tr style=\"text-align: right;\">\n",
       "      <th></th>\n",
       "      <th>Neighborhood</th>\n",
       "      <th>Sales Price per SqFt</th>\n",
       "      <th>Housing Units</th>\n",
       "      <th>Gross Rent</th>\n",
       "      <th>Lat</th>\n",
       "      <th>Lon</th>\n",
       "    </tr>\n",
       "  </thead>\n",
       "  <tbody>\n",
       "    <tr>\n",
       "      <th>0</th>\n",
       "      <td>Alamo Square</td>\n",
       "      <td>366.020712</td>\n",
       "      <td>378401.0</td>\n",
       "      <td>2817.285714</td>\n",
       "      <td>37.791012</td>\n",
       "      <td>-122.402100</td>\n",
       "    </tr>\n",
       "    <tr>\n",
       "      <th>1</th>\n",
       "      <td>Anza Vista</td>\n",
       "      <td>373.382198</td>\n",
       "      <td>379050.0</td>\n",
       "      <td>3031.833333</td>\n",
       "      <td>37.779598</td>\n",
       "      <td>-122.443451</td>\n",
       "    </tr>\n",
       "    <tr>\n",
       "      <th>2</th>\n",
       "      <td>Bayview</td>\n",
       "      <td>204.588623</td>\n",
       "      <td>376454.0</td>\n",
       "      <td>2318.400000</td>\n",
       "      <td>37.734670</td>\n",
       "      <td>-122.401060</td>\n",
       "    </tr>\n",
       "    <tr>\n",
       "      <th>3</th>\n",
       "      <td>Bayview Heights</td>\n",
       "      <td>590.792839</td>\n",
       "      <td>382295.0</td>\n",
       "      <td>3739.000000</td>\n",
       "      <td>37.728740</td>\n",
       "      <td>-122.410980</td>\n",
       "    </tr>\n",
       "    <tr>\n",
       "      <th>4</th>\n",
       "      <td>Buena Vista Park</td>\n",
       "      <td>452.680591</td>\n",
       "      <td>378076.5</td>\n",
       "      <td>2698.833333</td>\n",
       "      <td>37.768160</td>\n",
       "      <td>-122.439330</td>\n",
       "    </tr>\n",
       "  </tbody>\n",
       "</table>\n",
       "</div>"
      ],
      "text/plain": [
       "       Neighborhood  Sales Price per SqFt  Housing Units   Gross Rent  \\\n",
       "0      Alamo Square            366.020712       378401.0  2817.285714   \n",
       "1        Anza Vista            373.382198       379050.0  3031.833333   \n",
       "2           Bayview            204.588623       376454.0  2318.400000   \n",
       "3   Bayview Heights            590.792839       382295.0  3739.000000   \n",
       "4  Buena Vista Park            452.680591       378076.5  2698.833333   \n",
       "\n",
       "         Lat         Lon  \n",
       "0  37.791012 -122.402100  \n",
       "1  37.779598 -122.443451  \n",
       "2  37.734670 -122.401060  \n",
       "3  37.728740 -122.410980  \n",
       "4  37.768160 -122.439330  "
      ]
     },
     "execution_count": 271,
     "metadata": {},
     "output_type": "execute_result"
    }
   ],
   "source": [
    "# Join the average values with the neighborhood locations\n",
    "all_nbhs = pd.merge(nhb_sf,neighborhoods_data, on=\"Neighborhood\")\n",
    "all_nbhs.head()"
   ]
  },
  {
   "cell_type": "markdown",
   "metadata": {},
   "source": [
    "### Mapbox Visualization\n",
    "\n",
    "Plot the average values per neighborhood using a Plotly express `scatter_mapbox` visualization."
   ]
  },
  {
   "cell_type": "code",
   "execution_count": null,
   "metadata": {},
   "outputs": [],
   "source": []
  },
  {
   "cell_type": "code",
   "execution_count": 294,
   "metadata": {},
   "outputs": [
    {
     "data": {
      "application/vnd.plotly.v1+json": {
       "config": {
        "plotlyServerURL": "https://plot.ly"
       },
       "data": [
        {
         "hovertemplate": "Neighborhood=Alamo Square<br>Sales Price per SqFt=%{marker.size}<br>Lat=%{lat}<br>Lon=%{lon}<extra></extra>",
         "lat": [
          37.791012
         ],
         "legendgroup": "Alamo Square",
         "lon": [
          -122.4021
         ],
         "marker": {
          "color": "#636efa",
          "size": [
           366.02071153227644
          ],
          "sizemode": "area",
          "sizeref": 2.259983144180161
         },
         "mode": "markers",
         "name": "Alamo Square",
         "showlegend": true,
         "subplot": "mapbox",
         "type": "scattermapbox"
        },
        {
         "hovertemplate": "Neighborhood=Anza Vista<br>Sales Price per SqFt=%{marker.size}<br>Lat=%{lat}<br>Lon=%{lon}<extra></extra>",
         "lat": [
          37.779598
         ],
         "legendgroup": "Anza Vista",
         "lon": [
          -122.443451
         ],
         "marker": {
          "color": "#EF553B",
          "size": [
           373.38219782647707
          ],
          "sizemode": "area",
          "sizeref": 2.259983144180161
         },
         "mode": "markers",
         "name": "Anza Vista",
         "showlegend": true,
         "subplot": "mapbox",
         "type": "scattermapbox"
        },
        {
         "hovertemplate": "Neighborhood=Bayview<br>Sales Price per SqFt=%{marker.size}<br>Lat=%{lat}<br>Lon=%{lon}<extra></extra>",
         "lat": [
          37.73467
         ],
         "legendgroup": "Bayview",
         "lon": [
          -122.40106000000002
         ],
         "marker": {
          "color": "#00cc96",
          "size": [
           204.58862288246596
          ],
          "sizemode": "area",
          "sizeref": 2.259983144180161
         },
         "mode": "markers",
         "name": "Bayview",
         "showlegend": true,
         "subplot": "mapbox",
         "type": "scattermapbox"
        },
        {
         "hovertemplate": "Neighborhood=Bayview Heights<br>Sales Price per SqFt=%{marker.size}<br>Lat=%{lat}<br>Lon=%{lon}<extra></extra>",
         "lat": [
          37.72874
         ],
         "legendgroup": "Bayview Heights",
         "lon": [
          -122.41098000000001
         ],
         "marker": {
          "color": "#ab63fa",
          "size": [
           590.7928388746802
          ],
          "sizemode": "area",
          "sizeref": 2.259983144180161
         },
         "mode": "markers",
         "name": "Bayview Heights",
         "showlegend": true,
         "subplot": "mapbox",
         "type": "scattermapbox"
        },
        {
         "hovertemplate": "Neighborhood=Buena Vista Park<br>Sales Price per SqFt=%{marker.size}<br>Lat=%{lat}<br>Lon=%{lon}<extra></extra>",
         "lat": [
          37.768159999999995
         ],
         "legendgroup": "Buena Vista Park",
         "lon": [
          -122.43933
         ],
         "marker": {
          "color": "#FFA15A",
          "size": [
           452.6805909308442
          ],
          "sizemode": "area",
          "sizeref": 2.259983144180161
         },
         "mode": "markers",
         "name": "Buena Vista Park",
         "showlegend": true,
         "subplot": "mapbox",
         "type": "scattermapbox"
        },
        {
         "hovertemplate": "Neighborhood=Central Richmond<br>Sales Price per SqFt=%{marker.size}<br>Lat=%{lat}<br>Lon=%{lon}<extra></extra>",
         "lat": [
          37.77789
         ],
         "legendgroup": "Central Richmond",
         "lon": [
          -122.44516999999999
         ],
         "marker": {
          "color": "#19d3f3",
          "size": [
           394.4223987800589
          ],
          "sizemode": "area",
          "sizeref": 2.259983144180161
         },
         "mode": "markers",
         "name": "Central Richmond",
         "showlegend": true,
         "subplot": "mapbox",
         "type": "scattermapbox"
        },
        {
         "hovertemplate": "Neighborhood=Central Sunset<br>Sales Price per SqFt=%{marker.size}<br>Lat=%{lat}<br>Lon=%{lon}<extra></extra>",
         "lat": [
          37.74961
         ],
         "legendgroup": "Central Sunset",
         "lon": [
          -122.48998999999999
         ],
         "marker": {
          "color": "#FF6692",
          "size": [
           423.6879277015824
          ],
          "sizemode": "area",
          "sizeref": 2.259983144180161
         },
         "mode": "markers",
         "name": "Central Sunset",
         "showlegend": true,
         "subplot": "mapbox",
         "type": "scattermapbox"
        },
        {
         "hovertemplate": "Neighborhood=Clarendon Heights<br>Sales Price per SqFt=%{marker.size}<br>Lat=%{lat}<br>Lon=%{lon}<extra></extra>",
         "lat": [
          37.75331
         ],
         "legendgroup": "Clarendon Heights",
         "lon": [
          -122.44703
         ],
         "marker": {
          "color": "#B6E880",
          "size": [
           487.2448860262575
          ],
          "sizemode": "area",
          "sizeref": 2.259983144180161
         },
         "mode": "markers",
         "name": "Clarendon Heights",
         "showlegend": true,
         "subplot": "mapbox",
         "type": "scattermapbox"
        },
        {
         "hovertemplate": "Neighborhood=Corona Heights<br>Sales Price per SqFt=%{marker.size}<br>Lat=%{lat}<br>Lon=%{lon}<extra></extra>",
         "lat": [
          37.78553
         ],
         "legendgroup": "Corona Heights",
         "lon": [
          -122.456
         ],
         "marker": {
          "color": "#FF97FF",
          "size": [
           587.5390673661739
          ],
          "sizemode": "area",
          "sizeref": 2.259983144180161
         },
         "mode": "markers",
         "name": "Corona Heights",
         "showlegend": true,
         "subplot": "mapbox",
         "type": "scattermapbox"
        },
        {
         "hovertemplate": "Neighborhood=Cow Hollow<br>Sales Price per SqFt=%{marker.size}<br>Lat=%{lat}<br>Lon=%{lon}<extra></extra>",
         "lat": [
          37.79298
         ],
         "legendgroup": "Cow Hollow",
         "lon": [
          -122.43579
         ],
         "marker": {
          "color": "#FECB52",
          "size": [
           665.964041578323
          ],
          "sizemode": "area",
          "sizeref": 2.259983144180161
         },
         "mode": "markers",
         "name": "Cow Hollow",
         "showlegend": true,
         "subplot": "mapbox",
         "type": "scattermapbox"
        },
        {
         "hovertemplate": "Neighborhood=Croker Amazon<br>Sales Price per SqFt=%{marker.size}<br>Lat=%{lat}<br>Lon=%{lon}<extra></extra>",
         "lat": [
          37.7228
         ],
         "legendgroup": "Croker Amazon",
         "lon": [
          -122.43869
         ],
         "marker": {
          "color": "#636efa",
          "size": [
           303.00418440849427
          ],
          "sizemode": "area",
          "sizeref": 2.259983144180161
         },
         "mode": "markers",
         "name": "Croker Amazon",
         "showlegend": true,
         "subplot": "mapbox",
         "type": "scattermapbox"
        },
        {
         "hovertemplate": "Neighborhood=Diamond Heights<br>Sales Price per SqFt=%{marker.size}<br>Lat=%{lat}<br>Lon=%{lon}<extra></extra>",
         "lat": [
          37.728629999999995
         ],
         "legendgroup": "Diamond Heights",
         "lon": [
          -122.44305
         ],
         "marker": {
          "color": "#EF553B",
          "size": [
           434.99173944522124
          ],
          "sizemode": "area",
          "sizeref": 2.259983144180161
         },
         "mode": "markers",
         "name": "Diamond Heights",
         "showlegend": true,
         "subplot": "mapbox",
         "type": "scattermapbox"
        },
        {
         "hovertemplate": "Neighborhood=Duboce Triangle<br>Sales Price per SqFt=%{marker.size}<br>Lat=%{lat}<br>Lon=%{lon}<extra></extra>",
         "lat": [
          37.76964
         ],
         "legendgroup": "Duboce Triangle",
         "lon": [
          -122.42611000000001
         ],
         "marker": {
          "color": "#00cc96",
          "size": [
           502.59915555623616
          ],
          "sizemode": "area",
          "sizeref": 2.259983144180161
         },
         "mode": "markers",
         "name": "Duboce Triangle",
         "showlegend": true,
         "subplot": "mapbox",
         "type": "scattermapbox"
        },
        {
         "hovertemplate": "Neighborhood=Eureka Valley/Dolores Heights<br>Sales Price per SqFt=%{marker.size}<br>Lat=%{lat}<br>Lon=%{lon}<extra></extra>",
         "lat": [
          37.75554
         ],
         "legendgroup": "Eureka Valley/Dolores Heights",
         "lon": [
          -122.43778999999999
         ],
         "marker": {
          "color": "#ab63fa",
          "size": [
           642.2486706357391
          ],
          "sizemode": "area",
          "sizeref": 2.259983144180161
         },
         "mode": "markers",
         "name": "Eureka Valley/Dolores Heights",
         "showlegend": true,
         "subplot": "mapbox",
         "type": "scattermapbox"
        },
        {
         "hovertemplate": "Neighborhood=Excelsior<br>Sales Price per SqFt=%{marker.size}<br>Lat=%{lat}<br>Lon=%{lon}<extra></extra>",
         "lat": [
          37.72874
         ],
         "legendgroup": "Excelsior",
         "lon": [
          -122.41098000000001
         ],
         "marker": {
          "color": "#FFA15A",
          "size": [
           388.76592700230754
          ],
          "sizemode": "area",
          "sizeref": 2.259983144180161
         },
         "mode": "markers",
         "name": "Excelsior",
         "showlegend": true,
         "subplot": "mapbox",
         "type": "scattermapbox"
        },
        {
         "hovertemplate": "Neighborhood=Financial District North<br>Sales Price per SqFt=%{marker.size}<br>Lat=%{lat}<br>Lon=%{lon}<extra></extra>",
         "lat": [
          37.79101
         ],
         "legendgroup": "Financial District North",
         "lon": [
          -122.4021
         ],
         "marker": {
          "color": "#19d3f3",
          "size": [
           391.36253308010487
          ],
          "sizemode": "area",
          "sizeref": 2.259983144180161
         },
         "mode": "markers",
         "name": "Financial District North",
         "showlegend": true,
         "subplot": "mapbox",
         "type": "scattermapbox"
        },
        {
         "hovertemplate": "Neighborhood=Financial District South<br>Sales Price per SqFt=%{marker.size}<br>Lat=%{lat}<br>Lon=%{lon}<extra></extra>",
         "lat": [
          37.79101
         ],
         "legendgroup": "Financial District South",
         "lon": [
          -122.4021
         ],
         "marker": {
          "color": "#FF6692",
          "size": [
           455.83621223779153
          ],
          "sizemode": "area",
          "sizeref": 2.259983144180161
         },
         "mode": "markers",
         "name": "Financial District South",
         "showlegend": true,
         "subplot": "mapbox",
         "type": "scattermapbox"
        },
        {
         "hovertemplate": "Neighborhood=Forest Knolls<br>Sales Price per SqFt=%{marker.size}<br>Lat=%{lat}<br>Lon=%{lon}<extra></extra>",
         "lat": [
          37.757059999999996
         ],
         "legendgroup": "Forest Knolls",
         "lon": [
          -122.45508999999998
         ],
         "marker": {
          "color": "#B6E880",
          "size": [
           321.84083657398736
          ],
          "sizemode": "area",
          "sizeref": 2.259983144180161
         },
         "mode": "markers",
         "name": "Forest Knolls",
         "showlegend": true,
         "subplot": "mapbox",
         "type": "scattermapbox"
        },
        {
         "hovertemplate": "Neighborhood=Glen Park<br>Sales Price per SqFt=%{marker.size}<br>Lat=%{lat}<br>Lon=%{lon}<extra></extra>",
         "lat": [
          37.728629999999995
         ],
         "legendgroup": "Glen Park",
         "lon": [
          -122.44305
         ],
         "marker": {
          "color": "#FF97FF",
          "size": [
           623.826177537435
          ],
          "sizemode": "area",
          "sizeref": 2.259983144180161
         },
         "mode": "markers",
         "name": "Glen Park",
         "showlegend": true,
         "subplot": "mapbox",
         "type": "scattermapbox"
        },
        {
         "hovertemplate": "Neighborhood=Golden Gate Heights<br>Sales Price per SqFt=%{marker.size}<br>Lat=%{lat}<br>Lon=%{lon}<extra></extra>",
         "lat": [
          37.757912
         ],
         "legendgroup": "Golden Gate Heights",
         "lon": [
          -122.46401999999999
         ],
         "marker": {
          "color": "#FECB52",
          "size": [
           639.3935574881156
          ],
          "sizemode": "area",
          "sizeref": 2.259983144180161
         },
         "mode": "markers",
         "name": "Golden Gate Heights",
         "showlegend": true,
         "subplot": "mapbox",
         "type": "scattermapbox"
        },
        {
         "hovertemplate": "Neighborhood=Haight Ashbury<br>Sales Price per SqFt=%{marker.size}<br>Lat=%{lat}<br>Lon=%{lon}<extra></extra>",
         "lat": [
          37.76525
         ],
         "legendgroup": "Haight Ashbury",
         "lon": [
          -122.43596000000001
         ],
         "marker": {
          "color": "#636efa",
          "size": [
           449.5447622856192
          ],
          "sizemode": "area",
          "sizeref": 2.259983144180161
         },
         "mode": "markers",
         "name": "Haight Ashbury",
         "showlegend": true,
         "subplot": "mapbox",
         "type": "scattermapbox"
        },
        {
         "hovertemplate": "Neighborhood=Hayes Valley<br>Sales Price per SqFt=%{marker.size}<br>Lat=%{lat}<br>Lon=%{lon}<extra></extra>",
         "lat": [
          37.76525
         ],
         "legendgroup": "Hayes Valley",
         "lon": [
          -122.43596000000001
         ],
         "marker": {
          "color": "#EF553B",
          "size": [
           355.9328279480578
          ],
          "sizemode": "area",
          "sizeref": 2.259983144180161
         },
         "mode": "markers",
         "name": "Hayes Valley",
         "showlegend": true,
         "subplot": "mapbox",
         "type": "scattermapbox"
        },
        {
         "hovertemplate": "Neighborhood=Hunters Point<br>Sales Price per SqFt=%{marker.size}<br>Lat=%{lat}<br>Lon=%{lon}<extra></extra>",
         "lat": [
          37.72551
         ],
         "legendgroup": "Hunters Point",
         "lon": [
          -122.37178
         ],
         "marker": {
          "color": "#00cc96",
          "size": [
           170.62491987132685
          ],
          "sizemode": "area",
          "sizeref": 2.259983144180161
         },
         "mode": "markers",
         "name": "Hunters Point",
         "showlegend": true,
         "subplot": "mapbox",
         "type": "scattermapbox"
        },
        {
         "hovertemplate": "Neighborhood=Ingleside Heights<br>Sales Price per SqFt=%{marker.size}<br>Lat=%{lat}<br>Lon=%{lon}<extra></extra>",
         "lat": [
          37.72116
         ],
         "legendgroup": "Ingleside Heights",
         "lon": [
          -122.48706999999999
         ],
         "marker": {
          "color": "#ab63fa",
          "size": [
           384.7979281346048
          ],
          "sizemode": "area",
          "sizeref": 2.259983144180161
         },
         "mode": "markers",
         "name": "Ingleside Heights",
         "showlegend": true,
         "subplot": "mapbox",
         "type": "scattermapbox"
        },
        {
         "hovertemplate": "Neighborhood=Inner Mission<br>Sales Price per SqFt=%{marker.size}<br>Lat=%{lat}<br>Lon=%{lon}<extra></extra>",
         "lat": [
          37.75416
         ],
         "legendgroup": "Inner Mission",
         "lon": [
          -122.41946999999999
         ],
         "marker": {
          "color": "#FFA15A",
          "size": [
           397.67371473613446
          ],
          "sizemode": "area",
          "sizeref": 2.259983144180161
         },
         "mode": "markers",
         "name": "Inner Mission",
         "showlegend": true,
         "subplot": "mapbox",
         "type": "scattermapbox"
        },
        {
         "hovertemplate": "Neighborhood=Inner Parkside<br>Sales Price per SqFt=%{marker.size}<br>Lat=%{lat}<br>Lon=%{lon}<extra></extra>",
         "lat": [
          37.74961
         ],
         "legendgroup": "Inner Parkside",
         "lon": [
          -122.48998999999999
         ],
         "marker": {
          "color": "#19d3f3",
          "size": [
           519.3856038526768
          ],
          "sizemode": "area",
          "sizeref": 2.259983144180161
         },
         "mode": "markers",
         "name": "Inner Parkside",
         "showlegend": true,
         "subplot": "mapbox",
         "type": "scattermapbox"
        },
        {
         "hovertemplate": "Neighborhood=Inner Richmond<br>Sales Price per SqFt=%{marker.size}<br>Lat=%{lat}<br>Lon=%{lon}<extra></extra>",
         "lat": [
          37.769112
         ],
         "legendgroup": "Inner Richmond",
         "lon": [
          -122.483566
         ],
         "marker": {
          "color": "#FF6692",
          "size": [
           378.59431396136455
          ],
          "sizemode": "area",
          "sizeref": 2.259983144180161
         },
         "mode": "markers",
         "name": "Inner Richmond",
         "showlegend": true,
         "subplot": "mapbox",
         "type": "scattermapbox"
        },
        {
         "hovertemplate": "Neighborhood=Inner Sunset<br>Sales Price per SqFt=%{marker.size}<br>Lat=%{lat}<br>Lon=%{lon}<extra></extra>",
         "lat": [
          37.74961
         ],
         "legendgroup": "Inner Sunset",
         "lon": [
          -122.48997
         ],
         "marker": {
          "color": "#B6E880",
          "size": [
           413.66751546215943
          ],
          "sizemode": "area",
          "sizeref": 2.259983144180161
         },
         "mode": "markers",
         "name": "Inner Sunset",
         "showlegend": true,
         "subplot": "mapbox",
         "type": "scattermapbox"
        },
        {
         "hovertemplate": "Neighborhood=Jordan Park/Laurel Heights<br>Sales Price per SqFt=%{marker.size}<br>Lat=%{lat}<br>Lon=%{lon}<extra></extra>",
         "lat": [
          37.78553
         ],
         "legendgroup": "Jordan Park/Laurel Heights",
         "lon": [
          -122.456
         ],
         "marker": {
          "color": "#FF97FF",
          "size": [
           529.3841850673389
          ],
          "sizemode": "area",
          "sizeref": 2.259983144180161
         },
         "mode": "markers",
         "name": "Jordan Park/Laurel Heights",
         "showlegend": true,
         "subplot": "mapbox",
         "type": "scattermapbox"
        },
        {
         "hovertemplate": "Neighborhood=Lake --The Presidio<br>Sales Price per SqFt=%{marker.size}<br>Lat=%{lat}<br>Lon=%{lon}<extra></extra>",
         "lat": [
          37.801520000000004
         ],
         "legendgroup": "Lake --The Presidio",
         "lon": [
          -122.45456999999999
         ],
         "marker": {
          "color": "#FECB52",
          "size": [
           409.95435219297514
          ],
          "sizemode": "area",
          "sizeref": 2.259983144180161
         },
         "mode": "markers",
         "name": "Lake --The Presidio",
         "showlegend": true,
         "subplot": "mapbox",
         "type": "scattermapbox"
        },
        {
         "hovertemplate": "Neighborhood=Lone Mountain<br>Sales Price per SqFt=%{marker.size}<br>Lat=%{lat}<br>Lon=%{lon}<extra></extra>",
         "lat": [
          37.7789
         ],
         "legendgroup": "Lone Mountain",
         "lon": [
          -122.45496000000001
         ],
         "marker": {
          "color": "#636efa",
          "size": [
           478.2285530213679
          ],
          "sizemode": "area",
          "sizeref": 2.259983144180161
         },
         "mode": "markers",
         "name": "Lone Mountain",
         "showlegend": true,
         "subplot": "mapbox",
         "type": "scattermapbox"
        },
        {
         "hovertemplate": "Neighborhood=Lower Pacific Heights<br>Sales Price per SqFt=%{marker.size}<br>Lat=%{lat}<br>Lon=%{lon}<extra></extra>",
         "lat": [
          37.79298
         ],
         "legendgroup": "Lower Pacific Heights",
         "lon": [
          -122.43579
         ],
         "marker": {
          "color": "#EF553B",
          "size": [
           539.2379688783261
          ],
          "sizemode": "area",
          "sizeref": 2.259983144180161
         },
         "mode": "markers",
         "name": "Lower Pacific Heights",
         "showlegend": true,
         "subplot": "mapbox",
         "type": "scattermapbox"
        },
        {
         "hovertemplate": "Neighborhood=Marina<br>Sales Price per SqFt=%{marker.size}<br>Lat=%{lat}<br>Lon=%{lon}<extra></extra>",
         "lat": [
          37.79972
         ],
         "legendgroup": "Marina",
         "lon": [
          -122.46688999999999
         ],
         "marker": {
          "color": "#00cc96",
          "size": [
           583.7492694814549
          ],
          "sizemode": "area",
          "sizeref": 2.259983144180161
         },
         "mode": "markers",
         "name": "Marina",
         "showlegend": true,
         "subplot": "mapbox",
         "type": "scattermapbox"
        },
        {
         "hovertemplate": "Neighborhood=Merced Heights<br>Sales Price per SqFt=%{marker.size}<br>Lat=%{lat}<br>Lon=%{lon}<extra></extra>",
         "lat": [
          37.71993
         ],
         "legendgroup": "Merced Heights",
         "lon": [
          -122.46595
         ],
         "marker": {
          "color": "#ab63fa",
          "size": [
           788.8448175872469
          ],
          "sizemode": "area",
          "sizeref": 2.259983144180161
         },
         "mode": "markers",
         "name": "Merced Heights",
         "showlegend": true,
         "subplot": "mapbox",
         "type": "scattermapbox"
        },
        {
         "hovertemplate": "Neighborhood=Midtown Terrace<br>Sales Price per SqFt=%{marker.size}<br>Lat=%{lat}<br>Lon=%{lon}<extra></extra>",
         "lat": [
          37.75331
         ],
         "legendgroup": "Midtown Terrace",
         "lon": [
          -122.44703
         ],
         "marker": {
          "color": "#FFA15A",
          "size": [
           550.5103482917151
          ],
          "sizemode": "area",
          "sizeref": 2.259983144180161
         },
         "mode": "markers",
         "name": "Midtown Terrace",
         "showlegend": true,
         "subplot": "mapbox",
         "type": "scattermapbox"
        },
        {
         "hovertemplate": "Neighborhood=Miraloma Park<br>Sales Price per SqFt=%{marker.size}<br>Lat=%{lat}<br>Lon=%{lon}<extra></extra>",
         "lat": [
          37.73415
         ],
         "legendgroup": "Miraloma Park",
         "lon": [
          -122.45700000000001
         ],
         "marker": {
          "color": "#19d3f3",
          "size": [
           779.810842264425
          ],
          "sizemode": "area",
          "sizeref": 2.259983144180161
         },
         "mode": "markers",
         "name": "Miraloma Park",
         "showlegend": true,
         "subplot": "mapbox",
         "type": "scattermapbox"
        },
        {
         "hovertemplate": "Neighborhood=Mission Bay<br>Sales Price per SqFt=%{marker.size}<br>Lat=%{lat}<br>Lon=%{lon}<extra></extra>",
         "lat": [
          37.783229999999996
         ],
         "legendgroup": "Mission Bay",
         "lon": [
          -122.40065
         ],
         "marker": {
          "color": "#FF6692",
          "size": [
           566.1922135483312
          ],
          "sizemode": "area",
          "sizeref": 2.259983144180161
         },
         "mode": "markers",
         "name": "Mission Bay",
         "showlegend": true,
         "subplot": "mapbox",
         "type": "scattermapbox"
        },
        {
         "hovertemplate": "Neighborhood=Mission Dolores<br>Sales Price per SqFt=%{marker.size}<br>Lat=%{lat}<br>Lon=%{lon}<extra></extra>",
         "lat": [
          37.75184
         ],
         "legendgroup": "Mission Dolores",
         "lon": [
          -122.42522
         ],
         "marker": {
          "color": "#B6E880",
          "size": [
           418.9156225067234
          ],
          "sizemode": "area",
          "sizeref": 2.259983144180161
         },
         "mode": "markers",
         "name": "Mission Dolores",
         "showlegend": true,
         "subplot": "mapbox",
         "type": "scattermapbox"
        },
        {
         "hovertemplate": "Neighborhood=Mission Terrace<br>Sales Price per SqFt=%{marker.size}<br>Lat=%{lat}<br>Lon=%{lon}<extra></extra>",
         "lat": [
          37.728629999999995
         ],
         "legendgroup": "Mission Terrace",
         "lon": [
          -122.44305
         ],
         "marker": {
          "color": "#FF97FF",
          "size": [
           523.4662013248023
          ],
          "sizemode": "area",
          "sizeref": 2.259983144180161
         },
         "mode": "markers",
         "name": "Mission Terrace",
         "showlegend": true,
         "subplot": "mapbox",
         "type": "scattermapbox"
        },
        {
         "hovertemplate": "Neighborhood=Nob Hill<br>Sales Price per SqFt=%{marker.size}<br>Lat=%{lat}<br>Lon=%{lon}<extra></extra>",
         "lat": [
          37.79298
         ],
         "legendgroup": "Nob Hill",
         "lon": [
          -122.43579
         ],
         "marker": {
          "color": "#FECB52",
          "size": [
           458.2040944846015
          ],
          "sizemode": "area",
          "sizeref": 2.259983144180161
         },
         "mode": "markers",
         "name": "Nob Hill",
         "showlegend": true,
         "subplot": "mapbox",
         "type": "scattermapbox"
        },
        {
         "hovertemplate": "Neighborhood=Noe Valley<br>Sales Price per SqFt=%{marker.size}<br>Lat=%{lat}<br>Lon=%{lon}<extra></extra>",
         "lat": [
          37.75331
         ],
         "legendgroup": "Noe Valley",
         "lon": [
          -122.44703
         ],
         "marker": {
          "color": "#636efa",
          "size": [
           542.4429128151736
          ],
          "sizemode": "area",
          "sizeref": 2.259983144180161
         },
         "mode": "markers",
         "name": "Noe Valley",
         "showlegend": true,
         "subplot": "mapbox",
         "type": "scattermapbox"
        },
        {
         "hovertemplate": "Neighborhood=North Beach<br>Sales Price per SqFt=%{marker.size}<br>Lat=%{lat}<br>Lon=%{lon}<extra></extra>",
         "lat": [
          37.80055
         ],
         "legendgroup": "North Beach",
         "lon": [
          -122.40433
         ],
         "marker": {
          "color": "#EF553B",
          "size": [
           411.646875881678
          ],
          "sizemode": "area",
          "sizeref": 2.259983144180161
         },
         "mode": "markers",
         "name": "North Beach",
         "showlegend": true,
         "subplot": "mapbox",
         "type": "scattermapbox"
        },
        {
         "hovertemplate": "Neighborhood=North Waterfront<br>Sales Price per SqFt=%{marker.size}<br>Lat=%{lat}<br>Lon=%{lon}<extra></extra>",
         "lat": [
          37.80055
         ],
         "legendgroup": "North Waterfront",
         "lon": [
          -122.40433
         ],
         "marker": {
          "color": "#00cc96",
          "size": [
           498.26975500787677
          ],
          "sizemode": "area",
          "sizeref": 2.259983144180161
         },
         "mode": "markers",
         "name": "North Waterfront",
         "showlegend": true,
         "subplot": "mapbox",
         "type": "scattermapbox"
        },
        {
         "hovertemplate": "Neighborhood=Oceanview<br>Sales Price per SqFt=%{marker.size}<br>Lat=%{lat}<br>Lon=%{lon}<extra></extra>",
         "lat": [
          37.71993
         ],
         "legendgroup": "Oceanview",
         "lon": [
          -122.46595
         ],
         "marker": {
          "color": "#ab63fa",
          "size": [
           330.0973846552545
          ],
          "sizemode": "area",
          "sizeref": 2.259983144180161
         },
         "mode": "markers",
         "name": "Oceanview",
         "showlegend": true,
         "subplot": "mapbox",
         "type": "scattermapbox"
        },
        {
         "hovertemplate": "Neighborhood=Outer Mission<br>Sales Price per SqFt=%{marker.size}<br>Lat=%{lat}<br>Lon=%{lon}<extra></extra>",
         "lat": [
          37.7228
         ],
         "legendgroup": "Outer Mission",
         "lon": [
          -122.43869
         ],
         "marker": {
          "color": "#FFA15A",
          "size": [
           242.37095202049667
          ],
          "sizemode": "area",
          "sizeref": 2.259983144180161
         },
         "mode": "markers",
         "name": "Outer Mission",
         "showlegend": true,
         "subplot": "mapbox",
         "type": "scattermapbox"
        },
        {
         "hovertemplate": "Neighborhood=Outer Parkside<br>Sales Price per SqFt=%{marker.size}<br>Lat=%{lat}<br>Lon=%{lon}<extra></extra>",
         "lat": [
          37.7517
         ],
         "legendgroup": "Outer Parkside",
         "lon": [
          -122.446
         ],
         "marker": {
          "color": "#19d3f3",
          "size": [
           485.0270126111035
          ],
          "sizemode": "area",
          "sizeref": 2.259983144180161
         },
         "mode": "markers",
         "name": "Outer Parkside",
         "showlegend": true,
         "subplot": "mapbox",
         "type": "scattermapbox"
        },
        {
         "hovertemplate": "Neighborhood=Outer Sunset<br>Sales Price per SqFt=%{marker.size}<br>Lat=%{lat}<br>Lon=%{lon}<extra></extra>",
         "lat": [
          37.74961
         ],
         "legendgroup": "Outer Sunset",
         "lon": [
          -122.48998999999999
         ],
         "marker": {
          "color": "#FF6692",
          "size": [
           394.21903228550775
          ],
          "sizemode": "area",
          "sizeref": 2.259983144180161
         },
         "mode": "markers",
         "name": "Outer Sunset",
         "showlegend": true,
         "subplot": "mapbox",
         "type": "scattermapbox"
        },
        {
         "hovertemplate": "Neighborhood=Pacific Heights<br>Sales Price per SqFt=%{marker.size}<br>Lat=%{lat}<br>Lon=%{lon}<extra></extra>",
         "lat": [
          37.79298
         ],
         "legendgroup": "Pacific Heights",
         "lon": [
          -122.43579
         ],
         "marker": {
          "color": "#B6E880",
          "size": [
           689.5558168113664
          ],
          "sizemode": "area",
          "sizeref": 2.259983144180161
         },
         "mode": "markers",
         "name": "Pacific Heights",
         "showlegend": true,
         "subplot": "mapbox",
         "type": "scattermapbox"
        },
        {
         "hovertemplate": "Neighborhood=Park North<br>Sales Price per SqFt=%{marker.size}<br>Lat=%{lat}<br>Lon=%{lon}<extra></extra>",
         "lat": [
          37.72838
         ],
         "legendgroup": "Park North",
         "lon": [
          -122.47851000000001
         ],
         "marker": {
          "color": "#FF97FF",
          "size": [
           373.732856371763
          ],
          "sizemode": "area",
          "sizeref": 2.259983144180161
         },
         "mode": "markers",
         "name": "Park North",
         "showlegend": true,
         "subplot": "mapbox",
         "type": "scattermapbox"
        },
        {
         "hovertemplate": "Neighborhood=Parkside<br>Sales Price per SqFt=%{marker.size}<br>Lat=%{lat}<br>Lon=%{lon}<extra></extra>",
         "lat": [
          37.74961
         ],
         "legendgroup": "Parkside",
         "lon": [
          -122.48998999999999
         ],
         "marker": {
          "color": "#FECB52",
          "size": [
           336.172661037069
          ],
          "sizemode": "area",
          "sizeref": 2.259983144180161
         },
         "mode": "markers",
         "name": "Parkside",
         "showlegend": true,
         "subplot": "mapbox",
         "type": "scattermapbox"
        },
        {
         "hovertemplate": "Neighborhood=Parnassus/Ashbury Heights<br>Sales Price per SqFt=%{marker.size}<br>Lat=%{lat}<br>Lon=%{lon}<extra></extra>",
         "lat": [
          37.76355
         ],
         "legendgroup": "Parnassus/Ashbury Heights",
         "lon": [
          -122.45765
         ],
         "marker": {
          "color": "#636efa",
          "size": [
           632.740453508577
          ],
          "sizemode": "area",
          "sizeref": 2.259983144180161
         },
         "mode": "markers",
         "name": "Parnassus/Ashbury Heights",
         "showlegend": true,
         "subplot": "mapbox",
         "type": "scattermapbox"
        },
        {
         "hovertemplate": "Neighborhood=Portola<br>Sales Price per SqFt=%{marker.size}<br>Lat=%{lat}<br>Lon=%{lon}<extra></extra>",
         "lat": [
          37.73467
         ],
         "legendgroup": "Portola",
         "lon": [
          -122.40106000000002
         ],
         "marker": {
          "color": "#EF553B",
          "size": [
           327.11392534647274
          ],
          "sizemode": "area",
          "sizeref": 2.259983144180161
         },
         "mode": "markers",
         "name": "Portola",
         "showlegend": true,
         "subplot": "mapbox",
         "type": "scattermapbox"
        },
        {
         "hovertemplate": "Neighborhood=Potrero Hill<br>Sales Price per SqFt=%{marker.size}<br>Lat=%{lat}<br>Lon=%{lon}<extra></extra>",
         "lat": [
          37.73196
         ],
         "legendgroup": "Potrero Hill",
         "lon": [
          -122.38323999999999
         ],
         "marker": {
          "color": "#00cc96",
          "size": [
           662.0136128276529
          ],
          "sizemode": "area",
          "sizeref": 2.259983144180161
         },
         "mode": "markers",
         "name": "Potrero Hill",
         "showlegend": true,
         "subplot": "mapbox",
         "type": "scattermapbox"
        },
        {
         "hovertemplate": "Neighborhood=Presidio Heights<br>Sales Price per SqFt=%{marker.size}<br>Lat=%{lat}<br>Lon=%{lon}<extra></extra>",
         "lat": [
          37.78553
         ],
         "legendgroup": "Presidio Heights",
         "lon": [
          -122.456
         ],
         "marker": {
          "color": "#ab63fa",
          "size": [
           675.3502120510033
          ],
          "sizemode": "area",
          "sizeref": 2.259983144180161
         },
         "mode": "markers",
         "name": "Presidio Heights",
         "showlegend": true,
         "subplot": "mapbox",
         "type": "scattermapbox"
        },
        {
         "hovertemplate": "Neighborhood=Russian Hill<br>Sales Price per SqFt=%{marker.size}<br>Lat=%{lat}<br>Lon=%{lon}<extra></extra>",
         "lat": [
          37.79298
         ],
         "legendgroup": "Russian Hill",
         "lon": [
          -122.43579
         ],
         "marker": {
          "color": "#FFA15A",
          "size": [
           608.9832172374425
          ],
          "sizemode": "area",
          "sizeref": 2.259983144180161
         },
         "mode": "markers",
         "name": "Russian Hill",
         "showlegend": true,
         "subplot": "mapbox",
         "type": "scattermapbox"
        },
        {
         "hovertemplate": "Neighborhood=Silver Terrace<br>Sales Price per SqFt=%{marker.size}<br>Lat=%{lat}<br>Lon=%{lon}<extra></extra>",
         "lat": [
          37.73467
         ],
         "legendgroup": "Silver Terrace",
         "lon": [
          -122.40106000000002
         ],
         "marker": {
          "color": "#19d3f3",
          "size": [
           170.2925485152069
          ],
          "sizemode": "area",
          "sizeref": 2.259983144180161
         },
         "mode": "markers",
         "name": "Silver Terrace",
         "showlegend": true,
         "subplot": "mapbox",
         "type": "scattermapbox"
        },
        {
         "hovertemplate": "Neighborhood=South Beach<br>Sales Price per SqFt=%{marker.size}<br>Lat=%{lat}<br>Lon=%{lon}<extra></extra>",
         "lat": [
          37.783229999999996
         ],
         "legendgroup": "South Beach",
         "lon": [
          -122.40065
         ],
         "marker": {
          "color": "#FF6692",
          "size": [
           650.1244791945729
          ],
          "sizemode": "area",
          "sizeref": 2.259983144180161
         },
         "mode": "markers",
         "name": "South Beach",
         "showlegend": true,
         "subplot": "mapbox",
         "type": "scattermapbox"
        },
        {
         "hovertemplate": "Neighborhood=South of Market<br>Sales Price per SqFt=%{marker.size}<br>Lat=%{lat}<br>Lon=%{lon}<extra></extra>",
         "lat": [
          37.79101
         ],
         "legendgroup": "South of Market",
         "lon": [
          -122.4021
         ],
         "marker": {
          "color": "#B6E880",
          "size": [
           570.2714266991686
          ],
          "sizemode": "area",
          "sizeref": 2.259983144180161
         },
         "mode": "markers",
         "name": "South of Market",
         "showlegend": true,
         "subplot": "mapbox",
         "type": "scattermapbox"
        },
        {
         "hovertemplate": "Neighborhood=Sunnyside<br>Sales Price per SqFt=%{marker.size}<br>Lat=%{lat}<br>Lon=%{lon}<extra></extra>",
         "lat": [
          37.73415
         ],
         "legendgroup": "Sunnyside",
         "lon": [
          -122.45700000000001
         ],
         "marker": {
          "color": "#FF97FF",
          "size": [
           528.3183317138463
          ],
          "sizemode": "area",
          "sizeref": 2.259983144180161
         },
         "mode": "markers",
         "name": "Sunnyside",
         "showlegend": true,
         "subplot": "mapbox",
         "type": "scattermapbox"
        },
        {
         "hovertemplate": "Neighborhood=Telegraph Hill<br>Sales Price per SqFt=%{marker.size}<br>Lat=%{lat}<br>Lon=%{lon}<extra></extra>",
         "lat": [
          37.80055
         ],
         "legendgroup": "Telegraph Hill",
         "lon": [
          -122.40433
         ],
         "marker": {
          "color": "#FECB52",
          "size": [
           676.5065775293257
          ],
          "sizemode": "area",
          "sizeref": 2.259983144180161
         },
         "mode": "markers",
         "name": "Telegraph Hill",
         "showlegend": true,
         "subplot": "mapbox",
         "type": "scattermapbox"
        },
        {
         "hovertemplate": "Neighborhood=Twin Peaks<br>Sales Price per SqFt=%{marker.size}<br>Lat=%{lat}<br>Lon=%{lon}<extra></extra>",
         "lat": [
          37.753311
         ],
         "legendgroup": "Twin Peaks",
         "lon": [
          -122.447029
         ],
         "marker": {
          "color": "#636efa",
          "size": [
           469.39862649935156
          ],
          "sizemode": "area",
          "sizeref": 2.259983144180161
         },
         "mode": "markers",
         "name": "Twin Peaks",
         "showlegend": true,
         "subplot": "mapbox",
         "type": "scattermapbox"
        },
        {
         "hovertemplate": "Neighborhood=Union Square District<br>Sales Price per SqFt=%{marker.size}<br>Lat=%{lat}<br>Lon=%{lon}<extra></extra>",
         "lat": [
          37.79101
         ],
         "legendgroup": "Union Square District",
         "lon": [
          -122.4021
         ],
         "marker": {
          "color": "#EF553B",
          "size": [
           903.9932576720645
          ],
          "sizemode": "area",
          "sizeref": 2.259983144180161
         },
         "mode": "markers",
         "name": "Union Square District",
         "showlegend": true,
         "subplot": "mapbox",
         "type": "scattermapbox"
        },
        {
         "hovertemplate": "Neighborhood=Van Ness/ Civic Center<br>Sales Price per SqFt=%{marker.size}<br>Lat=%{lat}<br>Lon=%{lon}<extra></extra>",
         "lat": [
          37.779509999999995
         ],
         "legendgroup": "Van Ness/ Civic Center",
         "lon": [
          -122.42022
         ],
         "marker": {
          "color": "#00cc96",
          "size": [
           404.1501801622257
          ],
          "sizemode": "area",
          "sizeref": 2.259983144180161
         },
         "mode": "markers",
         "name": "Van Ness/ Civic Center",
         "showlegend": true,
         "subplot": "mapbox",
         "type": "scattermapbox"
        },
        {
         "hovertemplate": "Neighborhood=Visitacion Valley<br>Sales Price per SqFt=%{marker.size}<br>Lat=%{lat}<br>Lon=%{lon}<extra></extra>",
         "lat": [
          37.72874
         ],
         "legendgroup": "Visitacion Valley",
         "lon": [
          -122.41098000000001
         ],
         "marker": {
          "color": "#ab63fa",
          "size": [
           301.46617997450267
          ],
          "sizemode": "area",
          "sizeref": 2.259983144180161
         },
         "mode": "markers",
         "name": "Visitacion Valley",
         "showlegend": true,
         "subplot": "mapbox",
         "type": "scattermapbox"
        },
        {
         "hovertemplate": "Neighborhood=West Portal<br>Sales Price per SqFt=%{marker.size}<br>Lat=%{lat}<br>Lon=%{lon}<extra></extra>",
         "lat": [
          37.74026
         ],
         "legendgroup": "West Portal",
         "lon": [
          -122.46388
         ],
         "marker": {
          "color": "#FFA15A",
          "size": [
           498.4884848295011
          ],
          "sizemode": "area",
          "sizeref": 2.259983144180161
         },
         "mode": "markers",
         "name": "West Portal",
         "showlegend": true,
         "subplot": "mapbox",
         "type": "scattermapbox"
        },
        {
         "hovertemplate": "Neighborhood=Western Addition<br>Sales Price per SqFt=%{marker.size}<br>Lat=%{lat}<br>Lon=%{lon}<extra></extra>",
         "lat": [
          37.79298
         ],
         "legendgroup": "Western Addition",
         "lon": [
          -122.43579
         ],
         "marker": {
          "color": "#19d3f3",
          "size": [
           307.56220097996066
          ],
          "sizemode": "area",
          "sizeref": 2.259983144180161
         },
         "mode": "markers",
         "name": "Western Addition",
         "showlegend": true,
         "subplot": "mapbox",
         "type": "scattermapbox"
        },
        {
         "hovertemplate": "Neighborhood=Westwood Highlands<br>Sales Price per SqFt=%{marker.size}<br>Lat=%{lat}<br>Lon=%{lon}<extra></extra>",
         "lat": [
          37.7347
         ],
         "legendgroup": "Westwood Highlands",
         "lon": [
          -122.456854
         ],
         "marker": {
          "color": "#FF6692",
          "size": [
           533.7039354359513
          ],
          "sizemode": "area",
          "sizeref": 2.259983144180161
         },
         "mode": "markers",
         "name": "Westwood Highlands",
         "showlegend": true,
         "subplot": "mapbox",
         "type": "scattermapbox"
        },
        {
         "hovertemplate": "Neighborhood=Westwood Park<br>Sales Price per SqFt=%{marker.size}<br>Lat=%{lat}<br>Lon=%{lon}<extra></extra>",
         "lat": [
          37.73415
         ],
         "legendgroup": "Westwood Park",
         "lon": [
          -122.45700000000001
         ],
         "marker": {
          "color": "#B6E880",
          "size": [
           687.0875745178323
          ],
          "sizemode": "area",
          "sizeref": 2.259983144180161
         },
         "mode": "markers",
         "name": "Westwood Park",
         "showlegend": true,
         "subplot": "mapbox",
         "type": "scattermapbox"
        },
        {
         "hovertemplate": "Neighborhood=Yerba Buena<br>Sales Price per SqFt=%{marker.size}<br>Lat=%{lat}<br>Lon=%{lon}<extra></extra>",
         "lat": [
          37.79298
         ],
         "legendgroup": "Yerba Buena",
         "lon": [
          -122.39636000000002
         ],
         "marker": {
          "color": "#FF97FF",
          "size": [
           576.709848378276
          ],
          "sizemode": "area",
          "sizeref": 2.259983144180161
         },
         "mode": "markers",
         "name": "Yerba Buena",
         "showlegend": true,
         "subplot": "mapbox",
         "type": "scattermapbox"
        }
       ],
       "layout": {
        "autosize": true,
        "legend": {
         "itemsizing": "constant",
         "title": {
          "text": "Neighborhood"
         },
         "tracegroupgap": 0
        },
        "mapbox": {
         "accesstoken": "pk.eyJ1IjoiY3BlcmV6Nzc4NSIsImEiOiJja29seXQ2djEwMXhzMnBwM2FpbnRzZmlwIn0.qx42zvh679tshUv0251n6w",
         "center": {
          "lat": 37.76064079710145,
          "lon": -122.43826449275363
         },
         "domain": {
          "x": [
           0,
           1
          ],
          "y": [
           0,
           1
          ]
         },
         "zoom": 4
        },
        "margin": {
         "t": 60
        },
        "template": {
         "data": {
          "bar": [
           {
            "error_x": {
             "color": "#2a3f5f"
            },
            "error_y": {
             "color": "#2a3f5f"
            },
            "marker": {
             "line": {
              "color": "#E5ECF6",
              "width": 0.5
             }
            },
            "type": "bar"
           }
          ],
          "barpolar": [
           {
            "marker": {
             "line": {
              "color": "#E5ECF6",
              "width": 0.5
             }
            },
            "type": "barpolar"
           }
          ],
          "carpet": [
           {
            "aaxis": {
             "endlinecolor": "#2a3f5f",
             "gridcolor": "white",
             "linecolor": "white",
             "minorgridcolor": "white",
             "startlinecolor": "#2a3f5f"
            },
            "baxis": {
             "endlinecolor": "#2a3f5f",
             "gridcolor": "white",
             "linecolor": "white",
             "minorgridcolor": "white",
             "startlinecolor": "#2a3f5f"
            },
            "type": "carpet"
           }
          ],
          "choropleth": [
           {
            "colorbar": {
             "outlinewidth": 0,
             "ticks": ""
            },
            "type": "choropleth"
           }
          ],
          "contour": [
           {
            "colorbar": {
             "outlinewidth": 0,
             "ticks": ""
            },
            "colorscale": [
             [
              0,
              "#0d0887"
             ],
             [
              0.1111111111111111,
              "#46039f"
             ],
             [
              0.2222222222222222,
              "#7201a8"
             ],
             [
              0.3333333333333333,
              "#9c179e"
             ],
             [
              0.4444444444444444,
              "#bd3786"
             ],
             [
              0.5555555555555556,
              "#d8576b"
             ],
             [
              0.6666666666666666,
              "#ed7953"
             ],
             [
              0.7777777777777778,
              "#fb9f3a"
             ],
             [
              0.8888888888888888,
              "#fdca26"
             ],
             [
              1,
              "#f0f921"
             ]
            ],
            "type": "contour"
           }
          ],
          "contourcarpet": [
           {
            "colorbar": {
             "outlinewidth": 0,
             "ticks": ""
            },
            "type": "contourcarpet"
           }
          ],
          "heatmap": [
           {
            "colorbar": {
             "outlinewidth": 0,
             "ticks": ""
            },
            "colorscale": [
             [
              0,
              "#0d0887"
             ],
             [
              0.1111111111111111,
              "#46039f"
             ],
             [
              0.2222222222222222,
              "#7201a8"
             ],
             [
              0.3333333333333333,
              "#9c179e"
             ],
             [
              0.4444444444444444,
              "#bd3786"
             ],
             [
              0.5555555555555556,
              "#d8576b"
             ],
             [
              0.6666666666666666,
              "#ed7953"
             ],
             [
              0.7777777777777778,
              "#fb9f3a"
             ],
             [
              0.8888888888888888,
              "#fdca26"
             ],
             [
              1,
              "#f0f921"
             ]
            ],
            "type": "heatmap"
           }
          ],
          "heatmapgl": [
           {
            "colorbar": {
             "outlinewidth": 0,
             "ticks": ""
            },
            "colorscale": [
             [
              0,
              "#0d0887"
             ],
             [
              0.1111111111111111,
              "#46039f"
             ],
             [
              0.2222222222222222,
              "#7201a8"
             ],
             [
              0.3333333333333333,
              "#9c179e"
             ],
             [
              0.4444444444444444,
              "#bd3786"
             ],
             [
              0.5555555555555556,
              "#d8576b"
             ],
             [
              0.6666666666666666,
              "#ed7953"
             ],
             [
              0.7777777777777778,
              "#fb9f3a"
             ],
             [
              0.8888888888888888,
              "#fdca26"
             ],
             [
              1,
              "#f0f921"
             ]
            ],
            "type": "heatmapgl"
           }
          ],
          "histogram": [
           {
            "marker": {
             "colorbar": {
              "outlinewidth": 0,
              "ticks": ""
             }
            },
            "type": "histogram"
           }
          ],
          "histogram2d": [
           {
            "colorbar": {
             "outlinewidth": 0,
             "ticks": ""
            },
            "colorscale": [
             [
              0,
              "#0d0887"
             ],
             [
              0.1111111111111111,
              "#46039f"
             ],
             [
              0.2222222222222222,
              "#7201a8"
             ],
             [
              0.3333333333333333,
              "#9c179e"
             ],
             [
              0.4444444444444444,
              "#bd3786"
             ],
             [
              0.5555555555555556,
              "#d8576b"
             ],
             [
              0.6666666666666666,
              "#ed7953"
             ],
             [
              0.7777777777777778,
              "#fb9f3a"
             ],
             [
              0.8888888888888888,
              "#fdca26"
             ],
             [
              1,
              "#f0f921"
             ]
            ],
            "type": "histogram2d"
           }
          ],
          "histogram2dcontour": [
           {
            "colorbar": {
             "outlinewidth": 0,
             "ticks": ""
            },
            "colorscale": [
             [
              0,
              "#0d0887"
             ],
             [
              0.1111111111111111,
              "#46039f"
             ],
             [
              0.2222222222222222,
              "#7201a8"
             ],
             [
              0.3333333333333333,
              "#9c179e"
             ],
             [
              0.4444444444444444,
              "#bd3786"
             ],
             [
              0.5555555555555556,
              "#d8576b"
             ],
             [
              0.6666666666666666,
              "#ed7953"
             ],
             [
              0.7777777777777778,
              "#fb9f3a"
             ],
             [
              0.8888888888888888,
              "#fdca26"
             ],
             [
              1,
              "#f0f921"
             ]
            ],
            "type": "histogram2dcontour"
           }
          ],
          "mesh3d": [
           {
            "colorbar": {
             "outlinewidth": 0,
             "ticks": ""
            },
            "type": "mesh3d"
           }
          ],
          "parcoords": [
           {
            "line": {
             "colorbar": {
              "outlinewidth": 0,
              "ticks": ""
             }
            },
            "type": "parcoords"
           }
          ],
          "pie": [
           {
            "automargin": true,
            "type": "pie"
           }
          ],
          "scatter": [
           {
            "marker": {
             "colorbar": {
              "outlinewidth": 0,
              "ticks": ""
             }
            },
            "type": "scatter"
           }
          ],
          "scatter3d": [
           {
            "line": {
             "colorbar": {
              "outlinewidth": 0,
              "ticks": ""
             }
            },
            "marker": {
             "colorbar": {
              "outlinewidth": 0,
              "ticks": ""
             }
            },
            "type": "scatter3d"
           }
          ],
          "scattercarpet": [
           {
            "marker": {
             "colorbar": {
              "outlinewidth": 0,
              "ticks": ""
             }
            },
            "type": "scattercarpet"
           }
          ],
          "scattergeo": [
           {
            "marker": {
             "colorbar": {
              "outlinewidth": 0,
              "ticks": ""
             }
            },
            "type": "scattergeo"
           }
          ],
          "scattergl": [
           {
            "marker": {
             "colorbar": {
              "outlinewidth": 0,
              "ticks": ""
             }
            },
            "type": "scattergl"
           }
          ],
          "scattermapbox": [
           {
            "marker": {
             "colorbar": {
              "outlinewidth": 0,
              "ticks": ""
             }
            },
            "type": "scattermapbox"
           }
          ],
          "scatterpolar": [
           {
            "marker": {
             "colorbar": {
              "outlinewidth": 0,
              "ticks": ""
             }
            },
            "type": "scatterpolar"
           }
          ],
          "scatterpolargl": [
           {
            "marker": {
             "colorbar": {
              "outlinewidth": 0,
              "ticks": ""
             }
            },
            "type": "scatterpolargl"
           }
          ],
          "scatterternary": [
           {
            "marker": {
             "colorbar": {
              "outlinewidth": 0,
              "ticks": ""
             }
            },
            "type": "scatterternary"
           }
          ],
          "surface": [
           {
            "colorbar": {
             "outlinewidth": 0,
             "ticks": ""
            },
            "colorscale": [
             [
              0,
              "#0d0887"
             ],
             [
              0.1111111111111111,
              "#46039f"
             ],
             [
              0.2222222222222222,
              "#7201a8"
             ],
             [
              0.3333333333333333,
              "#9c179e"
             ],
             [
              0.4444444444444444,
              "#bd3786"
             ],
             [
              0.5555555555555556,
              "#d8576b"
             ],
             [
              0.6666666666666666,
              "#ed7953"
             ],
             [
              0.7777777777777778,
              "#fb9f3a"
             ],
             [
              0.8888888888888888,
              "#fdca26"
             ],
             [
              1,
              "#f0f921"
             ]
            ],
            "type": "surface"
           }
          ],
          "table": [
           {
            "cells": {
             "fill": {
              "color": "#EBF0F8"
             },
             "line": {
              "color": "white"
             }
            },
            "header": {
             "fill": {
              "color": "#C8D4E3"
             },
             "line": {
              "color": "white"
             }
            },
            "type": "table"
           }
          ]
         },
         "layout": {
          "annotationdefaults": {
           "arrowcolor": "#2a3f5f",
           "arrowhead": 0,
           "arrowwidth": 1
          },
          "autotypenumbers": "strict",
          "coloraxis": {
           "colorbar": {
            "outlinewidth": 0,
            "ticks": ""
           }
          },
          "colorscale": {
           "diverging": [
            [
             0,
             "#8e0152"
            ],
            [
             0.1,
             "#c51b7d"
            ],
            [
             0.2,
             "#de77ae"
            ],
            [
             0.3,
             "#f1b6da"
            ],
            [
             0.4,
             "#fde0ef"
            ],
            [
             0.5,
             "#f7f7f7"
            ],
            [
             0.6,
             "#e6f5d0"
            ],
            [
             0.7,
             "#b8e186"
            ],
            [
             0.8,
             "#7fbc41"
            ],
            [
             0.9,
             "#4d9221"
            ],
            [
             1,
             "#276419"
            ]
           ],
           "sequential": [
            [
             0,
             "#0d0887"
            ],
            [
             0.1111111111111111,
             "#46039f"
            ],
            [
             0.2222222222222222,
             "#7201a8"
            ],
            [
             0.3333333333333333,
             "#9c179e"
            ],
            [
             0.4444444444444444,
             "#bd3786"
            ],
            [
             0.5555555555555556,
             "#d8576b"
            ],
            [
             0.6666666666666666,
             "#ed7953"
            ],
            [
             0.7777777777777778,
             "#fb9f3a"
            ],
            [
             0.8888888888888888,
             "#fdca26"
            ],
            [
             1,
             "#f0f921"
            ]
           ],
           "sequentialminus": [
            [
             0,
             "#0d0887"
            ],
            [
             0.1111111111111111,
             "#46039f"
            ],
            [
             0.2222222222222222,
             "#7201a8"
            ],
            [
             0.3333333333333333,
             "#9c179e"
            ],
            [
             0.4444444444444444,
             "#bd3786"
            ],
            [
             0.5555555555555556,
             "#d8576b"
            ],
            [
             0.6666666666666666,
             "#ed7953"
            ],
            [
             0.7777777777777778,
             "#fb9f3a"
            ],
            [
             0.8888888888888888,
             "#fdca26"
            ],
            [
             1,
             "#f0f921"
            ]
           ]
          },
          "colorway": [
           "#636efa",
           "#EF553B",
           "#00cc96",
           "#ab63fa",
           "#FFA15A",
           "#19d3f3",
           "#FF6692",
           "#B6E880",
           "#FF97FF",
           "#FECB52"
          ],
          "font": {
           "color": "#2a3f5f"
          },
          "geo": {
           "bgcolor": "white",
           "lakecolor": "white",
           "landcolor": "#E5ECF6",
           "showlakes": true,
           "showland": true,
           "subunitcolor": "white"
          },
          "hoverlabel": {
           "align": "left"
          },
          "hovermode": "closest",
          "mapbox": {
           "style": "light"
          },
          "paper_bgcolor": "white",
          "plot_bgcolor": "#E5ECF6",
          "polar": {
           "angularaxis": {
            "gridcolor": "white",
            "linecolor": "white",
            "ticks": ""
           },
           "bgcolor": "#E5ECF6",
           "radialaxis": {
            "gridcolor": "white",
            "linecolor": "white",
            "ticks": ""
           }
          },
          "scene": {
           "xaxis": {
            "backgroundcolor": "#E5ECF6",
            "gridcolor": "white",
            "gridwidth": 2,
            "linecolor": "white",
            "showbackground": true,
            "ticks": "",
            "zerolinecolor": "white"
           },
           "yaxis": {
            "backgroundcolor": "#E5ECF6",
            "gridcolor": "white",
            "gridwidth": 2,
            "linecolor": "white",
            "showbackground": true,
            "ticks": "",
            "zerolinecolor": "white"
           },
           "zaxis": {
            "backgroundcolor": "#E5ECF6",
            "gridcolor": "white",
            "gridwidth": 2,
            "linecolor": "white",
            "showbackground": true,
            "ticks": "",
            "zerolinecolor": "white"
           }
          },
          "shapedefaults": {
           "line": {
            "color": "#2a3f5f"
           }
          },
          "ternary": {
           "aaxis": {
            "gridcolor": "white",
            "linecolor": "white",
            "ticks": ""
           },
           "baxis": {
            "gridcolor": "white",
            "linecolor": "white",
            "ticks": ""
           },
           "bgcolor": "#E5ECF6",
           "caxis": {
            "gridcolor": "white",
            "linecolor": "white",
            "ticks": ""
           }
          },
          "title": {
           "x": 0.05
          },
          "xaxis": {
           "automargin": true,
           "gridcolor": "white",
           "linecolor": "white",
           "ticks": "",
           "title": {
            "standoff": 15
           },
           "zerolinecolor": "white",
           "zerolinewidth": 2
          },
          "yaxis": {
           "automargin": true,
           "gridcolor": "white",
           "linecolor": "white",
           "ticks": "",
           "title": {
            "standoff": 15
           },
           "zerolinecolor": "white",
           "zerolinewidth": 2
          }
         }
        }
       }
      },
      "image/png": "[encoded data removed]",
      "text/html": [
       "<div>                            <div id=\"a8478d74-521c-4742-a463-171e46bfe552\" class=\"plotly-graph-div\" style=\"height:525px; width:100%;\"></div>            <script type=\"text/javascript\">                require([\"plotly\"], function(Plotly) {                    window.PLOTLYENV=window.PLOTLYENV || {};                                    if (document.getElementById(\"a8478d74-521c-4742-a463-171e46bfe552\")) {                    Plotly.newPlot(                        \"a8478d74-521c-4742-a463-171e46bfe552\",                        [{\"hovertemplate\": \"Neighborhood=Alamo Square<br>Sales Price per SqFt=%{marker.size}<br>Lat=%{lat}<br>Lon=%{lon}<extra></extra>\", \"lat\": [37.791012], \"legendgroup\": \"Alamo Square\", \"lon\": [-122.4021], \"marker\": {\"color\": \"#636efa\", \"size\": [366.02071153227644], \"sizemode\": \"area\", \"sizeref\": 2.259983144180161}, \"mode\": \"markers\", \"name\": \"Alamo Square\", \"showlegend\": true, \"subplot\": \"mapbox\", \"type\": \"scattermapbox\"}, {\"hovertemplate\": \"Neighborhood=Anza Vista<br>Sales Price per SqFt=%{marker.size}<br>Lat=%{lat}<br>Lon=%{lon}<extra></extra>\", \"lat\": [37.779598], \"legendgroup\": \"Anza Vista\", \"lon\": [-122.443451], \"marker\": {\"color\": \"#EF553B\", \"size\": [373.38219782647707], \"sizemode\": \"area\", \"sizeref\": 2.259983144180161}, \"mode\": \"markers\", \"name\": \"Anza Vista\", \"showlegend\": true, \"subplot\": \"mapbox\", \"type\": \"scattermapbox\"}, {\"hovertemplate\": \"Neighborhood=Bayview<br>Sales Price per SqFt=%{marker.size}<br>Lat=%{lat}<br>Lon=%{lon}<extra></extra>\", \"lat\": [37.73467], \"legendgroup\": \"Bayview\", \"lon\": [-122.40106000000002], \"marker\": {\"color\": \"#00cc96\", \"size\": [204.58862288246596], \"sizemode\": \"area\", \"sizeref\": 2.259983144180161}, \"mode\": \"markers\", \"name\": \"Bayview\", \"showlegend\": true, \"subplot\": \"mapbox\", \"type\": \"scattermapbox\"}, {\"hovertemplate\": \"Neighborhood=Bayview Heights<br>Sales Price per SqFt=%{marker.size}<br>Lat=%{lat}<br>Lon=%{lon}<extra></extra>\", \"lat\": [37.72874], \"legendgroup\": \"Bayview Heights\", \"lon\": [-122.41098000000001], \"marker\": {\"color\": \"#ab63fa\", \"size\": [590.7928388746802], \"sizemode\": \"area\", \"sizeref\": 2.259983144180161}, \"mode\": \"markers\", \"name\": \"Bayview Heights\", \"showlegend\": true, \"subplot\": \"mapbox\", \"type\": \"scattermapbox\"}, {\"hovertemplate\": \"Neighborhood=Buena Vista Park<br>Sales Price per SqFt=%{marker.size}<br>Lat=%{lat}<br>Lon=%{lon}<extra></extra>\", \"lat\": [37.768159999999995], \"legendgroup\": \"Buena Vista Park\", \"lon\": [-122.43933], \"marker\": {\"color\": \"#FFA15A\", \"size\": [452.6805909308442], \"sizemode\": \"area\", \"sizeref\": 2.259983144180161}, \"mode\": \"markers\", \"name\": \"Buena Vista Park\", \"showlegend\": true, \"subplot\": \"mapbox\", \"type\": \"scattermapbox\"}, {\"hovertemplate\": \"Neighborhood=Central Richmond<br>Sales Price per SqFt=%{marker.size}<br>Lat=%{lat}<br>Lon=%{lon}<extra></extra>\", \"lat\": [37.77789], \"legendgroup\": \"Central Richmond\", \"lon\": [-122.44516999999999], \"marker\": {\"color\": \"#19d3f3\", \"size\": [394.4223987800589], \"sizemode\": \"area\", \"sizeref\": 2.259983144180161}, \"mode\": \"markers\", \"name\": \"Central Richmond\", \"showlegend\": true, \"subplot\": \"mapbox\", \"type\": \"scattermapbox\"}, {\"hovertemplate\": \"Neighborhood=Central Sunset<br>Sales Price per SqFt=%{marker.size}<br>Lat=%{lat}<br>Lon=%{lon}<extra></extra>\", \"lat\": [37.74961], \"legendgroup\": \"Central Sunset\", \"lon\": [-122.48998999999999], \"marker\": {\"color\": \"#FF6692\", \"size\": [423.6879277015824], \"sizemode\": \"area\", \"sizeref\": 2.259983144180161}, \"mode\": \"markers\", \"name\": \"Central Sunset\", \"showlegend\": true, \"subplot\": \"mapbox\", \"type\": \"scattermapbox\"}, {\"hovertemplate\": \"Neighborhood=Clarendon Heights<br>Sales Price per SqFt=%{marker.size}<br>Lat=%{lat}<br>Lon=%{lon}<extra></extra>\", \"lat\": [37.75331], \"legendgroup\": \"Clarendon Heights\", \"lon\": [-122.44703], \"marker\": {\"color\": \"#B6E880\", \"size\": [487.2448860262575], \"sizemode\": \"area\", \"sizeref\": 2.259983144180161}, \"mode\": \"markers\", \"name\": \"Clarendon Heights\", \"showlegend\": true, \"subplot\": \"mapbox\", \"type\": \"scattermapbox\"}, {\"hovertemplate\": \"Neighborhood=Corona Heights<br>Sales Price per SqFt=%{marker.size}<br>Lat=%{lat}<br>Lon=%{lon}<extra></extra>\", \"lat\": [37.78553], \"legendgroup\": \"Corona Heights\", \"lon\": [-122.456], \"marker\": {\"color\": \"#FF97FF\", \"size\": [587.5390673661739], \"sizemode\": \"area\", \"sizeref\": 2.259983144180161}, \"mode\": \"markers\", \"name\": \"Corona Heights\", \"showlegend\": true, \"subplot\": \"mapbox\", \"type\": \"scattermapbox\"}, {\"hovertemplate\": \"Neighborhood=Cow Hollow<br>Sales Price per SqFt=%{marker.size}<br>Lat=%{lat}<br>Lon=%{lon}<extra></extra>\", \"lat\": [37.79298], \"legendgroup\": \"Cow Hollow\", \"lon\": [-122.43579], \"marker\": {\"color\": \"#FECB52\", \"size\": [665.964041578323], \"sizemode\": \"area\", \"sizeref\": 2.259983144180161}, \"mode\": \"markers\", \"name\": \"Cow Hollow\", \"showlegend\": true, \"subplot\": \"mapbox\", \"type\": \"scattermapbox\"}, {\"hovertemplate\": \"Neighborhood=Croker Amazon<br>Sales Price per SqFt=%{marker.size}<br>Lat=%{lat}<br>Lon=%{lon}<extra></extra>\", \"lat\": [37.7228], \"legendgroup\": \"Croker Amazon\", \"lon\": [-122.43869], \"marker\": {\"color\": \"#636efa\", \"size\": [303.00418440849427], \"sizemode\": \"area\", \"sizeref\": 2.259983144180161}, \"mode\": \"markers\", \"name\": \"Croker Amazon\", \"showlegend\": true, \"subplot\": \"mapbox\", \"type\": \"scattermapbox\"}, {\"hovertemplate\": \"Neighborhood=Diamond Heights<br>Sales Price per SqFt=%{marker.size}<br>Lat=%{lat}<br>Lon=%{lon}<extra></extra>\", \"lat\": [37.728629999999995], \"legendgroup\": \"Diamond Heights\", \"lon\": [-122.44305], \"marker\": {\"color\": \"#EF553B\", \"size\": [434.99173944522124], \"sizemode\": \"area\", \"sizeref\": 2.259983144180161}, \"mode\": \"markers\", \"name\": \"Diamond Heights\", \"showlegend\": true, \"subplot\": \"mapbox\", \"type\": \"scattermapbox\"}, {\"hovertemplate\": \"Neighborhood=Duboce Triangle<br>Sales Price per SqFt=%{marker.size}<br>Lat=%{lat}<br>Lon=%{lon}<extra></extra>\", \"lat\": [37.76964], \"legendgroup\": \"Duboce Triangle\", \"lon\": [-122.42611000000001], \"marker\": {\"color\": \"#00cc96\", \"size\": [502.59915555623616], \"sizemode\": \"area\", \"sizeref\": 2.259983144180161}, \"mode\": \"markers\", \"name\": \"Duboce Triangle\", \"showlegend\": true, \"subplot\": \"mapbox\", \"type\": \"scattermapbox\"}, {\"hovertemplate\": \"Neighborhood=Eureka Valley/Dolores Heights<br>Sales Price per SqFt=%{marker.size}<br>Lat=%{lat}<br>Lon=%{lon}<extra></extra>\", \"lat\": [37.75554], \"legendgroup\": \"Eureka Valley/Dolores Heights\", \"lon\": [-122.43778999999999], \"marker\": {\"color\": \"#ab63fa\", \"size\": [642.2486706357391], \"sizemode\": \"area\", \"sizeref\": 2.259983144180161}, \"mode\": \"markers\", \"name\": \"Eureka Valley/Dolores Heights\", \"showlegend\": true, \"subplot\": \"mapbox\", \"type\": \"scattermapbox\"}, {\"hovertemplate\": \"Neighborhood=Excelsior<br>Sales Price per SqFt=%{marker.size}<br>Lat=%{lat}<br>Lon=%{lon}<extra></extra>\", \"lat\": [37.72874], \"legendgroup\": \"Excelsior\", \"lon\": [-122.41098000000001], \"marker\": {\"color\": \"#FFA15A\", \"size\": [388.76592700230754], \"sizemode\": \"area\", \"sizeref\": 2.259983144180161}, \"mode\": \"markers\", \"name\": \"Excelsior\", \"showlegend\": true, \"subplot\": \"mapbox\", \"type\": \"scattermapbox\"}, {\"hovertemplate\": \"Neighborhood=Financial District North<br>Sales Price per SqFt=%{marker.size}<br>Lat=%{lat}<br>Lon=%{lon}<extra></extra>\", \"lat\": [37.79101], \"legendgroup\": \"Financial District North\", \"lon\": [-122.4021], \"marker\": {\"color\": \"#19d3f3\", \"size\": [391.36253308010487], \"sizemode\": \"area\", \"sizeref\": 2.259983144180161}, \"mode\": \"markers\", \"name\": \"Financial District North\", \"showlegend\": true, \"subplot\": \"mapbox\", \"type\": \"scattermapbox\"}, {\"hovertemplate\": \"Neighborhood=Financial District South<br>Sales Price per SqFt=%{marker.size}<br>Lat=%{lat}<br>Lon=%{lon}<extra></extra>\", \"lat\": [37.79101], \"legendgroup\": \"Financial District South\", \"lon\": [-122.4021], \"marker\": {\"color\": \"#FF6692\", \"size\": [455.83621223779153], \"sizemode\": \"area\", \"sizeref\": 2.259983144180161}, \"mode\": \"markers\", \"name\": \"Financial District South\", \"showlegend\": true, \"subplot\": \"mapbox\", \"type\": \"scattermapbox\"}, {\"hovertemplate\": \"Neighborhood=Forest Knolls<br>Sales Price per SqFt=%{marker.size}<br>Lat=%{lat}<br>Lon=%{lon}<extra></extra>\", \"lat\": [37.757059999999996], \"legendgroup\": \"Forest Knolls\", \"lon\": [-122.45508999999998], \"marker\": {\"color\": \"#B6E880\", \"size\": [321.84083657398736], \"sizemode\": \"area\", \"sizeref\": 2.259983144180161}, \"mode\": \"markers\", \"name\": \"Forest Knolls\", \"showlegend\": true, \"subplot\": \"mapbox\", \"type\": \"scattermapbox\"}, {\"hovertemplate\": \"Neighborhood=Glen Park<br>Sales Price per SqFt=%{marker.size}<br>Lat=%{lat}<br>Lon=%{lon}<extra></extra>\", \"lat\": [37.728629999999995], \"legendgroup\": \"Glen Park\", \"lon\": [-122.44305], \"marker\": {\"color\": \"#FF97FF\", \"size\": [623.826177537435], \"sizemode\": \"area\", \"sizeref\": 2.259983144180161}, \"mode\": \"markers\", \"name\": \"Glen Park\", \"showlegend\": true, \"subplot\": \"mapbox\", \"type\": \"scattermapbox\"}, {\"hovertemplate\": \"Neighborhood=Golden Gate Heights<br>Sales Price per SqFt=%{marker.size}<br>Lat=%{lat}<br>Lon=%{lon}<extra></extra>\", \"lat\": [37.757912], \"legendgroup\": \"Golden Gate Heights\", \"lon\": [-122.46401999999999], \"marker\": {\"color\": \"#FECB52\", \"size\": [639.3935574881156], \"sizemode\": \"area\", \"sizeref\": 2.259983144180161}, \"mode\": \"markers\", \"name\": \"Golden Gate Heights\", \"showlegend\": true, \"subplot\": \"mapbox\", \"type\": \"scattermapbox\"}, {\"hovertemplate\": \"Neighborhood=Haight Ashbury<br>Sales Price per SqFt=%{marker.size}<br>Lat=%{lat}<br>Lon=%{lon}<extra></extra>\", \"lat\": [37.76525], \"legendgroup\": \"Haight Ashbury\", \"lon\": [-122.43596000000001], \"marker\": {\"color\": \"#636efa\", \"size\": [449.5447622856192], \"sizemode\": \"area\", \"sizeref\": 2.259983144180161}, \"mode\": \"markers\", \"name\": \"Haight Ashbury\", \"showlegend\": true, \"subplot\": \"mapbox\", \"type\": \"scattermapbox\"}, {\"hovertemplate\": \"Neighborhood=Hayes Valley<br>Sales Price per SqFt=%{marker.size}<br>Lat=%{lat}<br>Lon=%{lon}<extra></extra>\", \"lat\": [37.76525], \"legendgroup\": \"Hayes Valley\", \"lon\": [-122.43596000000001], \"marker\": {\"color\": \"#EF553B\", \"size\": [355.9328279480578], \"sizemode\": \"area\", \"sizeref\": 2.259983144180161}, \"mode\": \"markers\", \"name\": \"Hayes Valley\", \"showlegend\": true, \"subplot\": \"mapbox\", \"type\": \"scattermapbox\"}, {\"hovertemplate\": \"Neighborhood=Hunters Point<br>Sales Price per SqFt=%{marker.size}<br>Lat=%{lat}<br>Lon=%{lon}<extra></extra>\", \"lat\": [37.72551], \"legendgroup\": \"Hunters Point\", \"lon\": [-122.37178], \"marker\": {\"color\": \"#00cc96\", \"size\": [170.62491987132685], \"sizemode\": \"area\", \"sizeref\": 2.259983144180161}, \"mode\": \"markers\", \"name\": \"Hunters Point\", \"showlegend\": true, \"subplot\": \"mapbox\", \"type\": \"scattermapbox\"}, {\"hovertemplate\": \"Neighborhood=Ingleside Heights<br>Sales Price per SqFt=%{marker.size}<br>Lat=%{lat}<br>Lon=%{lon}<extra></extra>\", \"lat\": [37.72116], \"legendgroup\": \"Ingleside Heights\", \"lon\": [-122.48706999999999], \"marker\": {\"color\": \"#ab63fa\", \"size\": [384.7979281346048], \"sizemode\": \"area\", \"sizeref\": 2.259983144180161}, \"mode\": \"markers\", \"name\": \"Ingleside Heights\", \"showlegend\": true, \"subplot\": \"mapbox\", \"type\": \"scattermapbox\"}, {\"hovertemplate\": \"Neighborhood=Inner Mission<br>Sales Price per SqFt=%{marker.size}<br>Lat=%{lat}<br>Lon=%{lon}<extra></extra>\", \"lat\": [37.75416], \"legendgroup\": \"Inner Mission\", \"lon\": [-122.41946999999999], \"marker\": {\"color\": \"#FFA15A\", \"size\": [397.67371473613446], \"sizemode\": \"area\", \"sizeref\": 2.259983144180161}, \"mode\": \"markers\", \"name\": \"Inner Mission\", \"showlegend\": true, \"subplot\": \"mapbox\", \"type\": \"scattermapbox\"}, {\"hovertemplate\": \"Neighborhood=Inner Parkside<br>Sales Price per SqFt=%{marker.size}<br>Lat=%{lat}<br>Lon=%{lon}<extra></extra>\", \"lat\": [37.74961], \"legendgroup\": \"Inner Parkside\", \"lon\": [-122.48998999999999], \"marker\": {\"color\": \"#19d3f3\", \"size\": [519.3856038526768], \"sizemode\": \"area\", \"sizeref\": 2.259983144180161}, \"mode\": \"markers\", \"name\": \"Inner Parkside\", \"showlegend\": true, \"subplot\": \"mapbox\", \"type\": \"scattermapbox\"}, {\"hovertemplate\": \"Neighborhood=Inner Richmond<br>Sales Price per SqFt=%{marker.size}<br>Lat=%{lat}<br>Lon=%{lon}<extra></extra>\", \"lat\": [37.769112], \"legendgroup\": \"Inner Richmond\", \"lon\": [-122.483566], \"marker\": {\"color\": \"#FF6692\", \"size\": [378.59431396136455], \"sizemode\": \"area\", \"sizeref\": 2.259983144180161}, \"mode\": \"markers\", \"name\": \"Inner Richmond\", \"showlegend\": true, \"subplot\": \"mapbox\", \"type\": \"scattermapbox\"}, {\"hovertemplate\": \"Neighborhood=Inner Sunset<br>Sales Price per SqFt=%{marker.size}<br>Lat=%{lat}<br>Lon=%{lon}<extra></extra>\", \"lat\": [37.74961], \"legendgroup\": \"Inner Sunset\", \"lon\": [-122.48997], \"marker\": {\"color\": \"#B6E880\", \"size\": [413.66751546215943], \"sizemode\": \"area\", \"sizeref\": 2.259983144180161}, \"mode\": \"markers\", \"name\": \"Inner Sunset\", \"showlegend\": true, \"subplot\": \"mapbox\", \"type\": \"scattermapbox\"}, {\"hovertemplate\": \"Neighborhood=Jordan Park/Laurel Heights<br>Sales Price per SqFt=%{marker.size}<br>Lat=%{lat}<br>Lon=%{lon}<extra></extra>\", \"lat\": [37.78553], \"legendgroup\": \"Jordan Park/Laurel Heights\", \"lon\": [-122.456], \"marker\": {\"color\": \"#FF97FF\", \"size\": [529.3841850673389], \"sizemode\": \"area\", \"sizeref\": 2.259983144180161}, \"mode\": \"markers\", \"name\": \"Jordan Park/Laurel Heights\", \"showlegend\": true, \"subplot\": \"mapbox\", \"type\": \"scattermapbox\"}, {\"hovertemplate\": \"Neighborhood=Lake --The Presidio<br>Sales Price per SqFt=%{marker.size}<br>Lat=%{lat}<br>Lon=%{lon}<extra></extra>\", \"lat\": [37.801520000000004], \"legendgroup\": \"Lake --The Presidio\", \"lon\": [-122.45456999999999], \"marker\": {\"color\": \"#FECB52\", \"size\": [409.95435219297514], \"sizemode\": \"area\", \"sizeref\": 2.259983144180161}, \"mode\": \"markers\", \"name\": \"Lake --The Presidio\", \"showlegend\": true, \"subplot\": \"mapbox\", \"type\": \"scattermapbox\"}, {\"hovertemplate\": \"Neighborhood=Lone Mountain<br>Sales Price per SqFt=%{marker.size}<br>Lat=%{lat}<br>Lon=%{lon}<extra></extra>\", \"lat\": [37.7789], \"legendgroup\": \"Lone Mountain\", \"lon\": [-122.45496000000001], \"marker\": {\"color\": \"#636efa\", \"size\": [478.2285530213679], \"sizemode\": \"area\", \"sizeref\": 2.259983144180161}, \"mode\": \"markers\", \"name\": \"Lone Mountain\", \"showlegend\": true, \"subplot\": \"mapbox\", \"type\": \"scattermapbox\"}, {\"hovertemplate\": \"Neighborhood=Lower Pacific Heights<br>Sales Price per SqFt=%{marker.size}<br>Lat=%{lat}<br>Lon=%{lon}<extra></extra>\", \"lat\": [37.79298], \"legendgroup\": \"Lower Pacific Heights\", \"lon\": [-122.43579], \"marker\": {\"color\": \"#EF553B\", \"size\": [539.2379688783261], \"sizemode\": \"area\", \"sizeref\": 2.259983144180161}, \"mode\": \"markers\", \"name\": \"Lower Pacific Heights\", \"showlegend\": true, \"subplot\": \"mapbox\", \"type\": \"scattermapbox\"}, {\"hovertemplate\": \"Neighborhood=Marina<br>Sales Price per SqFt=%{marker.size}<br>Lat=%{lat}<br>Lon=%{lon}<extra></extra>\", \"lat\": [37.79972], \"legendgroup\": \"Marina\", \"lon\": [-122.46688999999999], \"marker\": {\"color\": \"#00cc96\", \"size\": [583.7492694814549], \"sizemode\": \"area\", \"sizeref\": 2.259983144180161}, \"mode\": \"markers\", \"name\": \"Marina\", \"showlegend\": true, \"subplot\": \"mapbox\", \"type\": \"scattermapbox\"}, {\"hovertemplate\": \"Neighborhood=Merced Heights<br>Sales Price per SqFt=%{marker.size}<br>Lat=%{lat}<br>Lon=%{lon}<extra></extra>\", \"lat\": [37.71993], \"legendgroup\": \"Merced Heights\", \"lon\": [-122.46595], \"marker\": {\"color\": \"#ab63fa\", \"size\": [788.8448175872469], \"sizemode\": \"area\", \"sizeref\": 2.259983144180161}, \"mode\": \"markers\", \"name\": \"Merced Heights\", \"showlegend\": true, \"subplot\": \"mapbox\", \"type\": \"scattermapbox\"}, {\"hovertemplate\": \"Neighborhood=Midtown Terrace<br>Sales Price per SqFt=%{marker.size}<br>Lat=%{lat}<br>Lon=%{lon}<extra></extra>\", \"lat\": [37.75331], \"legendgroup\": \"Midtown Terrace\", \"lon\": [-122.44703], \"marker\": {\"color\": \"#FFA15A\", \"size\": [550.5103482917151], \"sizemode\": \"area\", \"sizeref\": 2.259983144180161}, \"mode\": \"markers\", \"name\": \"Midtown Terrace\", \"showlegend\": true, \"subplot\": \"mapbox\", \"type\": \"scattermapbox\"}, {\"hovertemplate\": \"Neighborhood=Miraloma Park<br>Sales Price per SqFt=%{marker.size}<br>Lat=%{lat}<br>Lon=%{lon}<extra></extra>\", \"lat\": [37.73415], \"legendgroup\": \"Miraloma Park\", \"lon\": [-122.45700000000001], \"marker\": {\"color\": \"#19d3f3\", \"size\": [779.810842264425], \"sizemode\": \"area\", \"sizeref\": 2.259983144180161}, \"mode\": \"markers\", \"name\": \"Miraloma Park\", \"showlegend\": true, \"subplot\": \"mapbox\", \"type\": \"scattermapbox\"}, {\"hovertemplate\": \"Neighborhood=Mission Bay<br>Sales Price per SqFt=%{marker.size}<br>Lat=%{lat}<br>Lon=%{lon}<extra></extra>\", \"lat\": [37.783229999999996], \"legendgroup\": \"Mission Bay\", \"lon\": [-122.40065], \"marker\": {\"color\": \"#FF6692\", \"size\": [566.1922135483312], \"sizemode\": \"area\", \"sizeref\": 2.259983144180161}, \"mode\": \"markers\", \"name\": \"Mission Bay\", \"showlegend\": true, \"subplot\": \"mapbox\", \"type\": \"scattermapbox\"}, {\"hovertemplate\": \"Neighborhood=Mission Dolores<br>Sales Price per SqFt=%{marker.size}<br>Lat=%{lat}<br>Lon=%{lon}<extra></extra>\", \"lat\": [37.75184], \"legendgroup\": \"Mission Dolores\", \"lon\": [-122.42522], \"marker\": {\"color\": \"#B6E880\", \"size\": [418.9156225067234], \"sizemode\": \"area\", \"sizeref\": 2.259983144180161}, \"mode\": \"markers\", \"name\": \"Mission Dolores\", \"showlegend\": true, \"subplot\": \"mapbox\", \"type\": \"scattermapbox\"}, {\"hovertemplate\": \"Neighborhood=Mission Terrace<br>Sales Price per SqFt=%{marker.size}<br>Lat=%{lat}<br>Lon=%{lon}<extra></extra>\", \"lat\": [37.728629999999995], \"legendgroup\": \"Mission Terrace\", \"lon\": [-122.44305], \"marker\": {\"color\": \"#FF97FF\", \"size\": [523.4662013248023], \"sizemode\": \"area\", \"sizeref\": 2.259983144180161}, \"mode\": \"markers\", \"name\": \"Mission Terrace\", \"showlegend\": true, \"subplot\": \"mapbox\", \"type\": \"scattermapbox\"}, {\"hovertemplate\": \"Neighborhood=Nob Hill<br>Sales Price per SqFt=%{marker.size}<br>Lat=%{lat}<br>Lon=%{lon}<extra></extra>\", \"lat\": [37.79298], \"legendgroup\": \"Nob Hill\", \"lon\": [-122.43579], \"marker\": {\"color\": \"#FECB52\", \"size\": [458.2040944846015], \"sizemode\": \"area\", \"sizeref\": 2.259983144180161}, \"mode\": \"markers\", \"name\": \"Nob Hill\", \"showlegend\": true, \"subplot\": \"mapbox\", \"type\": \"scattermapbox\"}, {\"hovertemplate\": \"Neighborhood=Noe Valley<br>Sales Price per SqFt=%{marker.size}<br>Lat=%{lat}<br>Lon=%{lon}<extra></extra>\", \"lat\": [37.75331], \"legendgroup\": \"Noe Valley\", \"lon\": [-122.44703], \"marker\": {\"color\": \"#636efa\", \"size\": [542.4429128151736], \"sizemode\": \"area\", \"sizeref\": 2.259983144180161}, \"mode\": \"markers\", \"name\": \"Noe Valley\", \"showlegend\": true, \"subplot\": \"mapbox\", \"type\": \"scattermapbox\"}, {\"hovertemplate\": \"Neighborhood=North Beach<br>Sales Price per SqFt=%{marker.size}<br>Lat=%{lat}<br>Lon=%{lon}<extra></extra>\", \"lat\": [37.80055], \"legendgroup\": \"North Beach\", \"lon\": [-122.40433], \"marker\": {\"color\": \"#EF553B\", \"size\": [411.646875881678], \"sizemode\": \"area\", \"sizeref\": 2.259983144180161}, \"mode\": \"markers\", \"name\": \"North Beach\", \"showlegend\": true, \"subplot\": \"mapbox\", \"type\": \"scattermapbox\"}, {\"hovertemplate\": \"Neighborhood=North Waterfront<br>Sales Price per SqFt=%{marker.size}<br>Lat=%{lat}<br>Lon=%{lon}<extra></extra>\", \"lat\": [37.80055], \"legendgroup\": \"North Waterfront\", \"lon\": [-122.40433], \"marker\": {\"color\": \"#00cc96\", \"size\": [498.26975500787677], \"sizemode\": \"area\", \"sizeref\": 2.259983144180161}, \"mode\": \"markers\", \"name\": \"North Waterfront\", \"showlegend\": true, \"subplot\": \"mapbox\", \"type\": \"scattermapbox\"}, {\"hovertemplate\": \"Neighborhood=Oceanview<br>Sales Price per SqFt=%{marker.size}<br>Lat=%{lat}<br>Lon=%{lon}<extra></extra>\", \"lat\": [37.71993], \"legendgroup\": \"Oceanview\", \"lon\": [-122.46595], \"marker\": {\"color\": \"#ab63fa\", \"size\": [330.0973846552545], \"sizemode\": \"area\", \"sizeref\": 2.259983144180161}, \"mode\": \"markers\", \"name\": \"Oceanview\", \"showlegend\": true, \"subplot\": \"mapbox\", \"type\": \"scattermapbox\"}, {\"hovertemplate\": \"Neighborhood=Outer Mission<br>Sales Price per SqFt=%{marker.size}<br>Lat=%{lat}<br>Lon=%{lon}<extra></extra>\", \"lat\": [37.7228], \"legendgroup\": \"Outer Mission\", \"lon\": [-122.43869], \"marker\": {\"color\": \"#FFA15A\", \"size\": [242.37095202049667], \"sizemode\": \"area\", \"sizeref\": 2.259983144180161}, \"mode\": \"markers\", \"name\": \"Outer Mission\", \"showlegend\": true, \"subplot\": \"mapbox\", \"type\": \"scattermapbox\"}, {\"hovertemplate\": \"Neighborhood=Outer Parkside<br>Sales Price per SqFt=%{marker.size}<br>Lat=%{lat}<br>Lon=%{lon}<extra></extra>\", \"lat\": [37.7517], \"legendgroup\": \"Outer Parkside\", \"lon\": [-122.446], \"marker\": {\"color\": \"#19d3f3\", \"size\": [485.0270126111035], \"sizemode\": \"area\", \"sizeref\": 2.259983144180161}, \"mode\": \"markers\", \"name\": \"Outer Parkside\", \"showlegend\": true, \"subplot\": \"mapbox\", \"type\": \"scattermapbox\"}, {\"hovertemplate\": \"Neighborhood=Outer Sunset<br>Sales Price per SqFt=%{marker.size}<br>Lat=%{lat}<br>Lon=%{lon}<extra></extra>\", \"lat\": [37.74961], \"legendgroup\": \"Outer Sunset\", \"lon\": [-122.48998999999999], \"marker\": {\"color\": \"#FF6692\", \"size\": [394.21903228550775], \"sizemode\": \"area\", \"sizeref\": 2.259983144180161}, \"mode\": \"markers\", \"name\": \"Outer Sunset\", \"showlegend\": true, \"subplot\": \"mapbox\", \"type\": \"scattermapbox\"}, {\"hovertemplate\": \"Neighborhood=Pacific Heights<br>Sales Price per SqFt=%{marker.size}<br>Lat=%{lat}<br>Lon=%{lon}<extra></extra>\", \"lat\": [37.79298], \"legendgroup\": \"Pacific Heights\", \"lon\": [-122.43579], \"marker\": {\"color\": \"#B6E880\", \"size\": [689.5558168113664], \"sizemode\": \"area\", \"sizeref\": 2.259983144180161}, \"mode\": \"markers\", \"name\": \"Pacific Heights\", \"showlegend\": true, \"subplot\": \"mapbox\", \"type\": \"scattermapbox\"}, {\"hovertemplate\": \"Neighborhood=Park North<br>Sales Price per SqFt=%{marker.size}<br>Lat=%{lat}<br>Lon=%{lon}<extra></extra>\", \"lat\": [37.72838], \"legendgroup\": \"Park North\", \"lon\": [-122.47851000000001], \"marker\": {\"color\": \"#FF97FF\", \"size\": [373.732856371763], \"sizemode\": \"area\", \"sizeref\": 2.259983144180161}, \"mode\": \"markers\", \"name\": \"Park North\", \"showlegend\": true, \"subplot\": \"mapbox\", \"type\": \"scattermapbox\"}, {\"hovertemplate\": \"Neighborhood=Parkside<br>Sales Price per SqFt=%{marker.size}<br>Lat=%{lat}<br>Lon=%{lon}<extra></extra>\", \"lat\": [37.74961], \"legendgroup\": \"Parkside\", \"lon\": [-122.48998999999999], \"marker\": {\"color\": \"#FECB52\", \"size\": [336.172661037069], \"sizemode\": \"area\", \"sizeref\": 2.259983144180161}, \"mode\": \"markers\", \"name\": \"Parkside\", \"showlegend\": true, \"subplot\": \"mapbox\", \"type\": \"scattermapbox\"}, {\"hovertemplate\": \"Neighborhood=Parnassus/Ashbury Heights<br>Sales Price per SqFt=%{marker.size}<br>Lat=%{lat}<br>Lon=%{lon}<extra></extra>\", \"lat\": [37.76355], \"legendgroup\": \"Parnassus/Ashbury Heights\", \"lon\": [-122.45765], \"marker\": {\"color\": \"#636efa\", \"size\": [632.740453508577], \"sizemode\": \"area\", \"sizeref\": 2.259983144180161}, \"mode\": \"markers\", \"name\": \"Parnassus/Ashbury Heights\", \"showlegend\": true, \"subplot\": \"mapbox\", \"type\": \"scattermapbox\"}, {\"hovertemplate\": \"Neighborhood=Portola<br>Sales Price per SqFt=%{marker.size}<br>Lat=%{lat}<br>Lon=%{lon}<extra></extra>\", \"lat\": [37.73467], \"legendgroup\": \"Portola\", \"lon\": [-122.40106000000002], \"marker\": {\"color\": \"#EF553B\", \"size\": [327.11392534647274], \"sizemode\": \"area\", \"sizeref\": 2.259983144180161}, \"mode\": \"markers\", \"name\": \"Portola\", \"showlegend\": true, \"subplot\": \"mapbox\", \"type\": \"scattermapbox\"}, {\"hovertemplate\": \"Neighborhood=Potrero Hill<br>Sales Price per SqFt=%{marker.size}<br>Lat=%{lat}<br>Lon=%{lon}<extra></extra>\", \"lat\": [37.73196], \"legendgroup\": \"Potrero Hill\", \"lon\": [-122.38323999999999], \"marker\": {\"color\": \"#00cc96\", \"size\": [662.0136128276529], \"sizemode\": \"area\", \"sizeref\": 2.259983144180161}, \"mode\": \"markers\", \"name\": \"Potrero Hill\", \"showlegend\": true, \"subplot\": \"mapbox\", \"type\": \"scattermapbox\"}, {\"hovertemplate\": \"Neighborhood=Presidio Heights<br>Sales Price per SqFt=%{marker.size}<br>Lat=%{lat}<br>Lon=%{lon}<extra></extra>\", \"lat\": [37.78553], \"legendgroup\": \"Presidio Heights\", \"lon\": [-122.456], \"marker\": {\"color\": \"#ab63fa\", \"size\": [675.3502120510033], \"sizemode\": \"area\", \"sizeref\": 2.259983144180161}, \"mode\": \"markers\", \"name\": \"Presidio Heights\", \"showlegend\": true, \"subplot\": \"mapbox\", \"type\": \"scattermapbox\"}, {\"hovertemplate\": \"Neighborhood=Russian Hill<br>Sales Price per SqFt=%{marker.size}<br>Lat=%{lat}<br>Lon=%{lon}<extra></extra>\", \"lat\": [37.79298], \"legendgroup\": \"Russian Hill\", \"lon\": [-122.43579], \"marker\": {\"color\": \"#FFA15A\", \"size\": [608.9832172374425], \"sizemode\": \"area\", \"sizeref\": 2.259983144180161}, \"mode\": \"markers\", \"name\": \"Russian Hill\", \"showlegend\": true, \"subplot\": \"mapbox\", \"type\": \"scattermapbox\"}, {\"hovertemplate\": \"Neighborhood=Silver Terrace<br>Sales Price per SqFt=%{marker.size}<br>Lat=%{lat}<br>Lon=%{lon}<extra></extra>\", \"lat\": [37.73467], \"legendgroup\": \"Silver Terrace\", \"lon\": [-122.40106000000002], \"marker\": {\"color\": \"#19d3f3\", \"size\": [170.2925485152069], \"sizemode\": \"area\", \"sizeref\": 2.259983144180161}, \"mode\": \"markers\", \"name\": \"Silver Terrace\", \"showlegend\": true, \"subplot\": \"mapbox\", \"type\": \"scattermapbox\"}, {\"hovertemplate\": \"Neighborhood=South Beach<br>Sales Price per SqFt=%{marker.size}<br>Lat=%{lat}<br>Lon=%{lon}<extra></extra>\", \"lat\": [37.783229999999996], \"legendgroup\": \"South Beach\", \"lon\": [-122.40065], \"marker\": {\"color\": \"#FF6692\", \"size\": [650.1244791945729], \"sizemode\": \"area\", \"sizeref\": 2.259983144180161}, \"mode\": \"markers\", \"name\": \"South Beach\", \"showlegend\": true, \"subplot\": \"mapbox\", \"type\": \"scattermapbox\"}, {\"hovertemplate\": \"Neighborhood=South of Market<br>Sales Price per SqFt=%{marker.size}<br>Lat=%{lat}<br>Lon=%{lon}<extra></extra>\", \"lat\": [37.79101], \"legendgroup\": \"South of Market\", \"lon\": [-122.4021], \"marker\": {\"color\": \"#B6E880\", \"size\": [570.2714266991686], \"sizemode\": \"area\", \"sizeref\": 2.259983144180161}, \"mode\": \"markers\", \"name\": \"South of Market\", \"showlegend\": true, \"subplot\": \"mapbox\", \"type\": \"scattermapbox\"}, {\"hovertemplate\": \"Neighborhood=Sunnyside<br>Sales Price per SqFt=%{marker.size}<br>Lat=%{lat}<br>Lon=%{lon}<extra></extra>\", \"lat\": [37.73415], \"legendgroup\": \"Sunnyside\", \"lon\": [-122.45700000000001], \"marker\": {\"color\": \"#FF97FF\", \"size\": [528.3183317138463], \"sizemode\": \"area\", \"sizeref\": 2.259983144180161}, \"mode\": \"markers\", \"name\": \"Sunnyside\", \"showlegend\": true, \"subplot\": \"mapbox\", \"type\": \"scattermapbox\"}, {\"hovertemplate\": \"Neighborhood=Telegraph Hill<br>Sales Price per SqFt=%{marker.size}<br>Lat=%{lat}<br>Lon=%{lon}<extra></extra>\", \"lat\": [37.80055], \"legendgroup\": \"Telegraph Hill\", \"lon\": [-122.40433], \"marker\": {\"color\": \"#FECB52\", \"size\": [676.5065775293257], \"sizemode\": \"area\", \"sizeref\": 2.259983144180161}, \"mode\": \"markers\", \"name\": \"Telegraph Hill\", \"showlegend\": true, \"subplot\": \"mapbox\", \"type\": \"scattermapbox\"}, {\"hovertemplate\": \"Neighborhood=Twin Peaks<br>Sales Price per SqFt=%{marker.size}<br>Lat=%{lat}<br>Lon=%{lon}<extra></extra>\", \"lat\": [37.753311], \"legendgroup\": \"Twin Peaks\", \"lon\": [-122.447029], \"marker\": {\"color\": \"#636efa\", \"size\": [469.39862649935156], \"sizemode\": \"area\", \"sizeref\": 2.259983144180161}, \"mode\": \"markers\", \"name\": \"Twin Peaks\", \"showlegend\": true, \"subplot\": \"mapbox\", \"type\": \"scattermapbox\"}, {\"hovertemplate\": \"Neighborhood=Union Square District<br>Sales Price per SqFt=%{marker.size}<br>Lat=%{lat}<br>Lon=%{lon}<extra></extra>\", \"lat\": [37.79101], \"legendgroup\": \"Union Square District\", \"lon\": [-122.4021], \"marker\": {\"color\": \"#EF553B\", \"size\": [903.9932576720645], \"sizemode\": \"area\", \"sizeref\": 2.259983144180161}, \"mode\": \"markers\", \"name\": \"Union Square District\", \"showlegend\": true, \"subplot\": \"mapbox\", \"type\": \"scattermapbox\"}, {\"hovertemplate\": \"Neighborhood=Van Ness/ Civic Center<br>Sales Price per SqFt=%{marker.size}<br>Lat=%{lat}<br>Lon=%{lon}<extra></extra>\", \"lat\": [37.779509999999995], \"legendgroup\": \"Van Ness/ Civic Center\", \"lon\": [-122.42022], \"marker\": {\"color\": \"#00cc96\", \"size\": [404.1501801622257], \"sizemode\": \"area\", \"sizeref\": 2.259983144180161}, \"mode\": \"markers\", \"name\": \"Van Ness/ Civic Center\", \"showlegend\": true, \"subplot\": \"mapbox\", \"type\": \"scattermapbox\"}, {\"hovertemplate\": \"Neighborhood=Visitacion Valley<br>Sales Price per SqFt=%{marker.size}<br>Lat=%{lat}<br>Lon=%{lon}<extra></extra>\", \"lat\": [37.72874], \"legendgroup\": \"Visitacion Valley\", \"lon\": [-122.41098000000001], \"marker\": {\"color\": \"#ab63fa\", \"size\": [301.46617997450267], \"sizemode\": \"area\", \"sizeref\": 2.259983144180161}, \"mode\": \"markers\", \"name\": \"Visitacion Valley\", \"showlegend\": true, \"subplot\": \"mapbox\", \"type\": \"scattermapbox\"}, {\"hovertemplate\": \"Neighborhood=West Portal<br>Sales Price per SqFt=%{marker.size}<br>Lat=%{lat}<br>Lon=%{lon}<extra></extra>\", \"lat\": [37.74026], \"legendgroup\": \"West Portal\", \"lon\": [-122.46388], \"marker\": {\"color\": \"#FFA15A\", \"size\": [498.4884848295011], \"sizemode\": \"area\", \"sizeref\": 2.259983144180161}, \"mode\": \"markers\", \"name\": \"West Portal\", \"showlegend\": true, \"subplot\": \"mapbox\", \"type\": \"scattermapbox\"}, {\"hovertemplate\": \"Neighborhood=Western Addition<br>Sales Price per SqFt=%{marker.size}<br>Lat=%{lat}<br>Lon=%{lon}<extra></extra>\", \"lat\": [37.79298], \"legendgroup\": \"Western Addition\", \"lon\": [-122.43579], \"marker\": {\"color\": \"#19d3f3\", \"size\": [307.56220097996066], \"sizemode\": \"area\", \"sizeref\": 2.259983144180161}, \"mode\": \"markers\", \"name\": \"Western Addition\", \"showlegend\": true, \"subplot\": \"mapbox\", \"type\": \"scattermapbox\"}, {\"hovertemplate\": \"Neighborhood=Westwood Highlands<br>Sales Price per SqFt=%{marker.size}<br>Lat=%{lat}<br>Lon=%{lon}<extra></extra>\", \"lat\": [37.7347], \"legendgroup\": \"Westwood Highlands\", \"lon\": [-122.456854], \"marker\": {\"color\": \"#FF6692\", \"size\": [533.7039354359513], \"sizemode\": \"area\", \"sizeref\": 2.259983144180161}, \"mode\": \"markers\", \"name\": \"Westwood Highlands\", \"showlegend\": true, \"subplot\": \"mapbox\", \"type\": \"scattermapbox\"}, {\"hovertemplate\": \"Neighborhood=Westwood Park<br>Sales Price per SqFt=%{marker.size}<br>Lat=%{lat}<br>Lon=%{lon}<extra></extra>\", \"lat\": [37.73415], \"legendgroup\": \"Westwood Park\", \"lon\": [-122.45700000000001], \"marker\": {\"color\": \"#B6E880\", \"size\": [687.0875745178323], \"sizemode\": \"area\", \"sizeref\": 2.259983144180161}, \"mode\": \"markers\", \"name\": \"Westwood Park\", \"showlegend\": true, \"subplot\": \"mapbox\", \"type\": \"scattermapbox\"}, {\"hovertemplate\": \"Neighborhood=Yerba Buena<br>Sales Price per SqFt=%{marker.size}<br>Lat=%{lat}<br>Lon=%{lon}<extra></extra>\", \"lat\": [37.79298], \"legendgroup\": \"Yerba Buena\", \"lon\": [-122.39636000000002], \"marker\": {\"color\": \"#FF97FF\", \"size\": [576.709848378276], \"sizemode\": \"area\", \"sizeref\": 2.259983144180161}, \"mode\": \"markers\", \"name\": \"Yerba Buena\", \"showlegend\": true, \"subplot\": \"mapbox\", \"type\": \"scattermapbox\"}],                        {\"legend\": {\"itemsizing\": \"constant\", \"title\": {\"text\": \"Neighborhood\"}, \"tracegroupgap\": 0}, \"mapbox\": {\"accesstoken\": \"pk.eyJ1IjoiY3BlcmV6Nzc4NSIsImEiOiJja29seXQ2djEwMXhzMnBwM2FpbnRzZmlwIn0.qx42zvh679tshUv0251n6w\", \"center\": {\"lat\": 37.76064079710145, \"lon\": -122.43826449275363}, \"domain\": {\"x\": [0.0, 1.0], \"y\": [0.0, 1.0]}, \"zoom\": 4}, \"margin\": {\"t\": 60}, \"template\": {\"data\": {\"bar\": [{\"error_x\": {\"color\": \"#2a3f5f\"}, \"error_y\": {\"color\": \"#2a3f5f\"}, \"marker\": {\"line\": {\"color\": \"#E5ECF6\", \"width\": 0.5}}, \"type\": \"bar\"}], \"barpolar\": [{\"marker\": {\"line\": {\"color\": \"#E5ECF6\", \"width\": 0.5}}, \"type\": \"barpolar\"}], \"carpet\": [{\"aaxis\": {\"endlinecolor\": \"#2a3f5f\", \"gridcolor\": \"white\", \"linecolor\": \"white\", \"minorgridcolor\": \"white\", \"startlinecolor\": \"#2a3f5f\"}, \"baxis\": {\"endlinecolor\": \"#2a3f5f\", \"gridcolor\": \"white\", \"linecolor\": \"white\", \"minorgridcolor\": \"white\", \"startlinecolor\": \"#2a3f5f\"}, \"type\": \"carpet\"}], \"choropleth\": [{\"colorbar\": {\"outlinewidth\": 0, \"ticks\": \"\"}, \"type\": \"choropleth\"}], \"contour\": [{\"colorbar\": {\"outlinewidth\": 0, \"ticks\": \"\"}, \"colorscale\": [[0.0, \"#0d0887\"], [0.1111111111111111, \"#46039f\"], [0.2222222222222222, \"#7201a8\"], [0.3333333333333333, \"#9c179e\"], [0.4444444444444444, \"#bd3786\"], [0.5555555555555556, \"#d8576b\"], [0.6666666666666666, \"#ed7953\"], [0.7777777777777778, \"#fb9f3a\"], [0.8888888888888888, \"#fdca26\"], [1.0, \"#f0f921\"]], \"type\": \"contour\"}], \"contourcarpet\": [{\"colorbar\": {\"outlinewidth\": 0, \"ticks\": \"\"}, \"type\": \"contourcarpet\"}], \"heatmap\": [{\"colorbar\": {\"outlinewidth\": 0, \"ticks\": \"\"}, \"colorscale\": [[0.0, \"#0d0887\"], [0.1111111111111111, \"#46039f\"], [0.2222222222222222, \"#7201a8\"], [0.3333333333333333, \"#9c179e\"], [0.4444444444444444, \"#bd3786\"], [0.5555555555555556, \"#d8576b\"], [0.6666666666666666, \"#ed7953\"], [0.7777777777777778, \"#fb9f3a\"], [0.8888888888888888, \"#fdca26\"], [1.0, \"#f0f921\"]], \"type\": \"heatmap\"}], \"heatmapgl\": [{\"colorbar\": {\"outlinewidth\": 0, \"ticks\": \"\"}, \"colorscale\": [[0.0, \"#0d0887\"], [0.1111111111111111, \"#46039f\"], [0.2222222222222222, \"#7201a8\"], [0.3333333333333333, \"#9c179e\"], [0.4444444444444444, \"#bd3786\"], [0.5555555555555556, \"#d8576b\"], [0.6666666666666666, \"#ed7953\"], [0.7777777777777778, \"#fb9f3a\"], [0.8888888888888888, \"#fdca26\"], [1.0, \"#f0f921\"]], \"type\": \"heatmapgl\"}], \"histogram\": [{\"marker\": {\"colorbar\": {\"outlinewidth\": 0, \"ticks\": \"\"}}, \"type\": \"histogram\"}], \"histogram2d\": [{\"colorbar\": {\"outlinewidth\": 0, \"ticks\": \"\"}, \"colorscale\": [[0.0, \"#0d0887\"], [0.1111111111111111, \"#46039f\"], [0.2222222222222222, \"#7201a8\"], [0.3333333333333333, \"#9c179e\"], [0.4444444444444444, \"#bd3786\"], [0.5555555555555556, \"#d8576b\"], [0.6666666666666666, \"#ed7953\"], [0.7777777777777778, \"#fb9f3a\"], [0.8888888888888888, \"#fdca26\"], [1.0, \"#f0f921\"]], \"type\": \"histogram2d\"}], \"histogram2dcontour\": [{\"colorbar\": {\"outlinewidth\": 0, \"ticks\": \"\"}, \"colorscale\": [[0.0, \"#0d0887\"], [0.1111111111111111, \"#46039f\"], [0.2222222222222222, \"#7201a8\"], [0.3333333333333333, \"#9c179e\"], [0.4444444444444444, \"#bd3786\"], [0.5555555555555556, \"#d8576b\"], [0.6666666666666666, \"#ed7953\"], [0.7777777777777778, \"#fb9f3a\"], [0.8888888888888888, \"#fdca26\"], [1.0, \"#f0f921\"]], \"type\": \"histogram2dcontour\"}], \"mesh3d\": [{\"colorbar\": {\"outlinewidth\": 0, \"ticks\": \"\"}, \"type\": \"mesh3d\"}], \"parcoords\": [{\"line\": {\"colorbar\": {\"outlinewidth\": 0, \"ticks\": \"\"}}, \"type\": \"parcoords\"}], \"pie\": [{\"automargin\": true, \"type\": \"pie\"}], \"scatter\": [{\"marker\": {\"colorbar\": {\"outlinewidth\": 0, \"ticks\": \"\"}}, \"type\": \"scatter\"}], \"scatter3d\": [{\"line\": {\"colorbar\": {\"outlinewidth\": 0, \"ticks\": \"\"}}, \"marker\": {\"colorbar\": {\"outlinewidth\": 0, \"ticks\": \"\"}}, \"type\": \"scatter3d\"}], \"scattercarpet\": [{\"marker\": {\"colorbar\": {\"outlinewidth\": 0, \"ticks\": \"\"}}, \"type\": \"scattercarpet\"}], \"scattergeo\": [{\"marker\": {\"colorbar\": {\"outlinewidth\": 0, \"ticks\": \"\"}}, \"type\": \"scattergeo\"}], \"scattergl\": [{\"marker\": {\"colorbar\": {\"outlinewidth\": 0, \"ticks\": \"\"}}, \"type\": \"scattergl\"}], \"scattermapbox\": [{\"marker\": {\"colorbar\": {\"outlinewidth\": 0, \"ticks\": \"\"}}, \"type\": \"scattermapbox\"}], \"scatterpolar\": [{\"marker\": {\"colorbar\": {\"outlinewidth\": 0, \"ticks\": \"\"}}, \"type\": \"scatterpolar\"}], \"scatterpolargl\": [{\"marker\": {\"colorbar\": {\"outlinewidth\": 0, \"ticks\": \"\"}}, \"type\": \"scatterpolargl\"}], \"scatterternary\": [{\"marker\": {\"colorbar\": {\"outlinewidth\": 0, \"ticks\": \"\"}}, \"type\": \"scatterternary\"}], \"surface\": [{\"colorbar\": {\"outlinewidth\": 0, \"ticks\": \"\"}, \"colorscale\": [[0.0, \"#0d0887\"], [0.1111111111111111, \"#46039f\"], [0.2222222222222222, \"#7201a8\"], [0.3333333333333333, \"#9c179e\"], [0.4444444444444444, \"#bd3786\"], [0.5555555555555556, \"#d8576b\"], [0.6666666666666666, \"#ed7953\"], [0.7777777777777778, \"#fb9f3a\"], [0.8888888888888888, \"#fdca26\"], [1.0, \"#f0f921\"]], \"type\": \"surface\"}], \"table\": [{\"cells\": {\"fill\": {\"color\": \"#EBF0F8\"}, \"line\": {\"color\": \"white\"}}, \"header\": {\"fill\": {\"color\": \"#C8D4E3\"}, \"line\": {\"color\": \"white\"}}, \"type\": \"table\"}]}, \"layout\": {\"annotationdefaults\": {\"arrowcolor\": \"#2a3f5f\", \"arrowhead\": 0, \"arrowwidth\": 1}, \"autotypenumbers\": \"strict\", \"coloraxis\": {\"colorbar\": {\"outlinewidth\": 0, \"ticks\": \"\"}}, \"colorscale\": {\"diverging\": [[0, \"#8e0152\"], [0.1, \"#c51b7d\"], [0.2, \"#de77ae\"], [0.3, \"#f1b6da\"], [0.4, \"#fde0ef\"], [0.5, \"#f7f7f7\"], [0.6, \"#e6f5d0\"], [0.7, \"#b8e186\"], [0.8, \"#7fbc41\"], [0.9, \"#4d9221\"], [1, \"#276419\"]], \"sequential\": [[0.0, \"#0d0887\"], [0.1111111111111111, \"#46039f\"], [0.2222222222222222, \"#7201a8\"], [0.3333333333333333, \"#9c179e\"], [0.4444444444444444, \"#bd3786\"], [0.5555555555555556, \"#d8576b\"], [0.6666666666666666, \"#ed7953\"], [0.7777777777777778, \"#fb9f3a\"], [0.8888888888888888, \"#fdca26\"], [1.0, \"#f0f921\"]], \"sequentialminus\": [[0.0, \"#0d0887\"], [0.1111111111111111, \"#46039f\"], [0.2222222222222222, \"#7201a8\"], [0.3333333333333333, \"#9c179e\"], [0.4444444444444444, \"#bd3786\"], [0.5555555555555556, \"#d8576b\"], [0.6666666666666666, \"#ed7953\"], [0.7777777777777778, \"#fb9f3a\"], [0.8888888888888888, \"#fdca26\"], [1.0, \"#f0f921\"]]}, \"colorway\": [\"#636efa\", \"#EF553B\", \"#00cc96\", \"#ab63fa\", \"#FFA15A\", \"#19d3f3\", \"#FF6692\", \"#B6E880\", \"#FF97FF\", \"#FECB52\"], \"font\": {\"color\": \"#2a3f5f\"}, \"geo\": {\"bgcolor\": \"white\", \"lakecolor\": \"white\", \"landcolor\": \"#E5ECF6\", \"showlakes\": true, \"showland\": true, \"subunitcolor\": \"white\"}, \"hoverlabel\": {\"align\": \"left\"}, \"hovermode\": \"closest\", \"mapbox\": {\"style\": \"light\"}, \"paper_bgcolor\": \"white\", \"plot_bgcolor\": \"#E5ECF6\", \"polar\": {\"angularaxis\": {\"gridcolor\": \"white\", \"linecolor\": \"white\", \"ticks\": \"\"}, \"bgcolor\": \"#E5ECF6\", \"radialaxis\": {\"gridcolor\": \"white\", \"linecolor\": \"white\", \"ticks\": \"\"}}, \"scene\": {\"xaxis\": {\"backgroundcolor\": \"#E5ECF6\", \"gridcolor\": \"white\", \"gridwidth\": 2, \"linecolor\": \"white\", \"showbackground\": true, \"ticks\": \"\", \"zerolinecolor\": \"white\"}, \"yaxis\": {\"backgroundcolor\": \"#E5ECF6\", \"gridcolor\": \"white\", \"gridwidth\": 2, \"linecolor\": \"white\", \"showbackground\": true, \"ticks\": \"\", \"zerolinecolor\": \"white\"}, \"zaxis\": {\"backgroundcolor\": \"#E5ECF6\", \"gridcolor\": \"white\", \"gridwidth\": 2, \"linecolor\": \"white\", \"showbackground\": true, \"ticks\": \"\", \"zerolinecolor\": \"white\"}}, \"shapedefaults\": {\"line\": {\"color\": \"#2a3f5f\"}}, \"ternary\": {\"aaxis\": {\"gridcolor\": \"white\", \"linecolor\": \"white\", \"ticks\": \"\"}, \"baxis\": {\"gridcolor\": \"white\", \"linecolor\": \"white\", \"ticks\": \"\"}, \"bgcolor\": \"#E5ECF6\", \"caxis\": {\"gridcolor\": \"white\", \"linecolor\": \"white\", \"ticks\": \"\"}}, \"title\": {\"x\": 0.05}, \"xaxis\": {\"automargin\": true, \"gridcolor\": \"white\", \"linecolor\": \"white\", \"ticks\": \"\", \"title\": {\"standoff\": 15}, \"zerolinecolor\": \"white\", \"zerolinewidth\": 2}, \"yaxis\": {\"automargin\": true, \"gridcolor\": \"white\", \"linecolor\": \"white\", \"ticks\": \"\", \"title\": {\"standoff\": 15}, \"zerolinecolor\": \"white\", \"zerolinewidth\": 2}}}},                        {\"responsive\": true}                    ).then(function(){\n",
       "                            \n",
       "var gd = document.getElementById('a8478d74-521c-4742-a463-171e46bfe552');\n",
       "var x = new MutationObserver(function (mutations, observer) {{\n",
       "        var display = window.getComputedStyle(gd).display;\n",
       "        if (!display || display === 'none') {{\n",
       "            console.log([gd, 'removed!']);\n",
       "            Plotly.purge(gd);\n",
       "            observer.disconnect();\n",
       "        }}\n",
       "}});\n",
       "\n",
       "// Listen for the removal of the full notebook cells\n",
       "var notebookContainer = gd.closest('#notebook-container');\n",
       "if (notebookContainer) {{\n",
       "    x.observe(notebookContainer, {childList: true});\n",
       "}}\n",
       "\n",
       "// Listen for the clearing of the current output cell\n",
       "var outputEl = gd.closest('.output');\n",
       "if (outputEl) {{\n",
       "    x.observe(outputEl, {childList: true});\n",
       "}}\n",
       "\n",
       "                        })                };                });            </script>        </div>"
      ]
     },
     "metadata": {},
     "output_type": "display_data"
    }
   ],
   "source": [
    "# Set the mapbox access token\n",
    "px.set_mapbox_access_token(map_box_api)\n",
    "\n",
    "\n",
    "# Create a scatter mapbox to analyze neighborhood info\n",
    "map_plot = px.scatter_mapbox(\n",
    "    all_nbhs,\n",
    "    lat=\"Lat\",\n",
    "    lon=\"Lon\",\n",
    "    size=\"Sales Price per SqFt\",\n",
    "    color=\"Neighborhood\",\n",
    "    zoom=4\n",
    ")\n",
    "\n",
    "map_plot.show()"
   ]
  },
  {
   "cell_type": "markdown",
   "metadata": {},
   "source": [
    "- - -"
   ]
  },
  {
   "cell_type": "markdown",
   "metadata": {},
   "source": [
    "## Cost Analysis - Optional Challenge\n",
    "\n",
    "In this section, you will use Plotly express to create visualizations that investors can use to interactively filter and explore various factors related to the house value of the San Francisco's neighborhoods. \n",
    "\n",
    "### Create a DataFrame showing the most expensive neighborhoods in San Francisco by year"
   ]
  },
  {
   "cell_type": "code",
   "execution_count": 299,
   "metadata": {},
   "outputs": [
    {
     "data": {
      "text/html": [
       "<div>\n",
       "<style scoped>\n",
       "    .dataframe tbody tr th:only-of-type {\n",
       "        vertical-align: middle;\n",
       "    }\n",
       "\n",
       "    .dataframe tbody tr th {\n",
       "        vertical-align: top;\n",
       "    }\n",
       "\n",
       "    .dataframe thead th {\n",
       "        text-align: right;\n",
       "    }\n",
       "</style>\n",
       "<table border=\"1\" class=\"dataframe\">\n",
       "  <thead>\n",
       "    <tr style=\"text-align: right;\">\n",
       "      <th></th>\n",
       "      <th>year</th>\n",
       "      <th>neighborhood</th>\n",
       "      <th>sale_price_sqr_foot</th>\n",
       "      <th>gross_rent</th>\n",
       "    </tr>\n",
       "  </thead>\n",
       "  <tbody>\n",
       "    <tr>\n",
       "      <th>0</th>\n",
       "      <td>2015</td>\n",
       "      <td>Union Square District</td>\n",
       "      <td>2258.702832</td>\n",
       "      <td>3739</td>\n",
       "    </tr>\n",
       "    <tr>\n",
       "      <th>1</th>\n",
       "      <td>2016</td>\n",
       "      <td>Presidio Heights</td>\n",
       "      <td>1465.968586</td>\n",
       "      <td>4390</td>\n",
       "    </tr>\n",
       "    <tr>\n",
       "      <th>2</th>\n",
       "      <td>2016</td>\n",
       "      <td>Merced Heights</td>\n",
       "      <td>1416.666667</td>\n",
       "      <td>4390</td>\n",
       "    </tr>\n",
       "    <tr>\n",
       "      <th>3</th>\n",
       "      <td>2013</td>\n",
       "      <td>Union Square District</td>\n",
       "      <td>1290.472107</td>\n",
       "      <td>2971</td>\n",
       "    </tr>\n",
       "    <tr>\n",
       "      <th>4</th>\n",
       "      <td>2014</td>\n",
       "      <td>Miraloma Park</td>\n",
       "      <td>1267.766203</td>\n",
       "      <td>3528</td>\n",
       "    </tr>\n",
       "  </tbody>\n",
       "</table>\n",
       "</div>"
      ],
      "text/plain": [
       "   year           neighborhood  sale_price_sqr_foot  gross_rent\n",
       "0  2015  Union Square District          2258.702832        3739\n",
       "1  2016       Presidio Heights          1465.968586        4390\n",
       "2  2016         Merced Heights          1416.666667        4390\n",
       "3  2013  Union Square District          1290.472107        2971\n",
       "4  2014          Miraloma Park          1267.766203        3528"
      ]
     },
     "execution_count": 299,
     "metadata": {},
     "output_type": "execute_result"
    }
   ],
   "source": [
    "TOP10_NSF.groupby(by=\"neighborhood\").mean()\n",
    "TOP10_NSF.reset_index(inplace =True)\n",
    "TOP10_NSF.head()"
   ]
  },
  {
   "cell_type": "code",
   "execution_count": 300,
   "metadata": {},
   "outputs": [
    {
     "data": {
      "text/html": [
       "<div>\n",
       "<style scoped>\n",
       "    .dataframe tbody tr th:only-of-type {\n",
       "        vertical-align: middle;\n",
       "    }\n",
       "\n",
       "    .dataframe tbody tr th {\n",
       "        vertical-align: top;\n",
       "    }\n",
       "\n",
       "    .dataframe thead th {\n",
       "        text-align: right;\n",
       "    }\n",
       "</style>\n",
       "<table border=\"1\" class=\"dataframe\">\n",
       "  <thead>\n",
       "    <tr style=\"text-align: right;\">\n",
       "      <th></th>\n",
       "      <th>year</th>\n",
       "      <th>neighborhood</th>\n",
       "      <th>sale_price_sqr_foot</th>\n",
       "      <th>gross_rent</th>\n",
       "    </tr>\n",
       "  </thead>\n",
       "  <tbody>\n",
       "    <tr>\n",
       "      <th>0</th>\n",
       "      <td>2015</td>\n",
       "      <td>Union Square District</td>\n",
       "      <td>2258.702832</td>\n",
       "      <td>3739</td>\n",
       "    </tr>\n",
       "    <tr>\n",
       "      <th>1</th>\n",
       "      <td>2016</td>\n",
       "      <td>Presidio Heights</td>\n",
       "      <td>1465.968586</td>\n",
       "      <td>4390</td>\n",
       "    </tr>\n",
       "    <tr>\n",
       "      <th>2</th>\n",
       "      <td>2016</td>\n",
       "      <td>Merced Heights</td>\n",
       "      <td>1416.666667</td>\n",
       "      <td>4390</td>\n",
       "    </tr>\n",
       "    <tr>\n",
       "      <th>3</th>\n",
       "      <td>2013</td>\n",
       "      <td>Union Square District</td>\n",
       "      <td>1290.472107</td>\n",
       "      <td>2971</td>\n",
       "    </tr>\n",
       "    <tr>\n",
       "      <th>4</th>\n",
       "      <td>2014</td>\n",
       "      <td>Miraloma Park</td>\n",
       "      <td>1267.766203</td>\n",
       "      <td>3528</td>\n",
       "    </tr>\n",
       "  </tbody>\n",
       "</table>\n",
       "</div>"
      ],
      "text/plain": [
       "   year           neighborhood  sale_price_sqr_foot  gross_rent\n",
       "0  2015  Union Square District          2258.702832        3739\n",
       "1  2016       Presidio Heights          1465.968586        4390\n",
       "2  2016         Merced Heights          1416.666667        4390\n",
       "3  2013  Union Square District          1290.472107        2971\n",
       "4  2014          Miraloma Park          1267.766203        3528"
      ]
     },
     "execution_count": 300,
     "metadata": {},
     "output_type": "execute_result"
    }
   ],
   "source": [
    "# Fetch the data from all expensive neighborhoods per year.\n",
    "df_expensive_neighborhoods_per_year = TOP10_NSF[TOP10_NSF[\"neighborhood\"].isin(TOP10_NSF[\"neighborhood\"])]\n",
    "df_expensive_neighborhoods_per_year.head()"
   ]
  },
  {
   "cell_type": "markdown",
   "metadata": {},
   "source": [
    "### Create a parallel coordinates plot and parallel categories plot of most expensive neighborhoods in San Francisco per year\n"
   ]
  },
  {
   "cell_type": "code",
   "execution_count": 302,
   "metadata": {},
   "outputs": [
    {
     "data": {
      "application/vnd.plotly.v1+json": {
       "config": {
        "plotlyServerURL": "https://plot.ly"
       },
       "data": [
        {
         "dimensions": [
          {
           "label": "neighborhood",
           "values": [
            "Union Square District",
            "Presidio Heights",
            "Merced Heights",
            "Union Square District",
            "Miraloma Park",
            "Parnassus/Ashbury Heights",
            "Outer Richmond ",
            "Marina",
            "South of Market",
            "Corona Heights"
           ]
          },
          {
           "label": "sale_price_sqr_foot",
           "values": [
            2258.702831998355,
            1465.9685863874345,
            1416.666666666667,
            1290.472106646641,
            1267.7662026328826,
            1207.997484708169,
            1196.645436923929,
            1132.8373605554546,
            1119.8388773148026,
            1100.7911936704506
           ]
          },
          {
           "label": "gross_rent",
           "values": [
            3739,
            4390,
            4390,
            2971,
            3528,
            4390,
            4390,
            3739,
            3528,
            3739
           ]
          }
         ],
         "domain": {
          "x": [
           0,
           1
          ],
          "y": [
           0,
           1
          ]
         },
         "line": {
          "color": [
           2258.702831998355,
           1465.9685863874345,
           1416.666666666667,
           1290.472106646641,
           1267.7662026328826,
           1207.997484708169,
           1196.645436923929,
           1132.8373605554546,
           1119.8388773148026,
           1100.7911936704506
          ],
          "coloraxis": "coloraxis"
         },
         "name": "",
         "type": "parcats"
        }
       ],
       "layout": {
        "autosize": true,
        "coloraxis": {
         "colorbar": {
          "title": {
           "text": "sale_price_sqr_foot"
          }
         },
         "colorscale": [
          [
           0,
           "#000004"
          ],
          [
           0.1111111111111111,
           "#1b0c41"
          ],
          [
           0.2222222222222222,
           "#4a0c6b"
          ],
          [
           0.3333333333333333,
           "#781c6d"
          ],
          [
           0.4444444444444444,
           "#a52c60"
          ],
          [
           0.5555555555555556,
           "#cf4446"
          ],
          [
           0.6666666666666666,
           "#ed6925"
          ],
          [
           0.7777777777777778,
           "#fb9b06"
          ],
          [
           0.8888888888888888,
           "#f7d13d"
          ],
          [
           1,
           "#fcffa4"
          ]
         ]
        },
        "legend": {
         "tracegroupgap": 0
        },
        "margin": {
         "t": 60
        },
        "template": {
         "data": {
          "bar": [
           {
            "error_x": {
             "color": "#2a3f5f"
            },
            "error_y": {
             "color": "#2a3f5f"
            },
            "marker": {
             "line": {
              "color": "#E5ECF6",
              "width": 0.5
             }
            },
            "type": "bar"
           }
          ],
          "barpolar": [
           {
            "marker": {
             "line": {
              "color": "#E5ECF6",
              "width": 0.5
             }
            },
            "type": "barpolar"
           }
          ],
          "carpet": [
           {
            "aaxis": {
             "endlinecolor": "#2a3f5f",
             "gridcolor": "white",
             "linecolor": "white",
             "minorgridcolor": "white",
             "startlinecolor": "#2a3f5f"
            },
            "baxis": {
             "endlinecolor": "#2a3f5f",
             "gridcolor": "white",
             "linecolor": "white",
             "minorgridcolor": "white",
             "startlinecolor": "#2a3f5f"
            },
            "type": "carpet"
           }
          ],
          "choropleth": [
           {
            "colorbar": {
             "outlinewidth": 0,
             "ticks": ""
            },
            "type": "choropleth"
           }
          ],
          "contour": [
           {
            "colorbar": {
             "outlinewidth": 0,
             "ticks": ""
            },
            "colorscale": [
             [
              0,
              "#0d0887"
             ],
             [
              0.1111111111111111,
              "#46039f"
             ],
             [
              0.2222222222222222,
              "#7201a8"
             ],
             [
              0.3333333333333333,
              "#9c179e"
             ],
             [
              0.4444444444444444,
              "#bd3786"
             ],
             [
              0.5555555555555556,
              "#d8576b"
             ],
             [
              0.6666666666666666,
              "#ed7953"
             ],
             [
              0.7777777777777778,
              "#fb9f3a"
             ],
             [
              0.8888888888888888,
              "#fdca26"
             ],
             [
              1,
              "#f0f921"
             ]
            ],
            "type": "contour"
           }
          ],
          "contourcarpet": [
           {
            "colorbar": {
             "outlinewidth": 0,
             "ticks": ""
            },
            "type": "contourcarpet"
           }
          ],
          "heatmap": [
           {
            "colorbar": {
             "outlinewidth": 0,
             "ticks": ""
            },
            "colorscale": [
             [
              0,
              "#0d0887"
             ],
             [
              0.1111111111111111,
              "#46039f"
             ],
             [
              0.2222222222222222,
              "#7201a8"
             ],
             [
              0.3333333333333333,
              "#9c179e"
             ],
             [
              0.4444444444444444,
              "#bd3786"
             ],
             [
              0.5555555555555556,
              "#d8576b"
             ],
             [
              0.6666666666666666,
              "#ed7953"
             ],
             [
              0.7777777777777778,
              "#fb9f3a"
             ],
             [
              0.8888888888888888,
              "#fdca26"
             ],
             [
              1,
              "#f0f921"
             ]
            ],
            "type": "heatmap"
           }
          ],
          "heatmapgl": [
           {
            "colorbar": {
             "outlinewidth": 0,
             "ticks": ""
            },
            "colorscale": [
             [
              0,
              "#0d0887"
             ],
             [
              0.1111111111111111,
              "#46039f"
             ],
             [
              0.2222222222222222,
              "#7201a8"
             ],
             [
              0.3333333333333333,
              "#9c179e"
             ],
             [
              0.4444444444444444,
              "#bd3786"
             ],
             [
              0.5555555555555556,
              "#d8576b"
             ],
             [
              0.6666666666666666,
              "#ed7953"
             ],
             [
              0.7777777777777778,
              "#fb9f3a"
             ],
             [
              0.8888888888888888,
              "#fdca26"
             ],
             [
              1,
              "#f0f921"
             ]
            ],
            "type": "heatmapgl"
           }
          ],
          "histogram": [
           {
            "marker": {
             "colorbar": {
              "outlinewidth": 0,
              "ticks": ""
             }
            },
            "type": "histogram"
           }
          ],
          "histogram2d": [
           {
            "colorbar": {
             "outlinewidth": 0,
             "ticks": ""
            },
            "colorscale": [
             [
              0,
              "#0d0887"
             ],
             [
              0.1111111111111111,
              "#46039f"
             ],
             [
              0.2222222222222222,
              "#7201a8"
             ],
             [
              0.3333333333333333,
              "#9c179e"
             ],
             [
              0.4444444444444444,
              "#bd3786"
             ],
             [
              0.5555555555555556,
              "#d8576b"
             ],
             [
              0.6666666666666666,
              "#ed7953"
             ],
             [
              0.7777777777777778,
              "#fb9f3a"
             ],
             [
              0.8888888888888888,
              "#fdca26"
             ],
             [
              1,
              "#f0f921"
             ]
            ],
            "type": "histogram2d"
           }
          ],
          "histogram2dcontour": [
           {
            "colorbar": {
             "outlinewidth": 0,
             "ticks": ""
            },
            "colorscale": [
             [
              0,
              "#0d0887"
             ],
             [
              0.1111111111111111,
              "#46039f"
             ],
             [
              0.2222222222222222,
              "#7201a8"
             ],
             [
              0.3333333333333333,
              "#9c179e"
             ],
             [
              0.4444444444444444,
              "#bd3786"
             ],
             [
              0.5555555555555556,
              "#d8576b"
             ],
             [
              0.6666666666666666,
              "#ed7953"
             ],
             [
              0.7777777777777778,
              "#fb9f3a"
             ],
             [
              0.8888888888888888,
              "#fdca26"
             ],
             [
              1,
              "#f0f921"
             ]
            ],
            "type": "histogram2dcontour"
           }
          ],
          "mesh3d": [
           {
            "colorbar": {
             "outlinewidth": 0,
             "ticks": ""
            },
            "type": "mesh3d"
           }
          ],
          "parcoords": [
           {
            "line": {
             "colorbar": {
              "outlinewidth": 0,
              "ticks": ""
             }
            },
            "type": "parcoords"
           }
          ],
          "pie": [
           {
            "automargin": true,
            "type": "pie"
           }
          ],
          "scatter": [
           {
            "marker": {
             "colorbar": {
              "outlinewidth": 0,
              "ticks": ""
             }
            },
            "type": "scatter"
           }
          ],
          "scatter3d": [
           {
            "line": {
             "colorbar": {
              "outlinewidth": 0,
              "ticks": ""
             }
            },
            "marker": {
             "colorbar": {
              "outlinewidth": 0,
              "ticks": ""
             }
            },
            "type": "scatter3d"
           }
          ],
          "scattercarpet": [
           {
            "marker": {
             "colorbar": {
              "outlinewidth": 0,
              "ticks": ""
             }
            },
            "type": "scattercarpet"
           }
          ],
          "scattergeo": [
           {
            "marker": {
             "colorbar": {
              "outlinewidth": 0,
              "ticks": ""
             }
            },
            "type": "scattergeo"
           }
          ],
          "scattergl": [
           {
            "marker": {
             "colorbar": {
              "outlinewidth": 0,
              "ticks": ""
             }
            },
            "type": "scattergl"
           }
          ],
          "scattermapbox": [
           {
            "marker": {
             "colorbar": {
              "outlinewidth": 0,
              "ticks": ""
             }
            },
            "type": "scattermapbox"
           }
          ],
          "scatterpolar": [
           {
            "marker": {
             "colorbar": {
              "outlinewidth": 0,
              "ticks": ""
             }
            },
            "type": "scatterpolar"
           }
          ],
          "scatterpolargl": [
           {
            "marker": {
             "colorbar": {
              "outlinewidth": 0,
              "ticks": ""
             }
            },
            "type": "scatterpolargl"
           }
          ],
          "scatterternary": [
           {
            "marker": {
             "colorbar": {
              "outlinewidth": 0,
              "ticks": ""
             }
            },
            "type": "scatterternary"
           }
          ],
          "surface": [
           {
            "colorbar": {
             "outlinewidth": 0,
             "ticks": ""
            },
            "colorscale": [
             [
              0,
              "#0d0887"
             ],
             [
              0.1111111111111111,
              "#46039f"
             ],
             [
              0.2222222222222222,
              "#7201a8"
             ],
             [
              0.3333333333333333,
              "#9c179e"
             ],
             [
              0.4444444444444444,
              "#bd3786"
             ],
             [
              0.5555555555555556,
              "#d8576b"
             ],
             [
              0.6666666666666666,
              "#ed7953"
             ],
             [
              0.7777777777777778,
              "#fb9f3a"
             ],
             [
              0.8888888888888888,
              "#fdca26"
             ],
             [
              1,
              "#f0f921"
             ]
            ],
            "type": "surface"
           }
          ],
          "table": [
           {
            "cells": {
             "fill": {
              "color": "#EBF0F8"
             },
             "line": {
              "color": "white"
             }
            },
            "header": {
             "fill": {
              "color": "#C8D4E3"
             },
             "line": {
              "color": "white"
             }
            },
            "type": "table"
           }
          ]
         },
         "layout": {
          "annotationdefaults": {
           "arrowcolor": "#2a3f5f",
           "arrowhead": 0,
           "arrowwidth": 1
          },
          "autotypenumbers": "strict",
          "coloraxis": {
           "colorbar": {
            "outlinewidth": 0,
            "ticks": ""
           }
          },
          "colorscale": {
           "diverging": [
            [
             0,
             "#8e0152"
            ],
            [
             0.1,
             "#c51b7d"
            ],
            [
             0.2,
             "#de77ae"
            ],
            [
             0.3,
             "#f1b6da"
            ],
            [
             0.4,
             "#fde0ef"
            ],
            [
             0.5,
             "#f7f7f7"
            ],
            [
             0.6,
             "#e6f5d0"
            ],
            [
             0.7,
             "#b8e186"
            ],
            [
             0.8,
             "#7fbc41"
            ],
            [
             0.9,
             "#4d9221"
            ],
            [
             1,
             "#276419"
            ]
           ],
           "sequential": [
            [
             0,
             "#0d0887"
            ],
            [
             0.1111111111111111,
             "#46039f"
            ],
            [
             0.2222222222222222,
             "#7201a8"
            ],
            [
             0.3333333333333333,
             "#9c179e"
            ],
            [
             0.4444444444444444,
             "#bd3786"
            ],
            [
             0.5555555555555556,
             "#d8576b"
            ],
            [
             0.6666666666666666,
             "#ed7953"
            ],
            [
             0.7777777777777778,
             "#fb9f3a"
            ],
            [
             0.8888888888888888,
             "#fdca26"
            ],
            [
             1,
             "#f0f921"
            ]
           ],
           "sequentialminus": [
            [
             0,
             "#0d0887"
            ],
            [
             0.1111111111111111,
             "#46039f"
            ],
            [
             0.2222222222222222,
             "#7201a8"
            ],
            [
             0.3333333333333333,
             "#9c179e"
            ],
            [
             0.4444444444444444,
             "#bd3786"
            ],
            [
             0.5555555555555556,
             "#d8576b"
            ],
            [
             0.6666666666666666,
             "#ed7953"
            ],
            [
             0.7777777777777778,
             "#fb9f3a"
            ],
            [
             0.8888888888888888,
             "#fdca26"
            ],
            [
             1,
             "#f0f921"
            ]
           ]
          },
          "colorway": [
           "#636efa",
           "#EF553B",
           "#00cc96",
           "#ab63fa",
           "#FFA15A",
           "#19d3f3",
           "#FF6692",
           "#B6E880",
           "#FF97FF",
           "#FECB52"
          ],
          "font": {
           "color": "#2a3f5f"
          },
          "geo": {
           "bgcolor": "white",
           "lakecolor": "white",
           "landcolor": "#E5ECF6",
           "showlakes": true,
           "showland": true,
           "subunitcolor": "white"
          },
          "hoverlabel": {
           "align": "left"
          },
          "hovermode": "closest",
          "mapbox": {
           "style": "light"
          },
          "paper_bgcolor": "white",
          "plot_bgcolor": "#E5ECF6",
          "polar": {
           "angularaxis": {
            "gridcolor": "white",
            "linecolor": "white",
            "ticks": ""
           },
           "bgcolor": "#E5ECF6",
           "radialaxis": {
            "gridcolor": "white",
            "linecolor": "white",
            "ticks": ""
           }
          },
          "scene": {
           "xaxis": {
            "backgroundcolor": "#E5ECF6",
            "gridcolor": "white",
            "gridwidth": 2,
            "linecolor": "white",
            "showbackground": true,
            "ticks": "",
            "zerolinecolor": "white"
           },
           "yaxis": {
            "backgroundcolor": "#E5ECF6",
            "gridcolor": "white",
            "gridwidth": 2,
            "linecolor": "white",
            "showbackground": true,
            "ticks": "",
            "zerolinecolor": "white"
           },
           "zaxis": {
            "backgroundcolor": "#E5ECF6",
            "gridcolor": "white",
            "gridwidth": 2,
            "linecolor": "white",
            "showbackground": true,
            "ticks": "",
            "zerolinecolor": "white"
           }
          },
          "shapedefaults": {
           "line": {
            "color": "#2a3f5f"
           }
          },
          "ternary": {
           "aaxis": {
            "gridcolor": "white",
            "linecolor": "white",
            "ticks": ""
           },
           "baxis": {
            "gridcolor": "white",
            "linecolor": "white",
            "ticks": ""
           },
           "bgcolor": "#E5ECF6",
           "caxis": {
            "gridcolor": "white",
            "linecolor": "white",
            "ticks": ""
           }
          },
          "title": {
           "x": 0.05
          },
          "xaxis": {
           "automargin": true,
           "gridcolor": "white",
           "linecolor": "white",
           "ticks": "",
           "title": {
            "standoff": 15
           },
           "zerolinecolor": "white",
           "zerolinewidth": 2
          },
          "yaxis": {
           "automargin": true,
           "gridcolor": "white",
           "linecolor": "white",
           "ticks": "",
           "title": {
            "standoff": 15
           },
           "zerolinecolor": "white",
           "zerolinewidth": 2
          }
         }
        }
       }
      },
      "image/png": "[encoded data removed]",
      "text/html": [
       "<div>                            <div id=\"e2ae8b5b-dc1f-46b9-96ac-4be1d11332dd\" class=\"plotly-graph-div\" style=\"height:525px; width:100%;\"></div>            <script type=\"text/javascript\">                require([\"plotly\"], function(Plotly) {                    window.PLOTLYENV=window.PLOTLYENV || {};                                    if (document.getElementById(\"e2ae8b5b-dc1f-46b9-96ac-4be1d11332dd\")) {                    Plotly.newPlot(                        \"e2ae8b5b-dc1f-46b9-96ac-4be1d11332dd\",                        [{\"dimensions\": [{\"label\": \"neighborhood\", \"values\": [\"Union Square District\", \"Presidio Heights\", \"Merced Heights\", \"Union Square District\", \"Miraloma Park\", \"Parnassus/Ashbury Heights\", \"Outer Richmond \", \"Marina\", \"South of Market\", \"Corona Heights\"]}, {\"label\": \"sale_price_sqr_foot\", \"values\": [2258.702831998355, 1465.9685863874345, 1416.666666666667, 1290.472106646641, 1267.7662026328826, 1207.997484708169, 1196.645436923929, 1132.8373605554546, 1119.8388773148026, 1100.7911936704506]}, {\"label\": \"gross_rent\", \"values\": [3739, 4390, 4390, 2971, 3528, 4390, 4390, 3739, 3528, 3739]}], \"domain\": {\"x\": [0.0, 1.0], \"y\": [0.0, 1.0]}, \"line\": {\"color\": [2258.702831998355, 1465.9685863874345, 1416.666666666667, 1290.472106646641, 1267.7662026328826, 1207.997484708169, 1196.645436923929, 1132.8373605554546, 1119.8388773148026, 1100.7911936704506], \"coloraxis\": \"coloraxis\"}, \"name\": \"\", \"type\": \"parcats\"}],                        {\"coloraxis\": {\"colorbar\": {\"title\": {\"text\": \"sale_price_sqr_foot\"}}, \"colorscale\": [[0.0, \"#000004\"], [0.1111111111111111, \"#1b0c41\"], [0.2222222222222222, \"#4a0c6b\"], [0.3333333333333333, \"#781c6d\"], [0.4444444444444444, \"#a52c60\"], [0.5555555555555556, \"#cf4446\"], [0.6666666666666666, \"#ed6925\"], [0.7777777777777778, \"#fb9b06\"], [0.8888888888888888, \"#f7d13d\"], [1.0, \"#fcffa4\"]]}, \"legend\": {\"tracegroupgap\": 0}, \"margin\": {\"t\": 60}, \"template\": {\"data\": {\"bar\": [{\"error_x\": {\"color\": \"#2a3f5f\"}, \"error_y\": {\"color\": \"#2a3f5f\"}, \"marker\": {\"line\": {\"color\": \"#E5ECF6\", \"width\": 0.5}}, \"type\": \"bar\"}], \"barpolar\": [{\"marker\": {\"line\": {\"color\": \"#E5ECF6\", \"width\": 0.5}}, \"type\": \"barpolar\"}], \"carpet\": [{\"aaxis\": {\"endlinecolor\": \"#2a3f5f\", \"gridcolor\": \"white\", \"linecolor\": \"white\", \"minorgridcolor\": \"white\", \"startlinecolor\": \"#2a3f5f\"}, \"baxis\": {\"endlinecolor\": \"#2a3f5f\", \"gridcolor\": \"white\", \"linecolor\": \"white\", \"minorgridcolor\": \"white\", \"startlinecolor\": \"#2a3f5f\"}, \"type\": \"carpet\"}], \"choropleth\": [{\"colorbar\": {\"outlinewidth\": 0, \"ticks\": \"\"}, \"type\": \"choropleth\"}], \"contour\": [{\"colorbar\": {\"outlinewidth\": 0, \"ticks\": \"\"}, \"colorscale\": [[0.0, \"#0d0887\"], [0.1111111111111111, \"#46039f\"], [0.2222222222222222, \"#7201a8\"], [0.3333333333333333, \"#9c179e\"], [0.4444444444444444, \"#bd3786\"], [0.5555555555555556, \"#d8576b\"], [0.6666666666666666, \"#ed7953\"], [0.7777777777777778, \"#fb9f3a\"], [0.8888888888888888, \"#fdca26\"], [1.0, \"#f0f921\"]], \"type\": \"contour\"}], \"contourcarpet\": [{\"colorbar\": {\"outlinewidth\": 0, \"ticks\": \"\"}, \"type\": \"contourcarpet\"}], \"heatmap\": [{\"colorbar\": {\"outlinewidth\": 0, \"ticks\": \"\"}, \"colorscale\": [[0.0, \"#0d0887\"], [0.1111111111111111, \"#46039f\"], [0.2222222222222222, \"#7201a8\"], [0.3333333333333333, \"#9c179e\"], [0.4444444444444444, \"#bd3786\"], [0.5555555555555556, \"#d8576b\"], [0.6666666666666666, \"#ed7953\"], [0.7777777777777778, \"#fb9f3a\"], [0.8888888888888888, \"#fdca26\"], [1.0, \"#f0f921\"]], \"type\": \"heatmap\"}], \"heatmapgl\": [{\"colorbar\": {\"outlinewidth\": 0, \"ticks\": \"\"}, \"colorscale\": [[0.0, \"#0d0887\"], [0.1111111111111111, \"#46039f\"], [0.2222222222222222, \"#7201a8\"], [0.3333333333333333, \"#9c179e\"], [0.4444444444444444, \"#bd3786\"], [0.5555555555555556, \"#d8576b\"], [0.6666666666666666, \"#ed7953\"], [0.7777777777777778, \"#fb9f3a\"], [0.8888888888888888, \"#fdca26\"], [1.0, \"#f0f921\"]], \"type\": \"heatmapgl\"}], \"histogram\": [{\"marker\": {\"colorbar\": {\"outlinewidth\": 0, \"ticks\": \"\"}}, \"type\": \"histogram\"}], \"histogram2d\": [{\"colorbar\": {\"outlinewidth\": 0, \"ticks\": \"\"}, \"colorscale\": [[0.0, \"#0d0887\"], [0.1111111111111111, \"#46039f\"], [0.2222222222222222, \"#7201a8\"], [0.3333333333333333, \"#9c179e\"], [0.4444444444444444, \"#bd3786\"], [0.5555555555555556, \"#d8576b\"], [0.6666666666666666, \"#ed7953\"], [0.7777777777777778, \"#fb9f3a\"], [0.8888888888888888, \"#fdca26\"], [1.0, \"#f0f921\"]], \"type\": \"histogram2d\"}], \"histogram2dcontour\": [{\"colorbar\": {\"outlinewidth\": 0, \"ticks\": \"\"}, \"colorscale\": [[0.0, \"#0d0887\"], [0.1111111111111111, \"#46039f\"], [0.2222222222222222, \"#7201a8\"], [0.3333333333333333, \"#9c179e\"], [0.4444444444444444, \"#bd3786\"], [0.5555555555555556, \"#d8576b\"], [0.6666666666666666, \"#ed7953\"], [0.7777777777777778, \"#fb9f3a\"], [0.8888888888888888, \"#fdca26\"], [1.0, \"#f0f921\"]], \"type\": \"histogram2dcontour\"}], \"mesh3d\": [{\"colorbar\": {\"outlinewidth\": 0, \"ticks\": \"\"}, \"type\": \"mesh3d\"}], \"parcoords\": [{\"line\": {\"colorbar\": {\"outlinewidth\": 0, \"ticks\": \"\"}}, \"type\": \"parcoords\"}], \"pie\": [{\"automargin\": true, \"type\": \"pie\"}], \"scatter\": [{\"marker\": {\"colorbar\": {\"outlinewidth\": 0, \"ticks\": \"\"}}, \"type\": \"scatter\"}], \"scatter3d\": [{\"line\": {\"colorbar\": {\"outlinewidth\": 0, \"ticks\": \"\"}}, \"marker\": {\"colorbar\": {\"outlinewidth\": 0, \"ticks\": \"\"}}, \"type\": \"scatter3d\"}], \"scattercarpet\": [{\"marker\": {\"colorbar\": {\"outlinewidth\": 0, \"ticks\": \"\"}}, \"type\": \"scattercarpet\"}], \"scattergeo\": [{\"marker\": {\"colorbar\": {\"outlinewidth\": 0, \"ticks\": \"\"}}, \"type\": \"scattergeo\"}], \"scattergl\": [{\"marker\": {\"colorbar\": {\"outlinewidth\": 0, \"ticks\": \"\"}}, \"type\": \"scattergl\"}], \"scattermapbox\": [{\"marker\": {\"colorbar\": {\"outlinewidth\": 0, \"ticks\": \"\"}}, \"type\": \"scattermapbox\"}], \"scatterpolar\": [{\"marker\": {\"colorbar\": {\"outlinewidth\": 0, \"ticks\": \"\"}}, \"type\": \"scatterpolar\"}], \"scatterpolargl\": [{\"marker\": {\"colorbar\": {\"outlinewidth\": 0, \"ticks\": \"\"}}, \"type\": \"scatterpolargl\"}], \"scatterternary\": [{\"marker\": {\"colorbar\": {\"outlinewidth\": 0, \"ticks\": \"\"}}, \"type\": \"scatterternary\"}], \"surface\": [{\"colorbar\": {\"outlinewidth\": 0, \"ticks\": \"\"}, \"colorscale\": [[0.0, \"#0d0887\"], [0.1111111111111111, \"#46039f\"], [0.2222222222222222, \"#7201a8\"], [0.3333333333333333, \"#9c179e\"], [0.4444444444444444, \"#bd3786\"], [0.5555555555555556, \"#d8576b\"], [0.6666666666666666, \"#ed7953\"], [0.7777777777777778, \"#fb9f3a\"], [0.8888888888888888, \"#fdca26\"], [1.0, \"#f0f921\"]], \"type\": \"surface\"}], \"table\": [{\"cells\": {\"fill\": {\"color\": \"#EBF0F8\"}, \"line\": {\"color\": \"white\"}}, \"header\": {\"fill\": {\"color\": \"#C8D4E3\"}, \"line\": {\"color\": \"white\"}}, \"type\": \"table\"}]}, \"layout\": {\"annotationdefaults\": {\"arrowcolor\": \"#2a3f5f\", \"arrowhead\": 0, \"arrowwidth\": 1}, \"autotypenumbers\": \"strict\", \"coloraxis\": {\"colorbar\": {\"outlinewidth\": 0, \"ticks\": \"\"}}, \"colorscale\": {\"diverging\": [[0, \"#8e0152\"], [0.1, \"#c51b7d\"], [0.2, \"#de77ae\"], [0.3, \"#f1b6da\"], [0.4, \"#fde0ef\"], [0.5, \"#f7f7f7\"], [0.6, \"#e6f5d0\"], [0.7, \"#b8e186\"], [0.8, \"#7fbc41\"], [0.9, \"#4d9221\"], [1, \"#276419\"]], \"sequential\": [[0.0, \"#0d0887\"], [0.1111111111111111, \"#46039f\"], [0.2222222222222222, \"#7201a8\"], [0.3333333333333333, \"#9c179e\"], [0.4444444444444444, \"#bd3786\"], [0.5555555555555556, \"#d8576b\"], [0.6666666666666666, \"#ed7953\"], [0.7777777777777778, \"#fb9f3a\"], [0.8888888888888888, \"#fdca26\"], [1.0, \"#f0f921\"]], \"sequentialminus\": [[0.0, \"#0d0887\"], [0.1111111111111111, \"#46039f\"], [0.2222222222222222, \"#7201a8\"], [0.3333333333333333, \"#9c179e\"], [0.4444444444444444, \"#bd3786\"], [0.5555555555555556, \"#d8576b\"], [0.6666666666666666, \"#ed7953\"], [0.7777777777777778, \"#fb9f3a\"], [0.8888888888888888, \"#fdca26\"], [1.0, \"#f0f921\"]]}, \"colorway\": [\"#636efa\", \"#EF553B\", \"#00cc96\", \"#ab63fa\", \"#FFA15A\", \"#19d3f3\", \"#FF6692\", \"#B6E880\", \"#FF97FF\", \"#FECB52\"], \"font\": {\"color\": \"#2a3f5f\"}, \"geo\": {\"bgcolor\": \"white\", \"lakecolor\": \"white\", \"landcolor\": \"#E5ECF6\", \"showlakes\": true, \"showland\": true, \"subunitcolor\": \"white\"}, \"hoverlabel\": {\"align\": \"left\"}, \"hovermode\": \"closest\", \"mapbox\": {\"style\": \"light\"}, \"paper_bgcolor\": \"white\", \"plot_bgcolor\": \"#E5ECF6\", \"polar\": {\"angularaxis\": {\"gridcolor\": \"white\", \"linecolor\": \"white\", \"ticks\": \"\"}, \"bgcolor\": \"#E5ECF6\", \"radialaxis\": {\"gridcolor\": \"white\", \"linecolor\": \"white\", \"ticks\": \"\"}}, \"scene\": {\"xaxis\": {\"backgroundcolor\": \"#E5ECF6\", \"gridcolor\": \"white\", \"gridwidth\": 2, \"linecolor\": \"white\", \"showbackground\": true, \"ticks\": \"\", \"zerolinecolor\": \"white\"}, \"yaxis\": {\"backgroundcolor\": \"#E5ECF6\", \"gridcolor\": \"white\", \"gridwidth\": 2, \"linecolor\": \"white\", \"showbackground\": true, \"ticks\": \"\", \"zerolinecolor\": \"white\"}, \"zaxis\": {\"backgroundcolor\": \"#E5ECF6\", \"gridcolor\": \"white\", \"gridwidth\": 2, \"linecolor\": \"white\", \"showbackground\": true, \"ticks\": \"\", \"zerolinecolor\": \"white\"}}, \"shapedefaults\": {\"line\": {\"color\": \"#2a3f5f\"}}, \"ternary\": {\"aaxis\": {\"gridcolor\": \"white\", \"linecolor\": \"white\", \"ticks\": \"\"}, \"baxis\": {\"gridcolor\": \"white\", \"linecolor\": \"white\", \"ticks\": \"\"}, \"bgcolor\": \"#E5ECF6\", \"caxis\": {\"gridcolor\": \"white\", \"linecolor\": \"white\", \"ticks\": \"\"}}, \"title\": {\"x\": 0.05}, \"xaxis\": {\"automargin\": true, \"gridcolor\": \"white\", \"linecolor\": \"white\", \"ticks\": \"\", \"title\": {\"standoff\": 15}, \"zerolinecolor\": \"white\", \"zerolinewidth\": 2}, \"yaxis\": {\"automargin\": true, \"gridcolor\": \"white\", \"linecolor\": \"white\", \"ticks\": \"\", \"title\": {\"standoff\": 15}, \"zerolinecolor\": \"white\", \"zerolinewidth\": 2}}}},                        {\"responsive\": true}                    ).then(function(){\n",
       "                            \n",
       "var gd = document.getElementById('e2ae8b5b-dc1f-46b9-96ac-4be1d11332dd');\n",
       "var x = new MutationObserver(function (mutations, observer) {{\n",
       "        var display = window.getComputedStyle(gd).display;\n",
       "        if (!display || display === 'none') {{\n",
       "            console.log([gd, 'removed!']);\n",
       "            Plotly.purge(gd);\n",
       "            observer.disconnect();\n",
       "        }}\n",
       "}});\n",
       "\n",
       "// Listen for the removal of the full notebook cells\n",
       "var notebookContainer = gd.closest('#notebook-container');\n",
       "if (notebookContainer) {{\n",
       "    x.observe(notebookContainer, {childList: true});\n",
       "}}\n",
       "\n",
       "// Listen for the clearing of the current output cell\n",
       "var outputEl = gd.closest('.output');\n",
       "if (outputEl) {{\n",
       "    x.observe(outputEl, {childList: true});\n",
       "}}\n",
       "\n",
       "                        })                };                });            </script>        </div>"
      ]
     },
     "metadata": {},
     "output_type": "display_data"
    }
   ],
   "source": [
    "# Parallel Categories Plot\n",
    "px.parallel_categories(\n",
    "    TOP10_NSF,\n",
    "    dimensions=[\"neighborhood\", \"sale_price_sqr_foot\", \"gross_rent\"],\n",
    "    color=\"sale_price_sqr_foot\",\n",
    "    color_continuous_scale=px.colors.sequential.Inferno,\n",
    "    labels={\n",
    "        \"type\": \"Neighborhood\",\n",
    "        \"region\": \"Sales Price pSqFt\",\n",
    "        \"prop_size\": \"Gross Rent\",\n",
    "    },\n",
    ")"
   ]
  },
  {
   "cell_type": "code",
   "execution_count": 301,
   "metadata": {},
   "outputs": [
    {
     "data": {
      "application/vnd.plotly.v1+json": {
       "config": {
        "plotlyServerURL": "https://plot.ly"
       },
       "data": [
        {
         "dimensions": [
          {
           "label": "year",
           "values": [
            2015,
            2016,
            2016,
            2013,
            2014,
            2016,
            2016,
            2015,
            2014,
            2015
           ]
          },
          {
           "label": "sale_price_sqr_foot",
           "values": [
            2258.702831998355,
            1465.9685863874345,
            1416.666666666667,
            1290.472106646641,
            1267.7662026328826,
            1207.997484708169,
            1196.645436923929,
            1132.8373605554546,
            1119.8388773148026,
            1100.7911936704506
           ]
          },
          {
           "label": "gross_rent",
           "values": [
            3739,
            4390,
            4390,
            2971,
            3528,
            4390,
            4390,
            3739,
            3528,
            3739
           ]
          }
         ],
         "domain": {
          "x": [
           0,
           1
          ],
          "y": [
           0,
           1
          ]
         },
         "line": {
          "color": [
           2258.702831998355,
           1465.9685863874345,
           1416.666666666667,
           1290.472106646641,
           1267.7662026328826,
           1207.997484708169,
           1196.645436923929,
           1132.8373605554546,
           1119.8388773148026,
           1100.7911936704506
          ],
          "coloraxis": "coloraxis"
         },
         "name": "",
         "type": "parcoords"
        }
       ],
       "layout": {
        "autosize": true,
        "coloraxis": {
         "colorbar": {
          "title": {
           "text": "sale_price_sqr_foot"
          }
         },
         "colorscale": [
          [
           0,
           "#0d0887"
          ],
          [
           0.1111111111111111,
           "#46039f"
          ],
          [
           0.2222222222222222,
           "#7201a8"
          ],
          [
           0.3333333333333333,
           "#9c179e"
          ],
          [
           0.4444444444444444,
           "#bd3786"
          ],
          [
           0.5555555555555556,
           "#d8576b"
          ],
          [
           0.6666666666666666,
           "#ed7953"
          ],
          [
           0.7777777777777778,
           "#fb9f3a"
          ],
          [
           0.8888888888888888,
           "#fdca26"
          ],
          [
           1,
           "#f0f921"
          ]
         ]
        },
        "legend": {
         "tracegroupgap": 0
        },
        "margin": {
         "t": 60
        },
        "template": {
         "data": {
          "bar": [
           {
            "error_x": {
             "color": "#2a3f5f"
            },
            "error_y": {
             "color": "#2a3f5f"
            },
            "marker": {
             "line": {
              "color": "#E5ECF6",
              "width": 0.5
             }
            },
            "type": "bar"
           }
          ],
          "barpolar": [
           {
            "marker": {
             "line": {
              "color": "#E5ECF6",
              "width": 0.5
             }
            },
            "type": "barpolar"
           }
          ],
          "carpet": [
           {
            "aaxis": {
             "endlinecolor": "#2a3f5f",
             "gridcolor": "white",
             "linecolor": "white",
             "minorgridcolor": "white",
             "startlinecolor": "#2a3f5f"
            },
            "baxis": {
             "endlinecolor": "#2a3f5f",
             "gridcolor": "white",
             "linecolor": "white",
             "minorgridcolor": "white",
             "startlinecolor": "#2a3f5f"
            },
            "type": "carpet"
           }
          ],
          "choropleth": [
           {
            "colorbar": {
             "outlinewidth": 0,
             "ticks": ""
            },
            "type": "choropleth"
           }
          ],
          "contour": [
           {
            "colorbar": {
             "outlinewidth": 0,
             "ticks": ""
            },
            "colorscale": [
             [
              0,
              "#0d0887"
             ],
             [
              0.1111111111111111,
              "#46039f"
             ],
             [
              0.2222222222222222,
              "#7201a8"
             ],
             [
              0.3333333333333333,
              "#9c179e"
             ],
             [
              0.4444444444444444,
              "#bd3786"
             ],
             [
              0.5555555555555556,
              "#d8576b"
             ],
             [
              0.6666666666666666,
              "#ed7953"
             ],
             [
              0.7777777777777778,
              "#fb9f3a"
             ],
             [
              0.8888888888888888,
              "#fdca26"
             ],
             [
              1,
              "#f0f921"
             ]
            ],
            "type": "contour"
           }
          ],
          "contourcarpet": [
           {
            "colorbar": {
             "outlinewidth": 0,
             "ticks": ""
            },
            "type": "contourcarpet"
           }
          ],
          "heatmap": [
           {
            "colorbar": {
             "outlinewidth": 0,
             "ticks": ""
            },
            "colorscale": [
             [
              0,
              "#0d0887"
             ],
             [
              0.1111111111111111,
              "#46039f"
             ],
             [
              0.2222222222222222,
              "#7201a8"
             ],
             [
              0.3333333333333333,
              "#9c179e"
             ],
             [
              0.4444444444444444,
              "#bd3786"
             ],
             [
              0.5555555555555556,
              "#d8576b"
             ],
             [
              0.6666666666666666,
              "#ed7953"
             ],
             [
              0.7777777777777778,
              "#fb9f3a"
             ],
             [
              0.8888888888888888,
              "#fdca26"
             ],
             [
              1,
              "#f0f921"
             ]
            ],
            "type": "heatmap"
           }
          ],
          "heatmapgl": [
           {
            "colorbar": {
             "outlinewidth": 0,
             "ticks": ""
            },
            "colorscale": [
             [
              0,
              "#0d0887"
             ],
             [
              0.1111111111111111,
              "#46039f"
             ],
             [
              0.2222222222222222,
              "#7201a8"
             ],
             [
              0.3333333333333333,
              "#9c179e"
             ],
             [
              0.4444444444444444,
              "#bd3786"
             ],
             [
              0.5555555555555556,
              "#d8576b"
             ],
             [
              0.6666666666666666,
              "#ed7953"
             ],
             [
              0.7777777777777778,
              "#fb9f3a"
             ],
             [
              0.8888888888888888,
              "#fdca26"
             ],
             [
              1,
              "#f0f921"
             ]
            ],
            "type": "heatmapgl"
           }
          ],
          "histogram": [
           {
            "marker": {
             "colorbar": {
              "outlinewidth": 0,
              "ticks": ""
             }
            },
            "type": "histogram"
           }
          ],
          "histogram2d": [
           {
            "colorbar": {
             "outlinewidth": 0,
             "ticks": ""
            },
            "colorscale": [
             [
              0,
              "#0d0887"
             ],
             [
              0.1111111111111111,
              "#46039f"
             ],
             [
              0.2222222222222222,
              "#7201a8"
             ],
             [
              0.3333333333333333,
              "#9c179e"
             ],
             [
              0.4444444444444444,
              "#bd3786"
             ],
             [
              0.5555555555555556,
              "#d8576b"
             ],
             [
              0.6666666666666666,
              "#ed7953"
             ],
             [
              0.7777777777777778,
              "#fb9f3a"
             ],
             [
              0.8888888888888888,
              "#fdca26"
             ],
             [
              1,
              "#f0f921"
             ]
            ],
            "type": "histogram2d"
           }
          ],
          "histogram2dcontour": [
           {
            "colorbar": {
             "outlinewidth": 0,
             "ticks": ""
            },
            "colorscale": [
             [
              0,
              "#0d0887"
             ],
             [
              0.1111111111111111,
              "#46039f"
             ],
             [
              0.2222222222222222,
              "#7201a8"
             ],
             [
              0.3333333333333333,
              "#9c179e"
             ],
             [
              0.4444444444444444,
              "#bd3786"
             ],
             [
              0.5555555555555556,
              "#d8576b"
             ],
             [
              0.6666666666666666,
              "#ed7953"
             ],
             [
              0.7777777777777778,
              "#fb9f3a"
             ],
             [
              0.8888888888888888,
              "#fdca26"
             ],
             [
              1,
              "#f0f921"
             ]
            ],
            "type": "histogram2dcontour"
           }
          ],
          "mesh3d": [
           {
            "colorbar": {
             "outlinewidth": 0,
             "ticks": ""
            },
            "type": "mesh3d"
           }
          ],
          "parcoords": [
           {
            "line": {
             "colorbar": {
              "outlinewidth": 0,
              "ticks": ""
             }
            },
            "type": "parcoords"
           }
          ],
          "pie": [
           {
            "automargin": true,
            "type": "pie"
           }
          ],
          "scatter": [
           {
            "marker": {
             "colorbar": {
              "outlinewidth": 0,
              "ticks": ""
             }
            },
            "type": "scatter"
           }
          ],
          "scatter3d": [
           {
            "line": {
             "colorbar": {
              "outlinewidth": 0,
              "ticks": ""
             }
            },
            "marker": {
             "colorbar": {
              "outlinewidth": 0,
              "ticks": ""
             }
            },
            "type": "scatter3d"
           }
          ],
          "scattercarpet": [
           {
            "marker": {
             "colorbar": {
              "outlinewidth": 0,
              "ticks": ""
             }
            },
            "type": "scattercarpet"
           }
          ],
          "scattergeo": [
           {
            "marker": {
             "colorbar": {
              "outlinewidth": 0,
              "ticks": ""
             }
            },
            "type": "scattergeo"
           }
          ],
          "scattergl": [
           {
            "marker": {
             "colorbar": {
              "outlinewidth": 0,
              "ticks": ""
             }
            },
            "type": "scattergl"
           }
          ],
          "scattermapbox": [
           {
            "marker": {
             "colorbar": {
              "outlinewidth": 0,
              "ticks": ""
             }
            },
            "type": "scattermapbox"
           }
          ],
          "scatterpolar": [
           {
            "marker": {
             "colorbar": {
              "outlinewidth": 0,
              "ticks": ""
             }
            },
            "type": "scatterpolar"
           }
          ],
          "scatterpolargl": [
           {
            "marker": {
             "colorbar": {
              "outlinewidth": 0,
              "ticks": ""
             }
            },
            "type": "scatterpolargl"
           }
          ],
          "scatterternary": [
           {
            "marker": {
             "colorbar": {
              "outlinewidth": 0,
              "ticks": ""
             }
            },
            "type": "scatterternary"
           }
          ],
          "surface": [
           {
            "colorbar": {
             "outlinewidth": 0,
             "ticks": ""
            },
            "colorscale": [
             [
              0,
              "#0d0887"
             ],
             [
              0.1111111111111111,
              "#46039f"
             ],
             [
              0.2222222222222222,
              "#7201a8"
             ],
             [
              0.3333333333333333,
              "#9c179e"
             ],
             [
              0.4444444444444444,
              "#bd3786"
             ],
             [
              0.5555555555555556,
              "#d8576b"
             ],
             [
              0.6666666666666666,
              "#ed7953"
             ],
             [
              0.7777777777777778,
              "#fb9f3a"
             ],
             [
              0.8888888888888888,
              "#fdca26"
             ],
             [
              1,
              "#f0f921"
             ]
            ],
            "type": "surface"
           }
          ],
          "table": [
           {
            "cells": {
             "fill": {
              "color": "#EBF0F8"
             },
             "line": {
              "color": "white"
             }
            },
            "header": {
             "fill": {
              "color": "#C8D4E3"
             },
             "line": {
              "color": "white"
             }
            },
            "type": "table"
           }
          ]
         },
         "layout": {
          "annotationdefaults": {
           "arrowcolor": "#2a3f5f",
           "arrowhead": 0,
           "arrowwidth": 1
          },
          "autotypenumbers": "strict",
          "coloraxis": {
           "colorbar": {
            "outlinewidth": 0,
            "ticks": ""
           }
          },
          "colorscale": {
           "diverging": [
            [
             0,
             "#8e0152"
            ],
            [
             0.1,
             "#c51b7d"
            ],
            [
             0.2,
             "#de77ae"
            ],
            [
             0.3,
             "#f1b6da"
            ],
            [
             0.4,
             "#fde0ef"
            ],
            [
             0.5,
             "#f7f7f7"
            ],
            [
             0.6,
             "#e6f5d0"
            ],
            [
             0.7,
             "#b8e186"
            ],
            [
             0.8,
             "#7fbc41"
            ],
            [
             0.9,
             "#4d9221"
            ],
            [
             1,
             "#276419"
            ]
           ],
           "sequential": [
            [
             0,
             "#0d0887"
            ],
            [
             0.1111111111111111,
             "#46039f"
            ],
            [
             0.2222222222222222,
             "#7201a8"
            ],
            [
             0.3333333333333333,
             "#9c179e"
            ],
            [
             0.4444444444444444,
             "#bd3786"
            ],
            [
             0.5555555555555556,
             "#d8576b"
            ],
            [
             0.6666666666666666,
             "#ed7953"
            ],
            [
             0.7777777777777778,
             "#fb9f3a"
            ],
            [
             0.8888888888888888,
             "#fdca26"
            ],
            [
             1,
             "#f0f921"
            ]
           ],
           "sequentialminus": [
            [
             0,
             "#0d0887"
            ],
            [
             0.1111111111111111,
             "#46039f"
            ],
            [
             0.2222222222222222,
             "#7201a8"
            ],
            [
             0.3333333333333333,
             "#9c179e"
            ],
            [
             0.4444444444444444,
             "#bd3786"
            ],
            [
             0.5555555555555556,
             "#d8576b"
            ],
            [
             0.6666666666666666,
             "#ed7953"
            ],
            [
             0.7777777777777778,
             "#fb9f3a"
            ],
            [
             0.8888888888888888,
             "#fdca26"
            ],
            [
             1,
             "#f0f921"
            ]
           ]
          },
          "colorway": [
           "#636efa",
           "#EF553B",
           "#00cc96",
           "#ab63fa",
           "#FFA15A",
           "#19d3f3",
           "#FF6692",
           "#B6E880",
           "#FF97FF",
           "#FECB52"
          ],
          "font": {
           "color": "#2a3f5f"
          },
          "geo": {
           "bgcolor": "white",
           "lakecolor": "white",
           "landcolor": "#E5ECF6",
           "showlakes": true,
           "showland": true,
           "subunitcolor": "white"
          },
          "hoverlabel": {
           "align": "left"
          },
          "hovermode": "closest",
          "mapbox": {
           "style": "light"
          },
          "paper_bgcolor": "white",
          "plot_bgcolor": "#E5ECF6",
          "polar": {
           "angularaxis": {
            "gridcolor": "white",
            "linecolor": "white",
            "ticks": ""
           },
           "bgcolor": "#E5ECF6",
           "radialaxis": {
            "gridcolor": "white",
            "linecolor": "white",
            "ticks": ""
           }
          },
          "scene": {
           "xaxis": {
            "backgroundcolor": "#E5ECF6",
            "gridcolor": "white",
            "gridwidth": 2,
            "linecolor": "white",
            "showbackground": true,
            "ticks": "",
            "zerolinecolor": "white"
           },
           "yaxis": {
            "backgroundcolor": "#E5ECF6",
            "gridcolor": "white",
            "gridwidth": 2,
            "linecolor": "white",
            "showbackground": true,
            "ticks": "",
            "zerolinecolor": "white"
           },
           "zaxis": {
            "backgroundcolor": "#E5ECF6",
            "gridcolor": "white",
            "gridwidth": 2,
            "linecolor": "white",
            "showbackground": true,
            "ticks": "",
            "zerolinecolor": "white"
           }
          },
          "shapedefaults": {
           "line": {
            "color": "#2a3f5f"
           }
          },
          "ternary": {
           "aaxis": {
            "gridcolor": "white",
            "linecolor": "white",
            "ticks": ""
           },
           "baxis": {
            "gridcolor": "white",
            "linecolor": "white",
            "ticks": ""
           },
           "bgcolor": "#E5ECF6",
           "caxis": {
            "gridcolor": "white",
            "linecolor": "white",
            "ticks": ""
           }
          },
          "title": {
           "x": 0.05
          },
          "xaxis": {
           "automargin": true,
           "gridcolor": "white",
           "linecolor": "white",
           "ticks": "",
           "title": {
            "standoff": 15
           },
           "zerolinecolor": "white",
           "zerolinewidth": 2
          },
          "yaxis": {
           "automargin": true,
           "gridcolor": "white",
           "linecolor": "white",
           "ticks": "",
           "title": {
            "standoff": 15
           },
           "zerolinecolor": "white",
           "zerolinewidth": 2
          }
         }
        }
       }
      },
      "image/png": "[encoded data removed]",
      "text/html": [
       "<div>                            <div id=\"ff1c9402-a7b3-4a13-8b4e-2671b8c99593\" class=\"plotly-graph-div\" style=\"height:525px; width:100%;\"></div>            <script type=\"text/javascript\">                require([\"plotly\"], function(Plotly) {                    window.PLOTLYENV=window.PLOTLYENV || {};                                    if (document.getElementById(\"ff1c9402-a7b3-4a13-8b4e-2671b8c99593\")) {                    Plotly.newPlot(                        \"ff1c9402-a7b3-4a13-8b4e-2671b8c99593\",                        [{\"dimensions\": [{\"label\": \"year\", \"values\": [2015, 2016, 2016, 2013, 2014, 2016, 2016, 2015, 2014, 2015]}, {\"label\": \"sale_price_sqr_foot\", \"values\": [2258.702831998355, 1465.9685863874345, 1416.666666666667, 1290.472106646641, 1267.7662026328826, 1207.997484708169, 1196.645436923929, 1132.8373605554546, 1119.8388773148026, 1100.7911936704506]}, {\"label\": \"gross_rent\", \"values\": [3739, 4390, 4390, 2971, 3528, 4390, 4390, 3739, 3528, 3739]}], \"domain\": {\"x\": [0.0, 1.0], \"y\": [0.0, 1.0]}, \"line\": {\"color\": [2258.702831998355, 1465.9685863874345, 1416.666666666667, 1290.472106646641, 1267.7662026328826, 1207.997484708169, 1196.645436923929, 1132.8373605554546, 1119.8388773148026, 1100.7911936704506], \"coloraxis\": \"coloraxis\"}, \"name\": \"\", \"type\": \"parcoords\"}],                        {\"coloraxis\": {\"colorbar\": {\"title\": {\"text\": \"sale_price_sqr_foot\"}}, \"colorscale\": [[0.0, \"#0d0887\"], [0.1111111111111111, \"#46039f\"], [0.2222222222222222, \"#7201a8\"], [0.3333333333333333, \"#9c179e\"], [0.4444444444444444, \"#bd3786\"], [0.5555555555555556, \"#d8576b\"], [0.6666666666666666, \"#ed7953\"], [0.7777777777777778, \"#fb9f3a\"], [0.8888888888888888, \"#fdca26\"], [1.0, \"#f0f921\"]]}, \"legend\": {\"tracegroupgap\": 0}, \"margin\": {\"t\": 60}, \"template\": {\"data\": {\"bar\": [{\"error_x\": {\"color\": \"#2a3f5f\"}, \"error_y\": {\"color\": \"#2a3f5f\"}, \"marker\": {\"line\": {\"color\": \"#E5ECF6\", \"width\": 0.5}}, \"type\": \"bar\"}], \"barpolar\": [{\"marker\": {\"line\": {\"color\": \"#E5ECF6\", \"width\": 0.5}}, \"type\": \"barpolar\"}], \"carpet\": [{\"aaxis\": {\"endlinecolor\": \"#2a3f5f\", \"gridcolor\": \"white\", \"linecolor\": \"white\", \"minorgridcolor\": \"white\", \"startlinecolor\": \"#2a3f5f\"}, \"baxis\": {\"endlinecolor\": \"#2a3f5f\", \"gridcolor\": \"white\", \"linecolor\": \"white\", \"minorgridcolor\": \"white\", \"startlinecolor\": \"#2a3f5f\"}, \"type\": \"carpet\"}], \"choropleth\": [{\"colorbar\": {\"outlinewidth\": 0, \"ticks\": \"\"}, \"type\": \"choropleth\"}], \"contour\": [{\"colorbar\": {\"outlinewidth\": 0, \"ticks\": \"\"}, \"colorscale\": [[0.0, \"#0d0887\"], [0.1111111111111111, \"#46039f\"], [0.2222222222222222, \"#7201a8\"], [0.3333333333333333, \"#9c179e\"], [0.4444444444444444, \"#bd3786\"], [0.5555555555555556, \"#d8576b\"], [0.6666666666666666, \"#ed7953\"], [0.7777777777777778, \"#fb9f3a\"], [0.8888888888888888, \"#fdca26\"], [1.0, \"#f0f921\"]], \"type\": \"contour\"}], \"contourcarpet\": [{\"colorbar\": {\"outlinewidth\": 0, \"ticks\": \"\"}, \"type\": \"contourcarpet\"}], \"heatmap\": [{\"colorbar\": {\"outlinewidth\": 0, \"ticks\": \"\"}, \"colorscale\": [[0.0, \"#0d0887\"], [0.1111111111111111, \"#46039f\"], [0.2222222222222222, \"#7201a8\"], [0.3333333333333333, \"#9c179e\"], [0.4444444444444444, \"#bd3786\"], [0.5555555555555556, \"#d8576b\"], [0.6666666666666666, \"#ed7953\"], [0.7777777777777778, \"#fb9f3a\"], [0.8888888888888888, \"#fdca26\"], [1.0, \"#f0f921\"]], \"type\": \"heatmap\"}], \"heatmapgl\": [{\"colorbar\": {\"outlinewidth\": 0, \"ticks\": \"\"}, \"colorscale\": [[0.0, \"#0d0887\"], [0.1111111111111111, \"#46039f\"], [0.2222222222222222, \"#7201a8\"], [0.3333333333333333, \"#9c179e\"], [0.4444444444444444, \"#bd3786\"], [0.5555555555555556, \"#d8576b\"], [0.6666666666666666, \"#ed7953\"], [0.7777777777777778, \"#fb9f3a\"], [0.8888888888888888, \"#fdca26\"], [1.0, \"#f0f921\"]], \"type\": \"heatmapgl\"}], \"histogram\": [{\"marker\": {\"colorbar\": {\"outlinewidth\": 0, \"ticks\": \"\"}}, \"type\": \"histogram\"}], \"histogram2d\": [{\"colorbar\": {\"outlinewidth\": 0, \"ticks\": \"\"}, \"colorscale\": [[0.0, \"#0d0887\"], [0.1111111111111111, \"#46039f\"], [0.2222222222222222, \"#7201a8\"], [0.3333333333333333, \"#9c179e\"], [0.4444444444444444, \"#bd3786\"], [0.5555555555555556, \"#d8576b\"], [0.6666666666666666, \"#ed7953\"], [0.7777777777777778, \"#fb9f3a\"], [0.8888888888888888, \"#fdca26\"], [1.0, \"#f0f921\"]], \"type\": \"histogram2d\"}], \"histogram2dcontour\": [{\"colorbar\": {\"outlinewidth\": 0, \"ticks\": \"\"}, \"colorscale\": [[0.0, \"#0d0887\"], [0.1111111111111111, \"#46039f\"], [0.2222222222222222, \"#7201a8\"], [0.3333333333333333, \"#9c179e\"], [0.4444444444444444, \"#bd3786\"], [0.5555555555555556, \"#d8576b\"], [0.6666666666666666, \"#ed7953\"], [0.7777777777777778, \"#fb9f3a\"], [0.8888888888888888, \"#fdca26\"], [1.0, \"#f0f921\"]], \"type\": \"histogram2dcontour\"}], \"mesh3d\": [{\"colorbar\": {\"outlinewidth\": 0, \"ticks\": \"\"}, \"type\": \"mesh3d\"}], \"parcoords\": [{\"line\": {\"colorbar\": {\"outlinewidth\": 0, \"ticks\": \"\"}}, \"type\": \"parcoords\"}], \"pie\": [{\"automargin\": true, \"type\": \"pie\"}], \"scatter\": [{\"marker\": {\"colorbar\": {\"outlinewidth\": 0, \"ticks\": \"\"}}, \"type\": \"scatter\"}], \"scatter3d\": [{\"line\": {\"colorbar\": {\"outlinewidth\": 0, \"ticks\": \"\"}}, \"marker\": {\"colorbar\": {\"outlinewidth\": 0, \"ticks\": \"\"}}, \"type\": \"scatter3d\"}], \"scattercarpet\": [{\"marker\": {\"colorbar\": {\"outlinewidth\": 0, \"ticks\": \"\"}}, \"type\": \"scattercarpet\"}], \"scattergeo\": [{\"marker\": {\"colorbar\": {\"outlinewidth\": 0, \"ticks\": \"\"}}, \"type\": \"scattergeo\"}], \"scattergl\": [{\"marker\": {\"colorbar\": {\"outlinewidth\": 0, \"ticks\": \"\"}}, \"type\": \"scattergl\"}], \"scattermapbox\": [{\"marker\": {\"colorbar\": {\"outlinewidth\": 0, \"ticks\": \"\"}}, \"type\": \"scattermapbox\"}], \"scatterpolar\": [{\"marker\": {\"colorbar\": {\"outlinewidth\": 0, \"ticks\": \"\"}}, \"type\": \"scatterpolar\"}], \"scatterpolargl\": [{\"marker\": {\"colorbar\": {\"outlinewidth\": 0, \"ticks\": \"\"}}, \"type\": \"scatterpolargl\"}], \"scatterternary\": [{\"marker\": {\"colorbar\": {\"outlinewidth\": 0, \"ticks\": \"\"}}, \"type\": \"scatterternary\"}], \"surface\": [{\"colorbar\": {\"outlinewidth\": 0, \"ticks\": \"\"}, \"colorscale\": [[0.0, \"#0d0887\"], [0.1111111111111111, \"#46039f\"], [0.2222222222222222, \"#7201a8\"], [0.3333333333333333, \"#9c179e\"], [0.4444444444444444, \"#bd3786\"], [0.5555555555555556, \"#d8576b\"], [0.6666666666666666, \"#ed7953\"], [0.7777777777777778, \"#fb9f3a\"], [0.8888888888888888, \"#fdca26\"], [1.0, \"#f0f921\"]], \"type\": \"surface\"}], \"table\": [{\"cells\": {\"fill\": {\"color\": \"#EBF0F8\"}, \"line\": {\"color\": \"white\"}}, \"header\": {\"fill\": {\"color\": \"#C8D4E3\"}, \"line\": {\"color\": \"white\"}}, \"type\": \"table\"}]}, \"layout\": {\"annotationdefaults\": {\"arrowcolor\": \"#2a3f5f\", \"arrowhead\": 0, \"arrowwidth\": 1}, \"autotypenumbers\": \"strict\", \"coloraxis\": {\"colorbar\": {\"outlinewidth\": 0, \"ticks\": \"\"}}, \"colorscale\": {\"diverging\": [[0, \"#8e0152\"], [0.1, \"#c51b7d\"], [0.2, \"#de77ae\"], [0.3, \"#f1b6da\"], [0.4, \"#fde0ef\"], [0.5, \"#f7f7f7\"], [0.6, \"#e6f5d0\"], [0.7, \"#b8e186\"], [0.8, \"#7fbc41\"], [0.9, \"#4d9221\"], [1, \"#276419\"]], \"sequential\": [[0.0, \"#0d0887\"], [0.1111111111111111, \"#46039f\"], [0.2222222222222222, \"#7201a8\"], [0.3333333333333333, \"#9c179e\"], [0.4444444444444444, \"#bd3786\"], [0.5555555555555556, \"#d8576b\"], [0.6666666666666666, \"#ed7953\"], [0.7777777777777778, \"#fb9f3a\"], [0.8888888888888888, \"#fdca26\"], [1.0, \"#f0f921\"]], \"sequentialminus\": [[0.0, \"#0d0887\"], [0.1111111111111111, \"#46039f\"], [0.2222222222222222, \"#7201a8\"], [0.3333333333333333, \"#9c179e\"], [0.4444444444444444, \"#bd3786\"], [0.5555555555555556, \"#d8576b\"], [0.6666666666666666, \"#ed7953\"], [0.7777777777777778, \"#fb9f3a\"], [0.8888888888888888, \"#fdca26\"], [1.0, \"#f0f921\"]]}, \"colorway\": [\"#636efa\", \"#EF553B\", \"#00cc96\", \"#ab63fa\", \"#FFA15A\", \"#19d3f3\", \"#FF6692\", \"#B6E880\", \"#FF97FF\", \"#FECB52\"], \"font\": {\"color\": \"#2a3f5f\"}, \"geo\": {\"bgcolor\": \"white\", \"lakecolor\": \"white\", \"landcolor\": \"#E5ECF6\", \"showlakes\": true, \"showland\": true, \"subunitcolor\": \"white\"}, \"hoverlabel\": {\"align\": \"left\"}, \"hovermode\": \"closest\", \"mapbox\": {\"style\": \"light\"}, \"paper_bgcolor\": \"white\", \"plot_bgcolor\": \"#E5ECF6\", \"polar\": {\"angularaxis\": {\"gridcolor\": \"white\", \"linecolor\": \"white\", \"ticks\": \"\"}, \"bgcolor\": \"#E5ECF6\", \"radialaxis\": {\"gridcolor\": \"white\", \"linecolor\": \"white\", \"ticks\": \"\"}}, \"scene\": {\"xaxis\": {\"backgroundcolor\": \"#E5ECF6\", \"gridcolor\": \"white\", \"gridwidth\": 2, \"linecolor\": \"white\", \"showbackground\": true, \"ticks\": \"\", \"zerolinecolor\": \"white\"}, \"yaxis\": {\"backgroundcolor\": \"#E5ECF6\", \"gridcolor\": \"white\", \"gridwidth\": 2, \"linecolor\": \"white\", \"showbackground\": true, \"ticks\": \"\", \"zerolinecolor\": \"white\"}, \"zaxis\": {\"backgroundcolor\": \"#E5ECF6\", \"gridcolor\": \"white\", \"gridwidth\": 2, \"linecolor\": \"white\", \"showbackground\": true, \"ticks\": \"\", \"zerolinecolor\": \"white\"}}, \"shapedefaults\": {\"line\": {\"color\": \"#2a3f5f\"}}, \"ternary\": {\"aaxis\": {\"gridcolor\": \"white\", \"linecolor\": \"white\", \"ticks\": \"\"}, \"baxis\": {\"gridcolor\": \"white\", \"linecolor\": \"white\", \"ticks\": \"\"}, \"bgcolor\": \"#E5ECF6\", \"caxis\": {\"gridcolor\": \"white\", \"linecolor\": \"white\", \"ticks\": \"\"}}, \"title\": {\"x\": 0.05}, \"xaxis\": {\"automargin\": true, \"gridcolor\": \"white\", \"linecolor\": \"white\", \"ticks\": \"\", \"title\": {\"standoff\": 15}, \"zerolinecolor\": \"white\", \"zerolinewidth\": 2}, \"yaxis\": {\"automargin\": true, \"gridcolor\": \"white\", \"linecolor\": \"white\", \"ticks\": \"\", \"title\": {\"standoff\": 15}, \"zerolinecolor\": \"white\", \"zerolinewidth\": 2}}}},                        {\"responsive\": true}                    ).then(function(){\n",
       "                            \n",
       "var gd = document.getElementById('ff1c9402-a7b3-4a13-8b4e-2671b8c99593');\n",
       "var x = new MutationObserver(function (mutations, observer) {{\n",
       "        var display = window.getComputedStyle(gd).display;\n",
       "        if (!display || display === 'none') {{\n",
       "            console.log([gd, 'removed!']);\n",
       "            Plotly.purge(gd);\n",
       "            observer.disconnect();\n",
       "        }}\n",
       "}});\n",
       "\n",
       "// Listen for the removal of the full notebook cells\n",
       "var notebookContainer = gd.closest('#notebook-container');\n",
       "if (notebookContainer) {{\n",
       "    x.observe(notebookContainer, {childList: true});\n",
       "}}\n",
       "\n",
       "// Listen for the clearing of the current output cell\n",
       "var outputEl = gd.closest('.output');\n",
       "if (outputEl) {{\n",
       "    x.observe(outputEl, {childList: true});\n",
       "}}\n",
       "\n",
       "                        })                };                });            </script>        </div>"
      ]
     },
     "metadata": {},
     "output_type": "display_data"
    }
   ],
   "source": [
    "# Parallel Coordinates Plot\n",
    "px.parallel_coordinates(df_expensive_neighborhoods_per_year, color='sale_price_sqr_foot')"
   ]
  },
  {
   "cell_type": "markdown",
   "metadata": {},
   "source": [
    "### Create a sunburst chart to conduct a costs analysis of most expensive neighborhoods in San Francisco per year"
   ]
  },
  {
   "cell_type": "code",
   "execution_count": 307,
   "metadata": {},
   "outputs": [
    {
     "data": {
      "application/vnd.plotly.v1+json": {
       "config": {
        "plotlyServerURL": "https://plot.ly"
       },
       "data": [
        {
         "domain": {
          "x": [
           0,
           1
          ],
          "y": [
           0,
           1
          ]
         },
         "hovertemplate": "neighborhood=%{label}<br>gross_rent=%{value}<br>sale_price_sqr_foot=%{parent}<extra></extra>",
         "labels": [
          "Union Square District",
          "Presidio Heights",
          "Merced Heights",
          "Union Square District",
          "Miraloma Park",
          "Parnassus/Ashbury Heights",
          "Outer Richmond ",
          "Marina",
          "South of Market",
          "Corona Heights"
         ],
         "name": "",
         "parents": [
          2258.702831998355,
          1465.9685863874345,
          1416.666666666667,
          1290.472106646641,
          1267.7662026328826,
          1207.997484708169,
          1196.645436923929,
          1132.8373605554546,
          1119.8388773148026,
          1100.7911936704506
         ],
         "type": "sunburst",
         "values": [
          3739,
          4390,
          4390,
          2971,
          3528,
          4390,
          4390,
          3739,
          3528,
          3739
         ]
        }
       ],
       "layout": {
        "autosize": true,
        "legend": {
         "tracegroupgap": 0
        },
        "margin": {
         "t": 60
        },
        "template": {
         "data": {
          "bar": [
           {
            "error_x": {
             "color": "#2a3f5f"
            },
            "error_y": {
             "color": "#2a3f5f"
            },
            "marker": {
             "line": {
              "color": "#E5ECF6",
              "width": 0.5
             }
            },
            "type": "bar"
           }
          ],
          "barpolar": [
           {
            "marker": {
             "line": {
              "color": "#E5ECF6",
              "width": 0.5
             }
            },
            "type": "barpolar"
           }
          ],
          "carpet": [
           {
            "aaxis": {
             "endlinecolor": "#2a3f5f",
             "gridcolor": "white",
             "linecolor": "white",
             "minorgridcolor": "white",
             "startlinecolor": "#2a3f5f"
            },
            "baxis": {
             "endlinecolor": "#2a3f5f",
             "gridcolor": "white",
             "linecolor": "white",
             "minorgridcolor": "white",
             "startlinecolor": "#2a3f5f"
            },
            "type": "carpet"
           }
          ],
          "choropleth": [
           {
            "colorbar": {
             "outlinewidth": 0,
             "ticks": ""
            },
            "type": "choropleth"
           }
          ],
          "contour": [
           {
            "colorbar": {
             "outlinewidth": 0,
             "ticks": ""
            },
            "colorscale": [
             [
              0,
              "#0d0887"
             ],
             [
              0.1111111111111111,
              "#46039f"
             ],
             [
              0.2222222222222222,
              "#7201a8"
             ],
             [
              0.3333333333333333,
              "#9c179e"
             ],
             [
              0.4444444444444444,
              "#bd3786"
             ],
             [
              0.5555555555555556,
              "#d8576b"
             ],
             [
              0.6666666666666666,
              "#ed7953"
             ],
             [
              0.7777777777777778,
              "#fb9f3a"
             ],
             [
              0.8888888888888888,
              "#fdca26"
             ],
             [
              1,
              "#f0f921"
             ]
            ],
            "type": "contour"
           }
          ],
          "contourcarpet": [
           {
            "colorbar": {
             "outlinewidth": 0,
             "ticks": ""
            },
            "type": "contourcarpet"
           }
          ],
          "heatmap": [
           {
            "colorbar": {
             "outlinewidth": 0,
             "ticks": ""
            },
            "colorscale": [
             [
              0,
              "#0d0887"
             ],
             [
              0.1111111111111111,
              "#46039f"
             ],
             [
              0.2222222222222222,
              "#7201a8"
             ],
             [
              0.3333333333333333,
              "#9c179e"
             ],
             [
              0.4444444444444444,
              "#bd3786"
             ],
             [
              0.5555555555555556,
              "#d8576b"
             ],
             [
              0.6666666666666666,
              "#ed7953"
             ],
             [
              0.7777777777777778,
              "#fb9f3a"
             ],
             [
              0.8888888888888888,
              "#fdca26"
             ],
             [
              1,
              "#f0f921"
             ]
            ],
            "type": "heatmap"
           }
          ],
          "heatmapgl": [
           {
            "colorbar": {
             "outlinewidth": 0,
             "ticks": ""
            },
            "colorscale": [
             [
              0,
              "#0d0887"
             ],
             [
              0.1111111111111111,
              "#46039f"
             ],
             [
              0.2222222222222222,
              "#7201a8"
             ],
             [
              0.3333333333333333,
              "#9c179e"
             ],
             [
              0.4444444444444444,
              "#bd3786"
             ],
             [
              0.5555555555555556,
              "#d8576b"
             ],
             [
              0.6666666666666666,
              "#ed7953"
             ],
             [
              0.7777777777777778,
              "#fb9f3a"
             ],
             [
              0.8888888888888888,
              "#fdca26"
             ],
             [
              1,
              "#f0f921"
             ]
            ],
            "type": "heatmapgl"
           }
          ],
          "histogram": [
           {
            "marker": {
             "colorbar": {
              "outlinewidth": 0,
              "ticks": ""
             }
            },
            "type": "histogram"
           }
          ],
          "histogram2d": [
           {
            "colorbar": {
             "outlinewidth": 0,
             "ticks": ""
            },
            "colorscale": [
             [
              0,
              "#0d0887"
             ],
             [
              0.1111111111111111,
              "#46039f"
             ],
             [
              0.2222222222222222,
              "#7201a8"
             ],
             [
              0.3333333333333333,
              "#9c179e"
             ],
             [
              0.4444444444444444,
              "#bd3786"
             ],
             [
              0.5555555555555556,
              "#d8576b"
             ],
             [
              0.6666666666666666,
              "#ed7953"
             ],
             [
              0.7777777777777778,
              "#fb9f3a"
             ],
             [
              0.8888888888888888,
              "#fdca26"
             ],
             [
              1,
              "#f0f921"
             ]
            ],
            "type": "histogram2d"
           }
          ],
          "histogram2dcontour": [
           {
            "colorbar": {
             "outlinewidth": 0,
             "ticks": ""
            },
            "colorscale": [
             [
              0,
              "#0d0887"
             ],
             [
              0.1111111111111111,
              "#46039f"
             ],
             [
              0.2222222222222222,
              "#7201a8"
             ],
             [
              0.3333333333333333,
              "#9c179e"
             ],
             [
              0.4444444444444444,
              "#bd3786"
             ],
             [
              0.5555555555555556,
              "#d8576b"
             ],
             [
              0.6666666666666666,
              "#ed7953"
             ],
             [
              0.7777777777777778,
              "#fb9f3a"
             ],
             [
              0.8888888888888888,
              "#fdca26"
             ],
             [
              1,
              "#f0f921"
             ]
            ],
            "type": "histogram2dcontour"
           }
          ],
          "mesh3d": [
           {
            "colorbar": {
             "outlinewidth": 0,
             "ticks": ""
            },
            "type": "mesh3d"
           }
          ],
          "parcoords": [
           {
            "line": {
             "colorbar": {
              "outlinewidth": 0,
              "ticks": ""
             }
            },
            "type": "parcoords"
           }
          ],
          "pie": [
           {
            "automargin": true,
            "type": "pie"
           }
          ],
          "scatter": [
           {
            "marker": {
             "colorbar": {
              "outlinewidth": 0,
              "ticks": ""
             }
            },
            "type": "scatter"
           }
          ],
          "scatter3d": [
           {
            "line": {
             "colorbar": {
              "outlinewidth": 0,
              "ticks": ""
             }
            },
            "marker": {
             "colorbar": {
              "outlinewidth": 0,
              "ticks": ""
             }
            },
            "type": "scatter3d"
           }
          ],
          "scattercarpet": [
           {
            "marker": {
             "colorbar": {
              "outlinewidth": 0,
              "ticks": ""
             }
            },
            "type": "scattercarpet"
           }
          ],
          "scattergeo": [
           {
            "marker": {
             "colorbar": {
              "outlinewidth": 0,
              "ticks": ""
             }
            },
            "type": "scattergeo"
           }
          ],
          "scattergl": [
           {
            "marker": {
             "colorbar": {
              "outlinewidth": 0,
              "ticks": ""
             }
            },
            "type": "scattergl"
           }
          ],
          "scattermapbox": [
           {
            "marker": {
             "colorbar": {
              "outlinewidth": 0,
              "ticks": ""
             }
            },
            "type": "scattermapbox"
           }
          ],
          "scatterpolar": [
           {
            "marker": {
             "colorbar": {
              "outlinewidth": 0,
              "ticks": ""
             }
            },
            "type": "scatterpolar"
           }
          ],
          "scatterpolargl": [
           {
            "marker": {
             "colorbar": {
              "outlinewidth": 0,
              "ticks": ""
             }
            },
            "type": "scatterpolargl"
           }
          ],
          "scatterternary": [
           {
            "marker": {
             "colorbar": {
              "outlinewidth": 0,
              "ticks": ""
             }
            },
            "type": "scatterternary"
           }
          ],
          "surface": [
           {
            "colorbar": {
             "outlinewidth": 0,
             "ticks": ""
            },
            "colorscale": [
             [
              0,
              "#0d0887"
             ],
             [
              0.1111111111111111,
              "#46039f"
             ],
             [
              0.2222222222222222,
              "#7201a8"
             ],
             [
              0.3333333333333333,
              "#9c179e"
             ],
             [
              0.4444444444444444,
              "#bd3786"
             ],
             [
              0.5555555555555556,
              "#d8576b"
             ],
             [
              0.6666666666666666,
              "#ed7953"
             ],
             [
              0.7777777777777778,
              "#fb9f3a"
             ],
             [
              0.8888888888888888,
              "#fdca26"
             ],
             [
              1,
              "#f0f921"
             ]
            ],
            "type": "surface"
           }
          ],
          "table": [
           {
            "cells": {
             "fill": {
              "color": "#EBF0F8"
             },
             "line": {
              "color": "white"
             }
            },
            "header": {
             "fill": {
              "color": "#C8D4E3"
             },
             "line": {
              "color": "white"
             }
            },
            "type": "table"
           }
          ]
         },
         "layout": {
          "annotationdefaults": {
           "arrowcolor": "#2a3f5f",
           "arrowhead": 0,
           "arrowwidth": 1
          },
          "autotypenumbers": "strict",
          "coloraxis": {
           "colorbar": {
            "outlinewidth": 0,
            "ticks": ""
           }
          },
          "colorscale": {
           "diverging": [
            [
             0,
             "#8e0152"
            ],
            [
             0.1,
             "#c51b7d"
            ],
            [
             0.2,
             "#de77ae"
            ],
            [
             0.3,
             "#f1b6da"
            ],
            [
             0.4,
             "#fde0ef"
            ],
            [
             0.5,
             "#f7f7f7"
            ],
            [
             0.6,
             "#e6f5d0"
            ],
            [
             0.7,
             "#b8e186"
            ],
            [
             0.8,
             "#7fbc41"
            ],
            [
             0.9,
             "#4d9221"
            ],
            [
             1,
             "#276419"
            ]
           ],
           "sequential": [
            [
             0,
             "#0d0887"
            ],
            [
             0.1111111111111111,
             "#46039f"
            ],
            [
             0.2222222222222222,
             "#7201a8"
            ],
            [
             0.3333333333333333,
             "#9c179e"
            ],
            [
             0.4444444444444444,
             "#bd3786"
            ],
            [
             0.5555555555555556,
             "#d8576b"
            ],
            [
             0.6666666666666666,
             "#ed7953"
            ],
            [
             0.7777777777777778,
             "#fb9f3a"
            ],
            [
             0.8888888888888888,
             "#fdca26"
            ],
            [
             1,
             "#f0f921"
            ]
           ],
           "sequentialminus": [
            [
             0,
             "#0d0887"
            ],
            [
             0.1111111111111111,
             "#46039f"
            ],
            [
             0.2222222222222222,
             "#7201a8"
            ],
            [
             0.3333333333333333,
             "#9c179e"
            ],
            [
             0.4444444444444444,
             "#bd3786"
            ],
            [
             0.5555555555555556,
             "#d8576b"
            ],
            [
             0.6666666666666666,
             "#ed7953"
            ],
            [
             0.7777777777777778,
             "#fb9f3a"
            ],
            [
             0.8888888888888888,
             "#fdca26"
            ],
            [
             1,
             "#f0f921"
            ]
           ]
          },
          "colorway": [
           "#636efa",
           "#EF553B",
           "#00cc96",
           "#ab63fa",
           "#FFA15A",
           "#19d3f3",
           "#FF6692",
           "#B6E880",
           "#FF97FF",
           "#FECB52"
          ],
          "font": {
           "color": "#2a3f5f"
          },
          "geo": {
           "bgcolor": "white",
           "lakecolor": "white",
           "landcolor": "#E5ECF6",
           "showlakes": true,
           "showland": true,
           "subunitcolor": "white"
          },
          "hoverlabel": {
           "align": "left"
          },
          "hovermode": "closest",
          "mapbox": {
           "style": "light"
          },
          "paper_bgcolor": "white",
          "plot_bgcolor": "#E5ECF6",
          "polar": {
           "angularaxis": {
            "gridcolor": "white",
            "linecolor": "white",
            "ticks": ""
           },
           "bgcolor": "#E5ECF6",
           "radialaxis": {
            "gridcolor": "white",
            "linecolor": "white",
            "ticks": ""
           }
          },
          "scene": {
           "xaxis": {
            "backgroundcolor": "#E5ECF6",
            "gridcolor": "white",
            "gridwidth": 2,
            "linecolor": "white",
            "showbackground": true,
            "ticks": "",
            "zerolinecolor": "white"
           },
           "yaxis": {
            "backgroundcolor": "#E5ECF6",
            "gridcolor": "white",
            "gridwidth": 2,
            "linecolor": "white",
            "showbackground": true,
            "ticks": "",
            "zerolinecolor": "white"
           },
           "zaxis": {
            "backgroundcolor": "#E5ECF6",
            "gridcolor": "white",
            "gridwidth": 2,
            "linecolor": "white",
            "showbackground": true,
            "ticks": "",
            "zerolinecolor": "white"
           }
          },
          "shapedefaults": {
           "line": {
            "color": "#2a3f5f"
           }
          },
          "ternary": {
           "aaxis": {
            "gridcolor": "white",
            "linecolor": "white",
            "ticks": ""
           },
           "baxis": {
            "gridcolor": "white",
            "linecolor": "white",
            "ticks": ""
           },
           "bgcolor": "#E5ECF6",
           "caxis": {
            "gridcolor": "white",
            "linecolor": "white",
            "ticks": ""
           }
          },
          "title": {
           "x": 0.05
          },
          "xaxis": {
           "automargin": true,
           "gridcolor": "white",
           "linecolor": "white",
           "ticks": "",
           "title": {
            "standoff": 15
           },
           "zerolinecolor": "white",
           "zerolinewidth": 2
          },
          "yaxis": {
           "automargin": true,
           "gridcolor": "white",
           "linecolor": "white",
           "ticks": "",
           "title": {
            "standoff": 15
           },
           "zerolinecolor": "white",
           "zerolinewidth": 2
          }
         }
        }
       }
      },
      "image/png": "[encoded data removed]",
      "text/html": [
       "<div>                            <div id=\"83143973-2f59-476e-9cde-0fac78fad63b\" class=\"plotly-graph-div\" style=\"height:525px; width:100%;\"></div>            <script type=\"text/javascript\">                require([\"plotly\"], function(Plotly) {                    window.PLOTLYENV=window.PLOTLYENV || {};                                    if (document.getElementById(\"83143973-2f59-476e-9cde-0fac78fad63b\")) {                    Plotly.newPlot(                        \"83143973-2f59-476e-9cde-0fac78fad63b\",                        [{\"domain\": {\"x\": [0.0, 1.0], \"y\": [0.0, 1.0]}, \"hovertemplate\": \"neighborhood=%{label}<br>gross_rent=%{value}<br>sale_price_sqr_foot=%{parent}<extra></extra>\", \"labels\": [\"Union Square District\", \"Presidio Heights\", \"Merced Heights\", \"Union Square District\", \"Miraloma Park\", \"Parnassus/Ashbury Heights\", \"Outer Richmond \", \"Marina\", \"South of Market\", \"Corona Heights\"], \"name\": \"\", \"parents\": [2258.702831998355, 1465.9685863874345, 1416.666666666667, 1290.472106646641, 1267.7662026328826, 1207.997484708169, 1196.645436923929, 1132.8373605554546, 1119.8388773148026, 1100.7911936704506], \"type\": \"sunburst\", \"values\": [3739, 4390, 4390, 2971, 3528, 4390, 4390, 3739, 3528, 3739]}],                        {\"legend\": {\"tracegroupgap\": 0}, \"margin\": {\"t\": 60}, \"template\": {\"data\": {\"bar\": [{\"error_x\": {\"color\": \"#2a3f5f\"}, \"error_y\": {\"color\": \"#2a3f5f\"}, \"marker\": {\"line\": {\"color\": \"#E5ECF6\", \"width\": 0.5}}, \"type\": \"bar\"}], \"barpolar\": [{\"marker\": {\"line\": {\"color\": \"#E5ECF6\", \"width\": 0.5}}, \"type\": \"barpolar\"}], \"carpet\": [{\"aaxis\": {\"endlinecolor\": \"#2a3f5f\", \"gridcolor\": \"white\", \"linecolor\": \"white\", \"minorgridcolor\": \"white\", \"startlinecolor\": \"#2a3f5f\"}, \"baxis\": {\"endlinecolor\": \"#2a3f5f\", \"gridcolor\": \"white\", \"linecolor\": \"white\", \"minorgridcolor\": \"white\", \"startlinecolor\": \"#2a3f5f\"}, \"type\": \"carpet\"}], \"choropleth\": [{\"colorbar\": {\"outlinewidth\": 0, \"ticks\": \"\"}, \"type\": \"choropleth\"}], \"contour\": [{\"colorbar\": {\"outlinewidth\": 0, \"ticks\": \"\"}, \"colorscale\": [[0.0, \"#0d0887\"], [0.1111111111111111, \"#46039f\"], [0.2222222222222222, \"#7201a8\"], [0.3333333333333333, \"#9c179e\"], [0.4444444444444444, \"#bd3786\"], [0.5555555555555556, \"#d8576b\"], [0.6666666666666666, \"#ed7953\"], [0.7777777777777778, \"#fb9f3a\"], [0.8888888888888888, \"#fdca26\"], [1.0, \"#f0f921\"]], \"type\": \"contour\"}], \"contourcarpet\": [{\"colorbar\": {\"outlinewidth\": 0, \"ticks\": \"\"}, \"type\": \"contourcarpet\"}], \"heatmap\": [{\"colorbar\": {\"outlinewidth\": 0, \"ticks\": \"\"}, \"colorscale\": [[0.0, \"#0d0887\"], [0.1111111111111111, \"#46039f\"], [0.2222222222222222, \"#7201a8\"], [0.3333333333333333, \"#9c179e\"], [0.4444444444444444, \"#bd3786\"], [0.5555555555555556, \"#d8576b\"], [0.6666666666666666, \"#ed7953\"], [0.7777777777777778, \"#fb9f3a\"], [0.8888888888888888, \"#fdca26\"], [1.0, \"#f0f921\"]], \"type\": \"heatmap\"}], \"heatmapgl\": [{\"colorbar\": {\"outlinewidth\": 0, \"ticks\": \"\"}, \"colorscale\": [[0.0, \"#0d0887\"], [0.1111111111111111, \"#46039f\"], [0.2222222222222222, \"#7201a8\"], [0.3333333333333333, \"#9c179e\"], [0.4444444444444444, \"#bd3786\"], [0.5555555555555556, \"#d8576b\"], [0.6666666666666666, \"#ed7953\"], [0.7777777777777778, \"#fb9f3a\"], [0.8888888888888888, \"#fdca26\"], [1.0, \"#f0f921\"]], \"type\": \"heatmapgl\"}], \"histogram\": [{\"marker\": {\"colorbar\": {\"outlinewidth\": 0, \"ticks\": \"\"}}, \"type\": \"histogram\"}], \"histogram2d\": [{\"colorbar\": {\"outlinewidth\": 0, \"ticks\": \"\"}, \"colorscale\": [[0.0, \"#0d0887\"], [0.1111111111111111, \"#46039f\"], [0.2222222222222222, \"#7201a8\"], [0.3333333333333333, \"#9c179e\"], [0.4444444444444444, \"#bd3786\"], [0.5555555555555556, \"#d8576b\"], [0.6666666666666666, \"#ed7953\"], [0.7777777777777778, \"#fb9f3a\"], [0.8888888888888888, \"#fdca26\"], [1.0, \"#f0f921\"]], \"type\": \"histogram2d\"}], \"histogram2dcontour\": [{\"colorbar\": {\"outlinewidth\": 0, \"ticks\": \"\"}, \"colorscale\": [[0.0, \"#0d0887\"], [0.1111111111111111, \"#46039f\"], [0.2222222222222222, \"#7201a8\"], [0.3333333333333333, \"#9c179e\"], [0.4444444444444444, \"#bd3786\"], [0.5555555555555556, \"#d8576b\"], [0.6666666666666666, \"#ed7953\"], [0.7777777777777778, \"#fb9f3a\"], [0.8888888888888888, \"#fdca26\"], [1.0, \"#f0f921\"]], \"type\": \"histogram2dcontour\"}], \"mesh3d\": [{\"colorbar\": {\"outlinewidth\": 0, \"ticks\": \"\"}, \"type\": \"mesh3d\"}], \"parcoords\": [{\"line\": {\"colorbar\": {\"outlinewidth\": 0, \"ticks\": \"\"}}, \"type\": \"parcoords\"}], \"pie\": [{\"automargin\": true, \"type\": \"pie\"}], \"scatter\": [{\"marker\": {\"colorbar\": {\"outlinewidth\": 0, \"ticks\": \"\"}}, \"type\": \"scatter\"}], \"scatter3d\": [{\"line\": {\"colorbar\": {\"outlinewidth\": 0, \"ticks\": \"\"}}, \"marker\": {\"colorbar\": {\"outlinewidth\": 0, \"ticks\": \"\"}}, \"type\": \"scatter3d\"}], \"scattercarpet\": [{\"marker\": {\"colorbar\": {\"outlinewidth\": 0, \"ticks\": \"\"}}, \"type\": \"scattercarpet\"}], \"scattergeo\": [{\"marker\": {\"colorbar\": {\"outlinewidth\": 0, \"ticks\": \"\"}}, \"type\": \"scattergeo\"}], \"scattergl\": [{\"marker\": {\"colorbar\": {\"outlinewidth\": 0, \"ticks\": \"\"}}, \"type\": \"scattergl\"}], \"scattermapbox\": [{\"marker\": {\"colorbar\": {\"outlinewidth\": 0, \"ticks\": \"\"}}, \"type\": \"scattermapbox\"}], \"scatterpolar\": [{\"marker\": {\"colorbar\": {\"outlinewidth\": 0, \"ticks\": \"\"}}, \"type\": \"scatterpolar\"}], \"scatterpolargl\": [{\"marker\": {\"colorbar\": {\"outlinewidth\": 0, \"ticks\": \"\"}}, \"type\": \"scatterpolargl\"}], \"scatterternary\": [{\"marker\": {\"colorbar\": {\"outlinewidth\": 0, \"ticks\": \"\"}}, \"type\": \"scatterternary\"}], \"surface\": [{\"colorbar\": {\"outlinewidth\": 0, \"ticks\": \"\"}, \"colorscale\": [[0.0, \"#0d0887\"], [0.1111111111111111, \"#46039f\"], [0.2222222222222222, \"#7201a8\"], [0.3333333333333333, \"#9c179e\"], [0.4444444444444444, \"#bd3786\"], [0.5555555555555556, \"#d8576b\"], [0.6666666666666666, \"#ed7953\"], [0.7777777777777778, \"#fb9f3a\"], [0.8888888888888888, \"#fdca26\"], [1.0, \"#f0f921\"]], \"type\": \"surface\"}], \"table\": [{\"cells\": {\"fill\": {\"color\": \"#EBF0F8\"}, \"line\": {\"color\": \"white\"}}, \"header\": {\"fill\": {\"color\": \"#C8D4E3\"}, \"line\": {\"color\": \"white\"}}, \"type\": \"table\"}]}, \"layout\": {\"annotationdefaults\": {\"arrowcolor\": \"#2a3f5f\", \"arrowhead\": 0, \"arrowwidth\": 1}, \"autotypenumbers\": \"strict\", \"coloraxis\": {\"colorbar\": {\"outlinewidth\": 0, \"ticks\": \"\"}}, \"colorscale\": {\"diverging\": [[0, \"#8e0152\"], [0.1, \"#c51b7d\"], [0.2, \"#de77ae\"], [0.3, \"#f1b6da\"], [0.4, \"#fde0ef\"], [0.5, \"#f7f7f7\"], [0.6, \"#e6f5d0\"], [0.7, \"#b8e186\"], [0.8, \"#7fbc41\"], [0.9, \"#4d9221\"], [1, \"#276419\"]], \"sequential\": [[0.0, \"#0d0887\"], [0.1111111111111111, \"#46039f\"], [0.2222222222222222, \"#7201a8\"], [0.3333333333333333, \"#9c179e\"], [0.4444444444444444, \"#bd3786\"], [0.5555555555555556, \"#d8576b\"], [0.6666666666666666, \"#ed7953\"], [0.7777777777777778, \"#fb9f3a\"], [0.8888888888888888, \"#fdca26\"], [1.0, \"#f0f921\"]], \"sequentialminus\": [[0.0, \"#0d0887\"], [0.1111111111111111, \"#46039f\"], [0.2222222222222222, \"#7201a8\"], [0.3333333333333333, \"#9c179e\"], [0.4444444444444444, \"#bd3786\"], [0.5555555555555556, \"#d8576b\"], [0.6666666666666666, \"#ed7953\"], [0.7777777777777778, \"#fb9f3a\"], [0.8888888888888888, \"#fdca26\"], [1.0, \"#f0f921\"]]}, \"colorway\": [\"#636efa\", \"#EF553B\", \"#00cc96\", \"#ab63fa\", \"#FFA15A\", \"#19d3f3\", \"#FF6692\", \"#B6E880\", \"#FF97FF\", \"#FECB52\"], \"font\": {\"color\": \"#2a3f5f\"}, \"geo\": {\"bgcolor\": \"white\", \"lakecolor\": \"white\", \"landcolor\": \"#E5ECF6\", \"showlakes\": true, \"showland\": true, \"subunitcolor\": \"white\"}, \"hoverlabel\": {\"align\": \"left\"}, \"hovermode\": \"closest\", \"mapbox\": {\"style\": \"light\"}, \"paper_bgcolor\": \"white\", \"plot_bgcolor\": \"#E5ECF6\", \"polar\": {\"angularaxis\": {\"gridcolor\": \"white\", \"linecolor\": \"white\", \"ticks\": \"\"}, \"bgcolor\": \"#E5ECF6\", \"radialaxis\": {\"gridcolor\": \"white\", \"linecolor\": \"white\", \"ticks\": \"\"}}, \"scene\": {\"xaxis\": {\"backgroundcolor\": \"#E5ECF6\", \"gridcolor\": \"white\", \"gridwidth\": 2, \"linecolor\": \"white\", \"showbackground\": true, \"ticks\": \"\", \"zerolinecolor\": \"white\"}, \"yaxis\": {\"backgroundcolor\": \"#E5ECF6\", \"gridcolor\": \"white\", \"gridwidth\": 2, \"linecolor\": \"white\", \"showbackground\": true, \"ticks\": \"\", \"zerolinecolor\": \"white\"}, \"zaxis\": {\"backgroundcolor\": \"#E5ECF6\", \"gridcolor\": \"white\", \"gridwidth\": 2, \"linecolor\": \"white\", \"showbackground\": true, \"ticks\": \"\", \"zerolinecolor\": \"white\"}}, \"shapedefaults\": {\"line\": {\"color\": \"#2a3f5f\"}}, \"ternary\": {\"aaxis\": {\"gridcolor\": \"white\", \"linecolor\": \"white\", \"ticks\": \"\"}, \"baxis\": {\"gridcolor\": \"white\", \"linecolor\": \"white\", \"ticks\": \"\"}, \"bgcolor\": \"#E5ECF6\", \"caxis\": {\"gridcolor\": \"white\", \"linecolor\": \"white\", \"ticks\": \"\"}}, \"title\": {\"x\": 0.05}, \"xaxis\": {\"automargin\": true, \"gridcolor\": \"white\", \"linecolor\": \"white\", \"ticks\": \"\", \"title\": {\"standoff\": 15}, \"zerolinecolor\": \"white\", \"zerolinewidth\": 2}, \"yaxis\": {\"automargin\": true, \"gridcolor\": \"white\", \"linecolor\": \"white\", \"ticks\": \"\", \"title\": {\"standoff\": 15}, \"zerolinecolor\": \"white\", \"zerolinewidth\": 2}}}},                        {\"responsive\": true}                    ).then(function(){\n",
       "                            \n",
       "var gd = document.getElementById('83143973-2f59-476e-9cde-0fac78fad63b');\n",
       "var x = new MutationObserver(function (mutations, observer) {{\n",
       "        var display = window.getComputedStyle(gd).display;\n",
       "        if (!display || display === 'none') {{\n",
       "            console.log([gd, 'removed!']);\n",
       "            Plotly.purge(gd);\n",
       "            observer.disconnect();\n",
       "        }}\n",
       "}});\n",
       "\n",
       "// Listen for the removal of the full notebook cells\n",
       "var notebookContainer = gd.closest('#notebook-container');\n",
       "if (notebookContainer) {{\n",
       "    x.observe(notebookContainer, {childList: true});\n",
       "}}\n",
       "\n",
       "// Listen for the clearing of the current output cell\n",
       "var outputEl = gd.closest('.output');\n",
       "if (outputEl) {{\n",
       "    x.observe(outputEl, {childList: true});\n",
       "}}\n",
       "\n",
       "                        })                };                });            </script>        </div>"
      ]
     },
     "metadata": {},
     "output_type": "display_data"
    }
   ],
   "source": [
    "# Sunburst Plot\n",
    "fig = px.sunburst(\n",
    "    df_expensive_neighborhoods_per_year,\n",
    "    names=\"neighborhood\",\n",
    "    parents='sale_price_sqr_foot',\n",
    "    values='gross_rent',\n",
    ")\n",
    "\n",
    "fig.show()"
   ]
  },
  {
   "cell_type": "code",
   "execution_count": null,
   "metadata": {},
   "outputs": [],
   "source": []
  }
 ],
 "metadata": {
  "file_extension": ".py",
  "kernelspec": {
   "display_name": "Pyvizen_1",
   "language": "python",
   "name": "myenv"
  },
  "language_info": {
   "codemirror_mode": {
    "name": "ipython",
    "version": 3
   },
   "file_extension": ".py",
   "mimetype": "text/x-python",
   "name": "python",
   "nbconvert_exporter": "python",
   "pygments_lexer": "ipython3",
   "version": "3.7.10"
  },
  "mimetype": "text/x-python",
  "name": "python",
  "npconvert_exporter": "python",
  "pygments_lexer": "ipython3",
  "version": 3
 },
 "nbformat": 4,
 "nbformat_minor": 4
}
